{
 "cells": [
  {
   "cell_type": "markdown",
   "metadata": {},
   "source": [
    "# 問卷資料分析"
   ]
  },
  {
   "cell_type": "code",
   "execution_count": 1,
   "metadata": {
    "tags": []
   },
   "outputs": [],
   "source": [
    "#載入所需函示庫\n",
    "from matplotlib import pyplot as plt\n",
    "%matplotlib inline\n",
    "# 設定圖形大小; DPI越大圖越大\n",
    "plt.rcParams[\"figure.dpi\"] = 80\n",
    "import seaborn as sns\n",
    "import pandas as pd\n",
    "import numpy as np\n",
    "import scipy.stats as stats\n",
    "import statsmodels.api as sm\n",
    "import statsmodels.stats.api as sms\n",
    "import statsmodels.formula.api as smf\n",
    "import math as math\n",
    "\n",
    "import statistics as st\n",
    "from sklearn.linear_model import LinearRegression\n",
    "import statsmodels.api as sm\n",
    "import statsmodels.stats.api as sms\n",
    "import statsmodels.formula.api as smf\n",
    "import statsmodels.stats.multicomp as smm\n",
    "import statsmodels\n",
    "import statsmodels.stats.libqsturng\n",
    "\n",
    "import warnings\n",
    "warnings.filterwarnings(\"ignore\")"
   ]
  },
  {
   "cell_type": "markdown",
   "metadata": {},
   "source": [
    "## 1. Kruskal-Wallis Test for Type of Prizes & Wilcoxon Rank Sum Test for Sex\n",
    "Before performing the nonparametric methods, we've tried the two-way ANOVA test for factor interaction.\\\n",
    "Since the required conditions of the ANOVA test are not satisfied, we then adopt the Kruskal-Wallis test and Wilcoxon Rank Sum Test.\n",
    "### Hypothesis of Two-Way ANOVA\n",
    "$H_0$: The type of prizes and the sex do not interact to affect the mean responses.\\\n",
    "$H_1$: The type of prizes and the sex interact to affect the mean responses.\\\n",
    "$\\alpha = 0.05$\n",
    "### Dataset"
   ]
  },
  {
   "cell_type": "code",
   "execution_count": 2,
   "metadata": {},
   "outputs": [
    {
     "name": "stdout",
     "output_type": "stream",
     "text": [
      "Head of dataset: \n"
     ]
    },
    {
     "data": {
      "text/html": [
       "<div>\n",
       "<style scoped>\n",
       "    .dataframe tbody tr th:only-of-type {\n",
       "        vertical-align: middle;\n",
       "    }\n",
       "\n",
       "    .dataframe tbody tr th {\n",
       "        vertical-align: top;\n",
       "    }\n",
       "\n",
       "    .dataframe thead th {\n",
       "        text-align: right;\n",
       "    }\n",
       "</style>\n",
       "<table border=\"1\" class=\"dataframe\">\n",
       "  <thead>\n",
       "    <tr style=\"text-align: right;\">\n",
       "      <th></th>\n",
       "      <th>時間戳記</th>\n",
       "      <th>食品飲料</th>\n",
       "      <th>優惠券\\禮品卡\\票券</th>\n",
       "      <th>文創品</th>\n",
       "      <th>衣服</th>\n",
       "      <th>書籍</th>\n",
       "      <th>彩妝</th>\n",
       "      <th>電子產品</th>\n",
       "      <th>抱枕、娃娃、療癒小物</th>\n",
       "      <th>性別</th>\n",
       "    </tr>\n",
       "  </thead>\n",
       "  <tbody>\n",
       "    <tr>\n",
       "      <th>0</th>\n",
       "      <td>2021-05-31 19:49:07.299</td>\n",
       "      <td>5</td>\n",
       "      <td>7</td>\n",
       "      <td>9</td>\n",
       "      <td>7</td>\n",
       "      <td>7</td>\n",
       "      <td>5</td>\n",
       "      <td>8</td>\n",
       "      <td>6</td>\n",
       "      <td>生理女</td>\n",
       "    </tr>\n",
       "    <tr>\n",
       "      <th>1</th>\n",
       "      <td>2021-05-31 19:55:01.019</td>\n",
       "      <td>8</td>\n",
       "      <td>10</td>\n",
       "      <td>10</td>\n",
       "      <td>7</td>\n",
       "      <td>10</td>\n",
       "      <td>8</td>\n",
       "      <td>4</td>\n",
       "      <td>1</td>\n",
       "      <td>生理男</td>\n",
       "    </tr>\n",
       "    <tr>\n",
       "      <th>2</th>\n",
       "      <td>2021-05-31 20:09:48.802</td>\n",
       "      <td>10</td>\n",
       "      <td>7</td>\n",
       "      <td>10</td>\n",
       "      <td>8</td>\n",
       "      <td>8</td>\n",
       "      <td>10</td>\n",
       "      <td>9</td>\n",
       "      <td>9</td>\n",
       "      <td>生理女</td>\n",
       "    </tr>\n",
       "    <tr>\n",
       "      <th>3</th>\n",
       "      <td>2021-05-31 20:12:18.670</td>\n",
       "      <td>8</td>\n",
       "      <td>6</td>\n",
       "      <td>6</td>\n",
       "      <td>8</td>\n",
       "      <td>5</td>\n",
       "      <td>1</td>\n",
       "      <td>8</td>\n",
       "      <td>8</td>\n",
       "      <td>生理男</td>\n",
       "    </tr>\n",
       "    <tr>\n",
       "      <th>4</th>\n",
       "      <td>2021-05-31 20:16:30.329</td>\n",
       "      <td>7</td>\n",
       "      <td>5</td>\n",
       "      <td>6</td>\n",
       "      <td>4</td>\n",
       "      <td>6</td>\n",
       "      <td>1</td>\n",
       "      <td>10</td>\n",
       "      <td>4</td>\n",
       "      <td>生理男</td>\n",
       "    </tr>\n",
       "  </tbody>\n",
       "</table>\n",
       "</div>"
      ],
      "text/plain": [
       "                     時間戳記  食品飲料  優惠券\\禮品卡\\票券  文創品  衣服  書籍  彩妝  電子產品  \\\n",
       "0 2021-05-31 19:49:07.299     5           7    9   7   7   5     8   \n",
       "1 2021-05-31 19:55:01.019     8          10   10   7  10   8     4   \n",
       "2 2021-05-31 20:09:48.802    10           7   10   8   8  10     9   \n",
       "3 2021-05-31 20:12:18.670     8           6    6   8   5   1     8   \n",
       "4 2021-05-31 20:16:30.329     7           5    6   4   6   1    10   \n",
       "\n",
       "   抱枕、娃娃、療癒小物   性別  \n",
       "0           6  生理女  \n",
       "1           1  生理男  \n",
       "2           9  生理女  \n",
       "3           8  生理男  \n",
       "4           4  生理男  "
      ]
     },
     "metadata": {},
     "output_type": "display_data"
    },
    {
     "name": "stdout",
     "output_type": "stream",
     "text": [
      "Tail of dataset: \n"
     ]
    },
    {
     "data": {
      "text/html": [
       "<div>\n",
       "<style scoped>\n",
       "    .dataframe tbody tr th:only-of-type {\n",
       "        vertical-align: middle;\n",
       "    }\n",
       "\n",
       "    .dataframe tbody tr th {\n",
       "        vertical-align: top;\n",
       "    }\n",
       "\n",
       "    .dataframe thead th {\n",
       "        text-align: right;\n",
       "    }\n",
       "</style>\n",
       "<table border=\"1\" class=\"dataframe\">\n",
       "  <thead>\n",
       "    <tr style=\"text-align: right;\">\n",
       "      <th></th>\n",
       "      <th>時間戳記</th>\n",
       "      <th>食品飲料</th>\n",
       "      <th>優惠券\\禮品卡\\票券</th>\n",
       "      <th>文創品</th>\n",
       "      <th>衣服</th>\n",
       "      <th>書籍</th>\n",
       "      <th>彩妝</th>\n",
       "      <th>電子產品</th>\n",
       "      <th>抱枕、娃娃、療癒小物</th>\n",
       "      <th>性別</th>\n",
       "    </tr>\n",
       "  </thead>\n",
       "  <tbody>\n",
       "    <tr>\n",
       "      <th>100</th>\n",
       "      <td>2021-06-06 20:11:21.911</td>\n",
       "      <td>1</td>\n",
       "      <td>1</td>\n",
       "      <td>6</td>\n",
       "      <td>6</td>\n",
       "      <td>8</td>\n",
       "      <td>1</td>\n",
       "      <td>8</td>\n",
       "      <td>6</td>\n",
       "      <td>生理男</td>\n",
       "    </tr>\n",
       "    <tr>\n",
       "      <th>101</th>\n",
       "      <td>2021-06-06 21:56:36.606</td>\n",
       "      <td>10</td>\n",
       "      <td>6</td>\n",
       "      <td>10</td>\n",
       "      <td>9</td>\n",
       "      <td>8</td>\n",
       "      <td>1</td>\n",
       "      <td>10</td>\n",
       "      <td>5</td>\n",
       "      <td>生理女</td>\n",
       "    </tr>\n",
       "    <tr>\n",
       "      <th>102</th>\n",
       "      <td>2021-06-07 09:42:35.322</td>\n",
       "      <td>6</td>\n",
       "      <td>9</td>\n",
       "      <td>4</td>\n",
       "      <td>1</td>\n",
       "      <td>5</td>\n",
       "      <td>5</td>\n",
       "      <td>7</td>\n",
       "      <td>1</td>\n",
       "      <td>生理女</td>\n",
       "    </tr>\n",
       "    <tr>\n",
       "      <th>103</th>\n",
       "      <td>2021-06-07 10:07:39.048</td>\n",
       "      <td>1</td>\n",
       "      <td>10</td>\n",
       "      <td>5</td>\n",
       "      <td>5</td>\n",
       "      <td>8</td>\n",
       "      <td>8</td>\n",
       "      <td>8</td>\n",
       "      <td>1</td>\n",
       "      <td>生理女</td>\n",
       "    </tr>\n",
       "    <tr>\n",
       "      <th>104</th>\n",
       "      <td>2021-06-07 10:39:47.691</td>\n",
       "      <td>4</td>\n",
       "      <td>5</td>\n",
       "      <td>5</td>\n",
       "      <td>7</td>\n",
       "      <td>7</td>\n",
       "      <td>6</td>\n",
       "      <td>8</td>\n",
       "      <td>8</td>\n",
       "      <td>生理男</td>\n",
       "    </tr>\n",
       "  </tbody>\n",
       "</table>\n",
       "</div>"
      ],
      "text/plain": [
       "                       時間戳記  食品飲料  優惠券\\禮品卡\\票券  文創品  衣服  書籍  彩妝  電子產品  \\\n",
       "100 2021-06-06 20:11:21.911     1           1    6   6   8   1     8   \n",
       "101 2021-06-06 21:56:36.606    10           6   10   9   8   1    10   \n",
       "102 2021-06-07 09:42:35.322     6           9    4   1   5   5     7   \n",
       "103 2021-06-07 10:07:39.048     1          10    5   5   8   8     8   \n",
       "104 2021-06-07 10:39:47.691     4           5    5   7   7   6     8   \n",
       "\n",
       "     抱枕、娃娃、療癒小物   性別  \n",
       "100           6  生理男  \n",
       "101           5  生理女  \n",
       "102           1  生理女  \n",
       "103           1  生理女  \n",
       "104           8  生理男  "
      ]
     },
     "metadata": {},
     "output_type": "display_data"
    }
   ],
   "source": [
    "df = pd.read_excel('Stat_2020_b_1_ANOVA.xlsx', sheet_name = 'form')\n",
    "print(\"Head of dataset: \")\n",
    "display(df.head())\n",
    "print(\"Tail of dataset: \")\n",
    "display(df.tail())"
   ]
  },
  {
   "cell_type": "code",
   "execution_count": 3,
   "metadata": {},
   "outputs": [
    {
     "name": "stdout",
     "output_type": "stream",
     "text": [
      "No. of male responses: 48\n",
      "No. of female responses: 57\n",
      "No. of total responses: 105\n"
     ]
    }
   ],
   "source": [
    "m = df[df['性別'] == '生理男']\n",
    "print(\"No. of male responses:\", m.shape[0])\n",
    "f = df[df['性別'] == '生理女']\n",
    "print(\"No. of female responses:\", f.shape[0])\n",
    "print(\"No. of total responses:\", df.shape[0])"
   ]
  },
  {
   "cell_type": "markdown",
   "metadata": {},
   "source": [
    "### Data Preprocessing"
   ]
  },
  {
   "cell_type": "code",
   "execution_count": 4,
   "metadata": {},
   "outputs": [
    {
     "name": "stdout",
     "output_type": "stream",
     "text": [
      "Head of data:\n"
     ]
    },
    {
     "data": {
      "text/html": [
       "<div>\n",
       "<style scoped>\n",
       "    .dataframe tbody tr th:only-of-type {\n",
       "        vertical-align: middle;\n",
       "    }\n",
       "\n",
       "    .dataframe tbody tr th {\n",
       "        vertical-align: top;\n",
       "    }\n",
       "\n",
       "    .dataframe thead th {\n",
       "        text-align: right;\n",
       "    }\n",
       "</style>\n",
       "<table border=\"1\" class=\"dataframe\">\n",
       "  <thead>\n",
       "    <tr style=\"text-align: right;\">\n",
       "      <th></th>\n",
       "      <th>y</th>\n",
       "      <th>form</th>\n",
       "      <th>sex</th>\n",
       "      <th>form_sex</th>\n",
       "    </tr>\n",
       "  </thead>\n",
       "  <tbody>\n",
       "    <tr>\n",
       "      <th>0</th>\n",
       "      <td>8</td>\n",
       "      <td>food</td>\n",
       "      <td>male</td>\n",
       "      <td>food_male</td>\n",
       "    </tr>\n",
       "    <tr>\n",
       "      <th>1</th>\n",
       "      <td>8</td>\n",
       "      <td>food</td>\n",
       "      <td>male</td>\n",
       "      <td>food_male</td>\n",
       "    </tr>\n",
       "    <tr>\n",
       "      <th>2</th>\n",
       "      <td>7</td>\n",
       "      <td>food</td>\n",
       "      <td>male</td>\n",
       "      <td>food_male</td>\n",
       "    </tr>\n",
       "    <tr>\n",
       "      <th>3</th>\n",
       "      <td>6</td>\n",
       "      <td>food</td>\n",
       "      <td>male</td>\n",
       "      <td>food_male</td>\n",
       "    </tr>\n",
       "    <tr>\n",
       "      <th>4</th>\n",
       "      <td>10</td>\n",
       "      <td>food</td>\n",
       "      <td>male</td>\n",
       "      <td>food_male</td>\n",
       "    </tr>\n",
       "  </tbody>\n",
       "</table>\n",
       "</div>"
      ],
      "text/plain": [
       "    y  form   sex   form_sex\n",
       "0   8  food  male  food_male\n",
       "1   8  food  male  food_male\n",
       "2   7  food  male  food_male\n",
       "3   6  food  male  food_male\n",
       "4  10  food  male  food_male"
      ]
     },
     "metadata": {},
     "output_type": "display_data"
    },
    {
     "name": "stdout",
     "output_type": "stream",
     "text": [
      "Tail of data:\n"
     ]
    },
    {
     "data": {
      "text/html": [
       "<div>\n",
       "<style scoped>\n",
       "    .dataframe tbody tr th:only-of-type {\n",
       "        vertical-align: middle;\n",
       "    }\n",
       "\n",
       "    .dataframe tbody tr th {\n",
       "        vertical-align: top;\n",
       "    }\n",
       "\n",
       "    .dataframe thead th {\n",
       "        text-align: right;\n",
       "    }\n",
       "</style>\n",
       "<table border=\"1\" class=\"dataframe\">\n",
       "  <thead>\n",
       "    <tr style=\"text-align: right;\">\n",
       "      <th></th>\n",
       "      <th>y</th>\n",
       "      <th>form</th>\n",
       "      <th>sex</th>\n",
       "      <th>form_sex</th>\n",
       "    </tr>\n",
       "  </thead>\n",
       "  <tbody>\n",
       "    <tr>\n",
       "      <th>835</th>\n",
       "      <td>2</td>\n",
       "      <td>dolls</td>\n",
       "      <td>female</td>\n",
       "      <td>dolls_female</td>\n",
       "    </tr>\n",
       "    <tr>\n",
       "      <th>836</th>\n",
       "      <td>6</td>\n",
       "      <td>dolls</td>\n",
       "      <td>female</td>\n",
       "      <td>dolls_female</td>\n",
       "    </tr>\n",
       "    <tr>\n",
       "      <th>837</th>\n",
       "      <td>5</td>\n",
       "      <td>dolls</td>\n",
       "      <td>female</td>\n",
       "      <td>dolls_female</td>\n",
       "    </tr>\n",
       "    <tr>\n",
       "      <th>838</th>\n",
       "      <td>1</td>\n",
       "      <td>dolls</td>\n",
       "      <td>female</td>\n",
       "      <td>dolls_female</td>\n",
       "    </tr>\n",
       "    <tr>\n",
       "      <th>839</th>\n",
       "      <td>1</td>\n",
       "      <td>dolls</td>\n",
       "      <td>female</td>\n",
       "      <td>dolls_female</td>\n",
       "    </tr>\n",
       "  </tbody>\n",
       "</table>\n",
       "</div>"
      ],
      "text/plain": [
       "     y   form     sex      form_sex\n",
       "835  2  dolls  female  dolls_female\n",
       "836  6  dolls  female  dolls_female\n",
       "837  5  dolls  female  dolls_female\n",
       "838  1  dolls  female  dolls_female\n",
       "839  1  dolls  female  dolls_female"
      ]
     },
     "metadata": {},
     "output_type": "display_data"
    }
   ],
   "source": [
    "b1 = df['食品飲料'][df['性別'] == '生理男'].values.tolist()\n",
    "b2 = df['食品飲料'][df['性別'] == '生理女'].values.tolist()\n",
    "b3 = df['優惠券\\禮品卡\\票券'][df['性別'] == '生理男'].values.tolist()\n",
    "b4 = df['優惠券\\禮品卡\\票券'][df['性別'] == '生理女'].values.tolist()\n",
    "b5 = df['文創品'][df['性別'] == '生理男'].values.tolist()\n",
    "b6 =  df['文創品'][df['性別'] == '生理女'].values.tolist()\n",
    "b7 =  df['衣服'][df['性別'] == '生理男'].values.tolist()\n",
    "b8 = df['衣服'][df['性別'] == '生理女'].values.tolist()\n",
    "b9 = df['書籍'][df['性別'] == '生理男'].values.tolist()\n",
    "b10 =  df['書籍'][df['性別'] == '生理女'].values.tolist()\n",
    "b11 =  df['彩妝'][df['性別'] == '生理男'].values.tolist()\n",
    "b12 = df['彩妝'][df['性別'] == '生理女'].values.tolist()\n",
    "b13 =  df['電子產品'][df['性別'] == '生理男'].values.tolist()\n",
    "b14 = df['電子產品'][df['性別'] == '生理女'].values.tolist()\n",
    "b15 =  df['抱枕、娃娃、療癒小物'][df['性別'] == '生理男'].values.tolist()\n",
    "b16 = df['抱枕、娃娃、療癒小物'][df['性別'] == '生理女'].values.tolist()\n",
    "\n",
    "df1 = pd.DataFrame({'y': b1+b2+b3+b4+b5+b6+b7+b8+b9+b10+b11+b12+b13+b14+b15+b16,\n",
    "                    'form':['food']*105 + ['tickes']*105 +['culture']*105 +['clothes']*105 + ['books']*105 + ['makeup']*105+ ['3c']*105+ ['dolls']*105,\n",
    "                    'sex':(['male']*48 + ['female']*57)*8  })\n",
    "pd.set_option('display.max_rows', 10)\n",
    "df1['form_sex'] = df1['form'] + \"_\" + df1['sex']\n",
    "\n",
    "print(\"Head of data:\")\n",
    "display(df1.head())\n",
    "print(\"Tail of data:\")\n",
    "display(df1.tail())"
   ]
  },
  {
   "cell_type": "markdown",
   "metadata": {},
   "source": [
    "### ANOVA Test for Mean Equality and Factor Interaction"
   ]
  },
  {
   "cell_type": "code",
   "execution_count": 5,
   "metadata": {},
   "outputs": [
    {
     "data": {
      "text/html": [
       "<div>\n",
       "<style scoped>\n",
       "    .dataframe tbody tr th:only-of-type {\n",
       "        vertical-align: middle;\n",
       "    }\n",
       "\n",
       "    .dataframe tbody tr th {\n",
       "        vertical-align: top;\n",
       "    }\n",
       "\n",
       "    .dataframe thead th {\n",
       "        text-align: right;\n",
       "    }\n",
       "</style>\n",
       "<table border=\"1\" class=\"dataframe\">\n",
       "  <thead>\n",
       "    <tr style=\"text-align: right;\">\n",
       "      <th></th>\n",
       "      <th>sum_sq</th>\n",
       "      <th>df</th>\n",
       "      <th>F</th>\n",
       "      <th>PR(&gt;F)</th>\n",
       "    </tr>\n",
       "  </thead>\n",
       "  <tbody>\n",
       "    <tr>\n",
       "      <th>C(form)</th>\n",
       "      <td>717.138095</td>\n",
       "      <td>7.0</td>\n",
       "      <td>15.957302</td>\n",
       "      <td>9.672708e-20</td>\n",
       "    </tr>\n",
       "    <tr>\n",
       "      <th>C(sex)</th>\n",
       "      <td>147.392798</td>\n",
       "      <td>1.0</td>\n",
       "      <td>22.957837</td>\n",
       "      <td>1.963804e-06</td>\n",
       "    </tr>\n",
       "    <tr>\n",
       "      <th>C(form):C(sex)</th>\n",
       "      <td>226.859301</td>\n",
       "      <td>7.0</td>\n",
       "      <td>5.047929</td>\n",
       "      <td>1.271536e-05</td>\n",
       "    </tr>\n",
       "    <tr>\n",
       "      <th>Residual</th>\n",
       "      <td>5290.205044</td>\n",
       "      <td>824.0</td>\n",
       "      <td>NaN</td>\n",
       "      <td>NaN</td>\n",
       "    </tr>\n",
       "  </tbody>\n",
       "</table>\n",
       "</div>"
      ],
      "text/plain": [
       "                     sum_sq     df          F        PR(>F)\n",
       "C(form)          717.138095    7.0  15.957302  9.672708e-20\n",
       "C(sex)           147.392798    1.0  22.957837  1.963804e-06\n",
       "C(form):C(sex)   226.859301    7.0   5.047929  1.271536e-05\n",
       "Residual        5290.205044  824.0        NaN           NaN"
      ]
     },
     "execution_count": 5,
     "metadata": {},
     "output_type": "execute_result"
    }
   ],
   "source": [
    "result = smf.ols('y ~ C(form) + C(sex) + C(form):C(sex)', data=df1).fit()\n",
    "#results.summary()\n",
    "aov = sms.anova_lm(result, typ=2)\n",
    "aov"
   ]
  },
  {
   "cell_type": "markdown",
   "metadata": {},
   "source": [
    "According to the first row, we can infer that there are differences in the appeal of lottery of different types of prizes.\\\n",
    "According to the second row, we can infer that there are differences in the appeal of lottery between NTU students with different sex.\\\n",
    "According to the third row, since p-value = 1.2715e-05 < 0.05, we reject the null hypothesis.\\\n",
    "There is sufficient evidence to infer that there's interaction between the two factors."
   ]
  },
  {
   "cell_type": "markdown",
   "metadata": {},
   "source": [
    "### Checking the Required Conditions\n",
    "#### (1) Normality Assumption\n",
    "##### Plotting histogram of the residuals"
   ]
  },
  {
   "cell_type": "code",
   "execution_count": 6,
   "metadata": {},
   "outputs": [
    {
     "data": {
      "image/png": "[encoded data removed]",
      "text/plain": [
       "<Figure size 480x320 with 1 Axes>"
      ]
     },
     "metadata": {
      "needs_background": "light"
     },
     "output_type": "display_data"
    }
   ],
   "source": [
    "_ = plt.hist(result.resid, bins = 'auto')"
   ]
  },
  {
   "cell_type": "markdown",
   "metadata": {},
   "source": [
    "##### Plotting Q-Q plot of the residuals"
   ]
  },
  {
   "cell_type": "code",
   "execution_count": 7,
   "metadata": {},
   "outputs": [
    {
     "data": {
      "image/png": "[encoded data removed]",
      "text/plain": [
       "<Figure size 480x320 with 1 Axes>"
      ]
     },
     "metadata": {
      "needs_background": "light"
     },
     "output_type": "display_data"
    }
   ],
   "source": [
    "fig = sm.qqplot(result.resid, stats.norm, fit=True, line='45')"
   ]
  },
  {
   "cell_type": "markdown",
   "metadata": {},
   "source": [
    "##### Shapiro-Wilk normality test\n",
    "\n",
    "$H_0$: The distribution is normal.  \n",
    "$H_1$: The distribution is not normal.  \n",
    "$\\alpha$ = 0.05"
   ]
  },
  {
   "cell_type": "code",
   "execution_count": 8,
   "metadata": {},
   "outputs": [
    {
     "name": "stdout",
     "output_type": "stream",
     "text": [
      "Statistics=0.9829, p=0.0000\n"
     ]
    }
   ],
   "source": [
    "stat, p = stats.shapiro(result.resid)\n",
    "print('Statistics=%.4f, p=%.4f' % (stat, p))"
   ]
  },
  {
   "cell_type": "markdown",
   "metadata": {},
   "source": [
    "Since the p-value = 0.0000 < 0.05, we reject the null hypothesis.  \n",
    "The normality assumption is not satisfied.  \n",
    "Thus, the result of the ANOVA test might not be that accurate."
   ]
  },
  {
   "cell_type": "markdown",
   "metadata": {},
   "source": [
    "#### (2) Equal Variance Assumption\n",
    "##### Bartlett's Test for Eaual Variances\n",
    "\n",
    "$H_0$: Variances of different treatment groups are equal.  \n",
    "$H_1$: At least two treatment groups have different variance.  \n",
    "$\\alpha$ = 0.05"
   ]
  },
  {
   "cell_type": "code",
   "execution_count": 40,
   "metadata": {},
   "outputs": [
    {
     "data": {
      "text/plain": [
       "BartlettResult(statistic=26.041684871135047, pvalue=0.03758680618951096)"
      ]
     },
     "execution_count": 40,
     "metadata": {},
     "output_type": "execute_result"
    }
   ],
   "source": [
    "df1['resid'] = result.resid\n",
    "all_level = df1.form_sex.unique()\n",
    "\n",
    "data_list = []\n",
    "for allevel in all_level:\n",
    "    data_list.append(df1['resid'][df1['form_sex'] == allevel])\n",
    "\n",
    "stats.bartlett(*data_list)"
   ]
  },
  {
   "cell_type": "markdown",
   "metadata": {},
   "source": [
    "Since p-value = 0.0376 < 0.05, we reject the null hypotesis.  \n",
    "The result suggest that equal variance assumption is violated.  \n",
    "Thus, the result of the ANOVA test might not be that accurate."
   ]
  },
  {
   "cell_type": "markdown",
   "metadata": {},
   "source": [
    "#### (3) Independent Assumption\n",
    "The observations are independent."
   ]
  },
  {
   "cell_type": "markdown",
   "metadata": {},
   "source": [
    "Since the required conditions are not satisfied, we do not apply two-way ANOVA test.\n",
    "### Kruskal-Wallis Test for Type of Prizes\n",
    "\n",
    "$H_0$: The locations of all the 8 populations are the same.<br>\n",
    "$H_1$: Not all 8 population locations are the same.  \n",
    "$\\alpha$ = 0.05"
   ]
  },
  {
   "cell_type": "code",
   "execution_count": 9,
   "metadata": {},
   "outputs": [
    {
     "data": {
      "text/html": [
       "<div>\n",
       "<style scoped>\n",
       "    .dataframe tbody tr th:only-of-type {\n",
       "        vertical-align: middle;\n",
       "    }\n",
       "\n",
       "    .dataframe tbody tr th {\n",
       "        vertical-align: top;\n",
       "    }\n",
       "\n",
       "    .dataframe thead th {\n",
       "        text-align: right;\n",
       "    }\n",
       "</style>\n",
       "<table border=\"1\" class=\"dataframe\">\n",
       "  <thead>\n",
       "    <tr style=\"text-align: right;\">\n",
       "      <th></th>\n",
       "      <th>value</th>\n",
       "      <th>rank</th>\n",
       "    </tr>\n",
       "  </thead>\n",
       "  <tbody>\n",
       "    <tr>\n",
       "      <th>0</th>\n",
       "      <td>1</td>\n",
       "      <td>37.5</td>\n",
       "    </tr>\n",
       "    <tr>\n",
       "      <th>1</th>\n",
       "      <td>2</td>\n",
       "      <td>95.5</td>\n",
       "    </tr>\n",
       "    <tr>\n",
       "      <th>2</th>\n",
       "      <td>3</td>\n",
       "      <td>149.5</td>\n",
       "    </tr>\n",
       "    <tr>\n",
       "      <th>3</th>\n",
       "      <td>4</td>\n",
       "      <td>209.5</td>\n",
       "    </tr>\n",
       "    <tr>\n",
       "      <th>4</th>\n",
       "      <td>5</td>\n",
       "      <td>273.0</td>\n",
       "    </tr>\n",
       "    <tr>\n",
       "      <th>5</th>\n",
       "      <td>6</td>\n",
       "      <td>362.0</td>\n",
       "    </tr>\n",
       "    <tr>\n",
       "      <th>6</th>\n",
       "      <td>7</td>\n",
       "      <td>467.5</td>\n",
       "    </tr>\n",
       "    <tr>\n",
       "      <th>7</th>\n",
       "      <td>8</td>\n",
       "      <td>590.0</td>\n",
       "    </tr>\n",
       "    <tr>\n",
       "      <th>8</th>\n",
       "      <td>9</td>\n",
       "      <td>700.0</td>\n",
       "    </tr>\n",
       "    <tr>\n",
       "      <th>9</th>\n",
       "      <td>10</td>\n",
       "      <td>790.5</td>\n",
       "    </tr>\n",
       "  </tbody>\n",
       "</table>\n",
       "</div>"
      ],
      "text/plain": [
       "   value   rank\n",
       "0      1   37.5\n",
       "1      2   95.5\n",
       "2      3  149.5\n",
       "3      4  209.5\n",
       "4      5  273.0\n",
       "5      6  362.0\n",
       "6      7  467.5\n",
       "7      8  590.0\n",
       "8      9  700.0\n",
       "9     10  790.5"
      ]
     },
     "execution_count": 9,
     "metadata": {},
     "output_type": "execute_result"
    }
   ],
   "source": [
    "b1 = df['食品飲料'].values.tolist()\n",
    "b2 = df['優惠券\\禮品卡\\票券'].values.tolist()\n",
    "b3 = df['文創品'].values.tolist()\n",
    "b4 =  df['衣服'].values.tolist()\n",
    "b5 = df['書籍'].values.tolist()\n",
    "b6 =  df['彩妝'].values.tolist()\n",
    "b7 =  df['電子產品'].values.tolist()\n",
    "b8 =  df['抱枕、娃娃、療癒小物'].values.tolist()\n",
    "\n",
    "\n",
    "alldata = np.concatenate([b1, b2, b3, b4, b5, b6, b7, b8])\n",
    "alldata.sort()\n",
    "tmpdf = pd.DataFrame(({'value': alldata}))\n",
    "tmpdf['rank'] = tmpdf.index + 1\n",
    "value2rank = tmpdf.groupby('value').mean().reset_index()\n",
    "value2rank"
   ]
  },
  {
   "cell_type": "code",
   "execution_count": 10,
   "metadata": {},
   "outputs": [
    {
     "name": "stdout",
     "output_type": "stream",
     "text": [
      "T1 = 42527.000000\n",
      "T2 = 46349.000000\n",
      "T3 = 40506.500000\n",
      "T4 = 45826.000000\n",
      "T5 = 42114.000000\n",
      "T6 = 31527.500000\n",
      "T7 = 63659.000000\n",
      "T8 = 40711.000000\n"
     ]
    }
   ],
   "source": [
    "samp1 = pd.DataFrame({'value': b1})\n",
    "samp1 = pd.merge(samp1, value2rank)\n",
    "T1 = samp1['rank'].sum()\n",
    "\n",
    "samp2 = pd.DataFrame({'value': b2})\n",
    "samp2 = pd.merge(samp2, value2rank)\n",
    "T2 = samp2['rank'].sum()\n",
    "\n",
    "samp3 = pd.DataFrame({'value': b3})\n",
    "samp3 = pd.merge(samp3, value2rank)\n",
    "T3 = samp3['rank'].sum()\n",
    "\n",
    "samp4 = pd.DataFrame({'value': b4})\n",
    "samp4 = pd.merge(samp4, value2rank)\n",
    "T4 = samp4['rank'].sum()\n",
    "\n",
    "samp5 = pd.DataFrame({'value': b5})\n",
    "samp5 = pd.merge(samp5, value2rank)\n",
    "T5 = samp5['rank'].sum()\n",
    "\n",
    "samp6 = pd.DataFrame({'value': b6})\n",
    "samp6 = pd.merge(samp6, value2rank)\n",
    "T6 = samp6['rank'].sum()\n",
    "\n",
    "samp7 = pd.DataFrame({'value': b7})\n",
    "samp7 = pd.merge(samp7, value2rank)\n",
    "T7 = samp7['rank'].sum()\n",
    "\n",
    "samp8 = pd.DataFrame({'value': b8})\n",
    "samp8 = pd.merge(samp8, value2rank)\n",
    "T8 = samp8['rank'].sum()\n",
    "\n",
    "\n",
    "\n",
    "print(\"T1 = %f\" % T1)\n",
    "print(\"T2 = %f\" % T2)\n",
    "print(\"T3 = %f\" % T3)\n",
    "print(\"T4 = %f\" % T4)\n",
    "print(\"T5 = %f\" % T5)\n",
    "print(\"T6 = %f\" % T6)\n",
    "print(\"T7 = %f\" % T7)\n",
    "print(\"T8 = %f\" % T8)"
   ]
  },
  {
   "cell_type": "code",
   "execution_count": 11,
   "metadata": {},
   "outputs": [
    {
     "name": "stdout",
     "output_type": "stream",
     "text": [
      "H = 93.74236250980721\n",
      "p-value = 0.0\n"
     ]
    }
   ],
   "source": [
    "n1 = np.array(b1).shape[0]\n",
    "n2 = np.array(b2).shape[0]\n",
    "n3 = np.array(b3).shape[0]\n",
    "n4 = np.array(b4).shape[0]\n",
    "n5 = np.array(b5).shape[0]\n",
    "n6 = np.array(b6).shape[0]\n",
    "n7 = np.array(b7).shape[0]\n",
    "n8 = np.array(b8).shape[0]\n",
    "\n",
    "k = 8\n",
    "n = n1+n2+n3+n4+n5+n6+n7+n8\n",
    "H = 12/ n / (n+1) * (T1**2/n1 + T2**2/n2 + T3**2/n3 + T4**2/n4 + T5**2/n5 + T6**2/n6 + T7**2/n7 + T8**2/n8 )-3*(n+1)\n",
    "pvalue = 1 - stats.chi2.cdf(H, k-1)\n",
    "\n",
    "print(\"H =\", H)\n",
    "print(\"p-value =\", pvalue)"
   ]
  },
  {
   "cell_type": "markdown",
   "metadata": {},
   "source": [
    "Since p-value < 0.05, we reject the null hypothesis.  \n",
    "There is sufficient evidence to infer that for different types of prizes, people's willingness are not the same."
   ]
  },
  {
   "cell_type": "markdown",
   "metadata": {},
   "source": [
    "### Wilcoxon Rank Sum Test for Sex\n",
    "$H_0:$ Male's willingness poplulation location are not smaller than female's.<br>\n",
    "$H_1:$ Male's willingness poplulation location are smaller than female's.  \n",
    "$\\alpha$ = 0.05"
   ]
  },
  {
   "cell_type": "code",
   "execution_count": 12,
   "metadata": {},
   "outputs": [
    {
     "data": {
      "text/html": [
       "<div>\n",
       "<style scoped>\n",
       "    .dataframe tbody tr th:only-of-type {\n",
       "        vertical-align: middle;\n",
       "    }\n",
       "\n",
       "    .dataframe tbody tr th {\n",
       "        vertical-align: top;\n",
       "    }\n",
       "\n",
       "    .dataframe thead th {\n",
       "        text-align: right;\n",
       "    }\n",
       "</style>\n",
       "<table border=\"1\" class=\"dataframe\">\n",
       "  <thead>\n",
       "    <tr style=\"text-align: right;\">\n",
       "      <th></th>\n",
       "      <th>y</th>\n",
       "      <th>form</th>\n",
       "      <th>sex</th>\n",
       "    </tr>\n",
       "  </thead>\n",
       "  <tbody>\n",
       "    <tr>\n",
       "      <th>0</th>\n",
       "      <td>8</td>\n",
       "      <td>food</td>\n",
       "      <td>male</td>\n",
       "    </tr>\n",
       "    <tr>\n",
       "      <th>1</th>\n",
       "      <td>8</td>\n",
       "      <td>food</td>\n",
       "      <td>male</td>\n",
       "    </tr>\n",
       "    <tr>\n",
       "      <th>2</th>\n",
       "      <td>7</td>\n",
       "      <td>food</td>\n",
       "      <td>male</td>\n",
       "    </tr>\n",
       "    <tr>\n",
       "      <th>3</th>\n",
       "      <td>6</td>\n",
       "      <td>food</td>\n",
       "      <td>male</td>\n",
       "    </tr>\n",
       "    <tr>\n",
       "      <th>4</th>\n",
       "      <td>10</td>\n",
       "      <td>food</td>\n",
       "      <td>male</td>\n",
       "    </tr>\n",
       "    <tr>\n",
       "      <th>...</th>\n",
       "      <td>...</td>\n",
       "      <td>...</td>\n",
       "      <td>...</td>\n",
       "    </tr>\n",
       "    <tr>\n",
       "      <th>835</th>\n",
       "      <td>2</td>\n",
       "      <td>dolls</td>\n",
       "      <td>female</td>\n",
       "    </tr>\n",
       "    <tr>\n",
       "      <th>836</th>\n",
       "      <td>6</td>\n",
       "      <td>dolls</td>\n",
       "      <td>female</td>\n",
       "    </tr>\n",
       "    <tr>\n",
       "      <th>837</th>\n",
       "      <td>5</td>\n",
       "      <td>dolls</td>\n",
       "      <td>female</td>\n",
       "    </tr>\n",
       "    <tr>\n",
       "      <th>838</th>\n",
       "      <td>1</td>\n",
       "      <td>dolls</td>\n",
       "      <td>female</td>\n",
       "    </tr>\n",
       "    <tr>\n",
       "      <th>839</th>\n",
       "      <td>1</td>\n",
       "      <td>dolls</td>\n",
       "      <td>female</td>\n",
       "    </tr>\n",
       "  </tbody>\n",
       "</table>\n",
       "<p>840 rows × 3 columns</p>\n",
       "</div>"
      ],
      "text/plain": [
       "      y   form     sex\n",
       "0     8   food    male\n",
       "1     8   food    male\n",
       "2     7   food    male\n",
       "3     6   food    male\n",
       "4    10   food    male\n",
       "..   ..    ...     ...\n",
       "835   2  dolls  female\n",
       "836   6  dolls  female\n",
       "837   5  dolls  female\n",
       "838   1  dolls  female\n",
       "839   1  dolls  female\n",
       "\n",
       "[840 rows x 3 columns]"
      ]
     },
     "execution_count": 12,
     "metadata": {},
     "output_type": "execute_result"
    }
   ],
   "source": [
    "b1 = df['食品飲料'][df['性別'] == '生理男'].values.tolist()\n",
    "b2 = df['食品飲料'][df['性別'] == '生理女'].values.tolist()\n",
    "b3 = df['優惠券\\禮品卡\\票券'][df['性別'] == '生理男'].values.tolist()\n",
    "b4 = df['優惠券\\禮品卡\\票券'][df['性別'] == '生理女'].values.tolist()\n",
    "b5 = df['文創品'][df['性別'] == '生理男'].values.tolist()\n",
    "b6 =  df['文創品'][df['性別'] == '生理女'].values.tolist()\n",
    "b7 =  df['衣服'][df['性別'] == '生理男'].values.tolist()\n",
    "b8 = df['衣服'][df['性別'] == '生理女'].values.tolist()\n",
    "b9 = df['書籍'][df['性別'] == '生理男'].values.tolist()\n",
    "b10 =  df['書籍'][df['性別'] == '生理女'].values.tolist()\n",
    "b11 =  df['彩妝'][df['性別'] == '生理男'].values.tolist()\n",
    "b12 = df['彩妝'][df['性別'] == '生理女'].values.tolist()\n",
    "b13 =  df['電子產品'][df['性別'] == '生理男'].values.tolist()\n",
    "b14 = df['電子產品'][df['性別'] == '生理女'].values.tolist()\n",
    "b15 =  df['抱枕、娃娃、療癒小物'][df['性別'] == '生理男'].values.tolist()\n",
    "b16 = df['抱枕、娃娃、療癒小物'][df['性別'] == '生理女'].values.tolist()\n",
    "\n",
    "df1 = pd.DataFrame({'y': b1+b2+b3+b4+b5+b6+b7+b8+b9+b10+b11+b12+b13+b14+b15+b16,\n",
    "                    'form':['food']*105 + ['tickes']*105 +['culture']*105 +['clothes']*105 + ['books']*105 + ['makeup']*105+ ['3c']*105+ ['dolls']*105,\n",
    "                    'sex':(['male']*48 + ['female']*57)*8  })\n",
    "pd.set_option('display.max_rows', 10)\n",
    "df1"
   ]
  },
  {
   "cell_type": "code",
   "execution_count": 13,
   "metadata": {},
   "outputs": [
    {
     "data": {
      "text/plain": [
       "MannwhitneyuResult(statistic=73652.5, pvalue=3.245149836011175e-05)"
      ]
     },
     "execution_count": 13,
     "metadata": {},
     "output_type": "execute_result"
    }
   ],
   "source": [
    "stats.mannwhitneyu(df1['y'][df1['sex']=='male'], df1['y'][df1['sex']=='female'], alternative = 'less')"
   ]
  },
  {
   "cell_type": "markdown",
   "metadata": {},
   "source": [
    "Since p-value < 0.05, we reject the null hypothesis.  \n",
    "There is sufficient evidence that male's willingness are less than female's."
   ]
  },
  {
   "cell_type": "markdown",
   "metadata": {},
   "source": [
    "## 2. Kruskal-Wallis Test for Number of Prizes\n",
    "Before performing the nonparametric method, we've tried the one-way ANOVA test for mean equality.  \n",
    "Since the required conditions of the ANOVA test are not satisfied, we then adopt the Kruskal-Wallis test."
   ]
  },
  {
   "cell_type": "markdown",
   "metadata": {},
   "source": [
    "### Hypothesis of One-Way ANOVA\n",
    "Let treatment 1 be the lottery with 1 to 3 prizes,  \n",
    "treatment 2 be the one with 3 to 5 prizes,  \n",
    "and treatment 3 be the one with more than 5 prizes.  \n",
    "Let $\\mu_i$ be the mean of treatment $i$ and $\\sigma_i^2$ be the variance of treatment $i$, $i = 1,2,3$.  \n",
    "\n",
    "$H_0$: $\\mu_1$ = $\\mu_2$ = $\\mu_3$  \n",
    "$H_1$: At least two means differ.  \n",
    "$\\alpha$ = 0.05"
   ]
  },
  {
   "cell_type": "markdown",
   "metadata": {},
   "source": [
    "### Dataset"
   ]
  },
  {
   "cell_type": "code",
   "execution_count": 14,
   "metadata": {},
   "outputs": [
    {
     "name": "stdout",
     "output_type": "stream",
     "text": [
      "Head of dataset:\n"
     ]
    },
    {
     "data": {
      "text/html": [
       "<div>\n",
       "<style scoped>\n",
       "    .dataframe tbody tr th:only-of-type {\n",
       "        vertical-align: middle;\n",
       "    }\n",
       "\n",
       "    .dataframe tbody tr th {\n",
       "        vertical-align: top;\n",
       "    }\n",
       "\n",
       "    .dataframe thead th {\n",
       "        text-align: right;\n",
       "    }\n",
       "</style>\n",
       "<table border=\"1\" class=\"dataframe\">\n",
       "  <thead>\n",
       "    <tr style=\"text-align: right;\">\n",
       "      <th></th>\n",
       "      <th>1 to 3</th>\n",
       "      <th>3 to 5</th>\n",
       "      <th>more than 5</th>\n",
       "    </tr>\n",
       "  </thead>\n",
       "  <tbody>\n",
       "    <tr>\n",
       "      <th>0</th>\n",
       "      <td>5</td>\n",
       "      <td>6</td>\n",
       "      <td>9</td>\n",
       "    </tr>\n",
       "    <tr>\n",
       "      <th>1</th>\n",
       "      <td>10</td>\n",
       "      <td>10</td>\n",
       "      <td>10</td>\n",
       "    </tr>\n",
       "    <tr>\n",
       "      <th>2</th>\n",
       "      <td>10</td>\n",
       "      <td>10</td>\n",
       "      <td>10</td>\n",
       "    </tr>\n",
       "    <tr>\n",
       "      <th>3</th>\n",
       "      <td>9</td>\n",
       "      <td>9</td>\n",
       "      <td>10</td>\n",
       "    </tr>\n",
       "    <tr>\n",
       "      <th>4</th>\n",
       "      <td>5</td>\n",
       "      <td>6</td>\n",
       "      <td>6</td>\n",
       "    </tr>\n",
       "  </tbody>\n",
       "</table>\n",
       "</div>"
      ],
      "text/plain": [
       "    1 to 3  3 to 5  more than 5\n",
       "0        5       6            9\n",
       "1       10      10           10\n",
       "2       10      10           10\n",
       "3        9       9           10\n",
       "4        5       6            6"
      ]
     },
     "metadata": {},
     "output_type": "display_data"
    },
    {
     "name": "stdout",
     "output_type": "stream",
     "text": [
      "Tail of dataset:\n"
     ]
    },
    {
     "data": {
      "text/html": [
       "<div>\n",
       "<style scoped>\n",
       "    .dataframe tbody tr th:only-of-type {\n",
       "        vertical-align: middle;\n",
       "    }\n",
       "\n",
       "    .dataframe tbody tr th {\n",
       "        vertical-align: top;\n",
       "    }\n",
       "\n",
       "    .dataframe thead th {\n",
       "        text-align: right;\n",
       "    }\n",
       "</style>\n",
       "<table border=\"1\" class=\"dataframe\">\n",
       "  <thead>\n",
       "    <tr style=\"text-align: right;\">\n",
       "      <th></th>\n",
       "      <th>1 to 3</th>\n",
       "      <th>3 to 5</th>\n",
       "      <th>more than 5</th>\n",
       "    </tr>\n",
       "  </thead>\n",
       "  <tbody>\n",
       "    <tr>\n",
       "      <th>100</th>\n",
       "      <td>6</td>\n",
       "      <td>6</td>\n",
       "      <td>6</td>\n",
       "    </tr>\n",
       "    <tr>\n",
       "      <th>101</th>\n",
       "      <td>5</td>\n",
       "      <td>7</td>\n",
       "      <td>10</td>\n",
       "    </tr>\n",
       "    <tr>\n",
       "      <th>102</th>\n",
       "      <td>10</td>\n",
       "      <td>4</td>\n",
       "      <td>1</td>\n",
       "    </tr>\n",
       "    <tr>\n",
       "      <th>103</th>\n",
       "      <td>6</td>\n",
       "      <td>9</td>\n",
       "      <td>9</td>\n",
       "    </tr>\n",
       "    <tr>\n",
       "      <th>104</th>\n",
       "      <td>5</td>\n",
       "      <td>6</td>\n",
       "      <td>7</td>\n",
       "    </tr>\n",
       "  </tbody>\n",
       "</table>\n",
       "</div>"
      ],
      "text/plain": [
       "      1 to 3  3 to 5  more than 5\n",
       "100        6       6            6\n",
       "101        5       7           10\n",
       "102       10       4            1\n",
       "103        6       9            9\n",
       "104        5       6            7"
      ]
     },
     "metadata": {},
     "output_type": "display_data"
    }
   ],
   "source": [
    "#讀取資料集\n",
    "df2 = pd.read_excel('Stat_2020_b_1_ANOVA.xlsx', sheet_name = 'number')\n",
    "\n",
    "print('Head of dataset:')\n",
    "display(df2.head())\n",
    "print(\"Tail of dataset:\")\n",
    "display(df2.tail())"
   ]
  },
  {
   "cell_type": "markdown",
   "metadata": {},
   "source": [
    "### Data Preprocessing"
   ]
  },
  {
   "cell_type": "code",
   "execution_count": 15,
   "metadata": {},
   "outputs": [
    {
     "name": "stdout",
     "output_type": "stream",
     "text": [
      "Head of data:\n"
     ]
    },
    {
     "data": {
      "text/html": [
       "<div>\n",
       "<style scoped>\n",
       "    .dataframe tbody tr th:only-of-type {\n",
       "        vertical-align: middle;\n",
       "    }\n",
       "\n",
       "    .dataframe tbody tr th {\n",
       "        vertical-align: top;\n",
       "    }\n",
       "\n",
       "    .dataframe thead th {\n",
       "        text-align: right;\n",
       "    }\n",
       "</style>\n",
       "<table border=\"1\" class=\"dataframe\">\n",
       "  <thead>\n",
       "    <tr style=\"text-align: right;\">\n",
       "      <th></th>\n",
       "      <th>id</th>\n",
       "      <th>factor</th>\n",
       "      <th>number</th>\n",
       "    </tr>\n",
       "  </thead>\n",
       "  <tbody>\n",
       "    <tr>\n",
       "      <th>0</th>\n",
       "      <td>0</td>\n",
       "      <td>1to3</td>\n",
       "      <td>5</td>\n",
       "    </tr>\n",
       "    <tr>\n",
       "      <th>1</th>\n",
       "      <td>1</td>\n",
       "      <td>1to3</td>\n",
       "      <td>10</td>\n",
       "    </tr>\n",
       "    <tr>\n",
       "      <th>2</th>\n",
       "      <td>2</td>\n",
       "      <td>1to3</td>\n",
       "      <td>10</td>\n",
       "    </tr>\n",
       "    <tr>\n",
       "      <th>3</th>\n",
       "      <td>3</td>\n",
       "      <td>1to3</td>\n",
       "      <td>9</td>\n",
       "    </tr>\n",
       "    <tr>\n",
       "      <th>4</th>\n",
       "      <td>4</td>\n",
       "      <td>1to3</td>\n",
       "      <td>5</td>\n",
       "    </tr>\n",
       "  </tbody>\n",
       "</table>\n",
       "</div>"
      ],
      "text/plain": [
       "   id factor  number\n",
       "0   0   1to3       5\n",
       "1   1   1to3      10\n",
       "2   2   1to3      10\n",
       "3   3   1to3       9\n",
       "4   4   1to3       5"
      ]
     },
     "metadata": {},
     "output_type": "display_data"
    },
    {
     "name": "stdout",
     "output_type": "stream",
     "text": [
      "Tail of data:\n"
     ]
    },
    {
     "data": {
      "text/html": [
       "<div>\n",
       "<style scoped>\n",
       "    .dataframe tbody tr th:only-of-type {\n",
       "        vertical-align: middle;\n",
       "    }\n",
       "\n",
       "    .dataframe tbody tr th {\n",
       "        vertical-align: top;\n",
       "    }\n",
       "\n",
       "    .dataframe thead th {\n",
       "        text-align: right;\n",
       "    }\n",
       "</style>\n",
       "<table border=\"1\" class=\"dataframe\">\n",
       "  <thead>\n",
       "    <tr style=\"text-align: right;\">\n",
       "      <th></th>\n",
       "      <th>id</th>\n",
       "      <th>factor</th>\n",
       "      <th>number</th>\n",
       "    </tr>\n",
       "  </thead>\n",
       "  <tbody>\n",
       "    <tr>\n",
       "      <th>310</th>\n",
       "      <td>100</td>\n",
       "      <td>5more</td>\n",
       "      <td>6</td>\n",
       "    </tr>\n",
       "    <tr>\n",
       "      <th>311</th>\n",
       "      <td>101</td>\n",
       "      <td>5more</td>\n",
       "      <td>10</td>\n",
       "    </tr>\n",
       "    <tr>\n",
       "      <th>312</th>\n",
       "      <td>102</td>\n",
       "      <td>5more</td>\n",
       "      <td>1</td>\n",
       "    </tr>\n",
       "    <tr>\n",
       "      <th>313</th>\n",
       "      <td>103</td>\n",
       "      <td>5more</td>\n",
       "      <td>9</td>\n",
       "    </tr>\n",
       "    <tr>\n",
       "      <th>314</th>\n",
       "      <td>104</td>\n",
       "      <td>5more</td>\n",
       "      <td>7</td>\n",
       "    </tr>\n",
       "  </tbody>\n",
       "</table>\n",
       "</div>"
      ],
      "text/plain": [
       "      id factor  number\n",
       "310  100  5more       6\n",
       "311  101  5more      10\n",
       "312  102  5more       1\n",
       "313  103  5more       9\n",
       "314  104  5more       7"
      ]
     },
     "metadata": {},
     "output_type": "display_data"
    }
   ],
   "source": [
    "df2.columns = ['number_1to3', 'number_3to5', 'number_5more']\n",
    "#需要一個ID欄位\n",
    "df2[\"id\"] = df2.index\n",
    "#呼叫wide_to_long()\n",
    "df2_long = pd.wide_to_long(df2, [\"number\"], sep = \"_\", suffix = '\\w+', i=\"id\", j=\"factor\").reset_index()\n",
    "print(\"Head of data:\")\n",
    "display(df2_long.head())\n",
    "print(\"Tail of data:\")\n",
    "display(df2_long.tail())"
   ]
  },
  {
   "cell_type": "code",
   "execution_count": 16,
   "metadata": {},
   "outputs": [
    {
     "data": {
      "text/html": [
       "<div>\n",
       "<style scoped>\n",
       "    .dataframe tbody tr th:only-of-type {\n",
       "        vertical-align: middle;\n",
       "    }\n",
       "\n",
       "    .dataframe tbody tr th {\n",
       "        vertical-align: top;\n",
       "    }\n",
       "\n",
       "    .dataframe thead th {\n",
       "        text-align: right;\n",
       "    }\n",
       "</style>\n",
       "<table border=\"1\" class=\"dataframe\">\n",
       "  <thead>\n",
       "    <tr style=\"text-align: right;\">\n",
       "      <th></th>\n",
       "      <th>number</th>\n",
       "    </tr>\n",
       "  </thead>\n",
       "  <tbody>\n",
       "    <tr>\n",
       "      <th>count</th>\n",
       "      <td>315.000000</td>\n",
       "    </tr>\n",
       "    <tr>\n",
       "      <th>mean</th>\n",
       "      <td>7.079365</td>\n",
       "    </tr>\n",
       "    <tr>\n",
       "      <th>std</th>\n",
       "      <td>2.347933</td>\n",
       "    </tr>\n",
       "    <tr>\n",
       "      <th>min</th>\n",
       "      <td>1.000000</td>\n",
       "    </tr>\n",
       "    <tr>\n",
       "      <th>25%</th>\n",
       "      <td>5.500000</td>\n",
       "    </tr>\n",
       "    <tr>\n",
       "      <th>50%</th>\n",
       "      <td>7.000000</td>\n",
       "    </tr>\n",
       "    <tr>\n",
       "      <th>75%</th>\n",
       "      <td>9.000000</td>\n",
       "    </tr>\n",
       "    <tr>\n",
       "      <th>max</th>\n",
       "      <td>10.000000</td>\n",
       "    </tr>\n",
       "  </tbody>\n",
       "</table>\n",
       "</div>"
      ],
      "text/plain": [
       "           number\n",
       "count  315.000000\n",
       "mean     7.079365\n",
       "std      2.347933\n",
       "min      1.000000\n",
       "25%      5.500000\n",
       "50%      7.000000\n",
       "75%      9.000000\n",
       "max     10.000000"
      ]
     },
     "execution_count": 16,
     "metadata": {},
     "output_type": "execute_result"
    }
   ],
   "source": [
    "df2_long = df2_long[['factor', 'number']] \n",
    "df2_long.describe()"
   ]
  },
  {
   "cell_type": "code",
   "execution_count": 17,
   "metadata": {},
   "outputs": [
    {
     "data": {
      "text/html": [
       "<div>\n",
       "<style scoped>\n",
       "    .dataframe tbody tr th:only-of-type {\n",
       "        vertical-align: middle;\n",
       "    }\n",
       "\n",
       "    .dataframe tbody tr th {\n",
       "        vertical-align: top;\n",
       "    }\n",
       "\n",
       "    .dataframe thead tr th {\n",
       "        text-align: left;\n",
       "    }\n",
       "\n",
       "    .dataframe thead tr:last-of-type th {\n",
       "        text-align: right;\n",
       "    }\n",
       "</style>\n",
       "<table border=\"1\" class=\"dataframe\">\n",
       "  <thead>\n",
       "    <tr>\n",
       "      <th></th>\n",
       "      <th colspan=\"8\" halign=\"left\">number</th>\n",
       "    </tr>\n",
       "    <tr>\n",
       "      <th></th>\n",
       "      <th>count</th>\n",
       "      <th>mean</th>\n",
       "      <th>std</th>\n",
       "      <th>min</th>\n",
       "      <th>25%</th>\n",
       "      <th>50%</th>\n",
       "      <th>75%</th>\n",
       "      <th>max</th>\n",
       "    </tr>\n",
       "    <tr>\n",
       "      <th>factor</th>\n",
       "      <th></th>\n",
       "      <th></th>\n",
       "      <th></th>\n",
       "      <th></th>\n",
       "      <th></th>\n",
       "      <th></th>\n",
       "      <th></th>\n",
       "      <th></th>\n",
       "    </tr>\n",
       "  </thead>\n",
       "  <tbody>\n",
       "    <tr>\n",
       "      <th>1to3</th>\n",
       "      <td>105.0</td>\n",
       "      <td>6.038095</td>\n",
       "      <td>2.453113</td>\n",
       "      <td>1.0</td>\n",
       "      <td>4.0</td>\n",
       "      <td>6.0</td>\n",
       "      <td>8.0</td>\n",
       "      <td>10.0</td>\n",
       "    </tr>\n",
       "    <tr>\n",
       "      <th>3to5</th>\n",
       "      <td>105.0</td>\n",
       "      <td>7.038095</td>\n",
       "      <td>2.107331</td>\n",
       "      <td>1.0</td>\n",
       "      <td>6.0</td>\n",
       "      <td>7.0</td>\n",
       "      <td>9.0</td>\n",
       "      <td>10.0</td>\n",
       "    </tr>\n",
       "    <tr>\n",
       "      <th>5more</th>\n",
       "      <td>105.0</td>\n",
       "      <td>8.161905</td>\n",
       "      <td>1.976418</td>\n",
       "      <td>1.0</td>\n",
       "      <td>7.0</td>\n",
       "      <td>9.0</td>\n",
       "      <td>10.0</td>\n",
       "      <td>10.0</td>\n",
       "    </tr>\n",
       "  </tbody>\n",
       "</table>\n",
       "</div>"
      ],
      "text/plain": [
       "       number                                               \n",
       "        count      mean       std  min  25%  50%   75%   max\n",
       "factor                                                      \n",
       "1to3    105.0  6.038095  2.453113  1.0  4.0  6.0   8.0  10.0\n",
       "3to5    105.0  7.038095  2.107331  1.0  6.0  7.0   9.0  10.0\n",
       "5more   105.0  8.161905  1.976418  1.0  7.0  9.0  10.0  10.0"
      ]
     },
     "execution_count": 17,
     "metadata": {},
     "output_type": "execute_result"
    }
   ],
   "source": [
    "df2_long.groupby(['factor']).describe()"
   ]
  },
  {
   "cell_type": "markdown",
   "metadata": {},
   "source": [
    "### ANOVA Test for Mean Equality"
   ]
  },
  {
   "cell_type": "code",
   "execution_count": 18,
   "metadata": {},
   "outputs": [
    {
     "data": {
      "text/plain": [
       "F_onewayResult(statistic=24.755558955528365, pvalue=1.0498759788722242e-10)"
      ]
     },
     "execution_count": 18,
     "metadata": {},
     "output_type": "execute_result"
    }
   ],
   "source": [
    "stats.f_oneway(df2_long['number'][df2_long['factor'] == '1to3'], \n",
    "               df2_long['number'][df2_long['factor'] == '3to5'],\n",
    "               df2_long['number'][df2_long['factor'] == '5more'])"
   ]
  },
  {
   "cell_type": "code",
   "execution_count": 19,
   "metadata": {},
   "outputs": [
    {
     "data": {
      "text/html": [
       "<div>\n",
       "<style scoped>\n",
       "    .dataframe tbody tr th:only-of-type {\n",
       "        vertical-align: middle;\n",
       "    }\n",
       "\n",
       "    .dataframe tbody tr th {\n",
       "        vertical-align: top;\n",
       "    }\n",
       "\n",
       "    .dataframe thead th {\n",
       "        text-align: right;\n",
       "    }\n",
       "</style>\n",
       "<table border=\"1\" class=\"dataframe\">\n",
       "  <thead>\n",
       "    <tr style=\"text-align: right;\">\n",
       "      <th></th>\n",
       "      <th>sum_sq</th>\n",
       "      <th>df</th>\n",
       "      <th>F</th>\n",
       "      <th>PR(&gt;F)</th>\n",
       "    </tr>\n",
       "  </thead>\n",
       "  <tbody>\n",
       "    <tr>\n",
       "      <th>C(factor)</th>\n",
       "      <td>237.073016</td>\n",
       "      <td>2.0</td>\n",
       "      <td>24.755559</td>\n",
       "      <td>1.049876e-10</td>\n",
       "    </tr>\n",
       "    <tr>\n",
       "      <th>Residual</th>\n",
       "      <td>1493.942857</td>\n",
       "      <td>312.0</td>\n",
       "      <td>NaN</td>\n",
       "      <td>NaN</td>\n",
       "    </tr>\n",
       "  </tbody>\n",
       "</table>\n",
       "</div>"
      ],
      "text/plain": [
       "                sum_sq     df          F        PR(>F)\n",
       "C(factor)   237.073016    2.0  24.755559  1.049876e-10\n",
       "Residual   1493.942857  312.0        NaN           NaN"
      ]
     },
     "execution_count": 19,
     "metadata": {},
     "output_type": "execute_result"
    }
   ],
   "source": [
    "results1 = smf.ols('number ~ C(factor)', data=df2_long).fit()\n",
    "aov_table1 = sms.anova_lm(results1, typ=2)\n",
    "aov_table1"
   ]
  },
  {
   "cell_type": "markdown",
   "metadata": {},
   "source": [
    "Since p-value 1.0499e-10 < 0.05, we reject the null hypothesis.  \n",
    "We can infer that there are differences in the appeal of lottery between the three intervals of number of prizes."
   ]
  },
  {
   "cell_type": "markdown",
   "metadata": {},
   "source": [
    "### Checking the Required Conditions\n",
    "#### (1) Normality Assumption\n",
    "##### Plotting histogram of the residuals"
   ]
  },
  {
   "cell_type": "code",
   "execution_count": 20,
   "metadata": {},
   "outputs": [
    {
     "data": {
      "image/png": "[encoded data removed]",
      "text/plain": [
       "<Figure size 480x320 with 1 Axes>"
      ]
     },
     "metadata": {
      "needs_background": "light"
     },
     "output_type": "display_data"
    }
   ],
   "source": [
    "_ = plt.hist(results1.resid, bins = 'auto')"
   ]
  },
  {
   "cell_type": "markdown",
   "metadata": {},
   "source": [
    "##### Plotting Q-Q plot of the residuals"
   ]
  },
  {
   "cell_type": "code",
   "execution_count": 21,
   "metadata": {},
   "outputs": [
    {
     "data": {
      "image/png": "[encoded data removed]",
      "text/plain": [
       "<Figure size 480x320 with 1 Axes>"
      ]
     },
     "metadata": {
      "needs_background": "light"
     },
     "output_type": "display_data"
    }
   ],
   "source": [
    "fig = sm.qqplot(results1.resid, stats.norm, fit=True, line='45')"
   ]
  },
  {
   "cell_type": "markdown",
   "metadata": {},
   "source": [
    "##### Shapiro-Wilk normality test\n",
    "\n",
    "$H_0$: The distribution is normal.  \n",
    "$H_1$: The distribution is not normal.  \n",
    "$\\alpha$ = 0.05"
   ]
  },
  {
   "cell_type": "code",
   "execution_count": 11,
   "metadata": {},
   "outputs": [
    {
     "name": "stdout",
     "output_type": "stream",
     "text": [
      "Statistics = 0.968, p = 0.000\n"
     ]
    }
   ],
   "source": [
    "stat, p = stats.shapiro(results1.resid)\n",
    "print('Statistics = %.3f, p = %.3f' % (stat, p))"
   ]
  },
  {
   "cell_type": "markdown",
   "metadata": {},
   "source": [
    "Since the p-value = 0.000 < 0.05, we reject the null hypothesis.  \n",
    "The normality assumption is not satisfied.  \n",
    "Thus, the result of the ANOVA test might not be that accurate."
   ]
  },
  {
   "cell_type": "markdown",
   "metadata": {},
   "source": [
    "#### (2) Equal Variance Assumption\n",
    "##### Bartlett's Test for Eaual Variances\n",
    "\n",
    "$H_0$: $\\sigma_1^2$ = $\\sigma_2^2$ = $\\sigma_3^2$  \n",
    "$H_1$: At least two variances differ.  \n",
    "$\\alpha$ = 0.05"
   ]
  },
  {
   "cell_type": "code",
   "execution_count": 22,
   "metadata": {},
   "outputs": [
    {
     "data": {
      "text/plain": [
       "BartlettResult(statistic=5.217294814376723, pvalue=0.07363407335468902)"
      ]
     },
     "execution_count": 22,
     "metadata": {},
     "output_type": "execute_result"
    }
   ],
   "source": [
    "stats.bartlett(df2_long['number'][df2_long['factor'] == '1to3'], \n",
    "               df2_long['number'][df2_long['factor'] == '3to5'],\n",
    "               df2_long['number'][df2_long['factor'] == '5more'])"
   ]
  },
  {
   "cell_type": "markdown",
   "metadata": {},
   "source": [
    "Since p-value = 0.0736 > 0.05, we do not reject the null hypothesis.  \n",
    "There is sufficient evidence to infer that $\\sigma_1^2$ = $\\sigma_2^2$ = $\\sigma_3^2$.  \n",
    "The equal variance assumption is not violated."
   ]
  },
  {
   "cell_type": "markdown",
   "metadata": {},
   "source": [
    "#### (3) Independent Assumption\n",
    "The observations are independent."
   ]
  },
  {
   "cell_type": "markdown",
   "metadata": {},
   "source": [
    "Since the required conditions are not satisfied, we do not apply one-way ANOVA test.\n",
    "### Kruskal-Wallis Test for Number of Prizes"
   ]
  },
  {
   "cell_type": "markdown",
   "metadata": {},
   "source": [
    "H<sub>0</sub> : The locations of three intervals of number of prizes are the same.  <br>\n",
    "H<sub>1</sub> : At least two intervals locations differ.\n",
    "\n",
    "$\\alpha$ = 0.05"
   ]
  },
  {
   "cell_type": "code",
   "execution_count": 23,
   "metadata": {},
   "outputs": [
    {
     "data": {
      "text/html": [
       "<div>\n",
       "<style scoped>\n",
       "    .dataframe tbody tr th:only-of-type {\n",
       "        vertical-align: middle;\n",
       "    }\n",
       "\n",
       "    .dataframe tbody tr th {\n",
       "        vertical-align: top;\n",
       "    }\n",
       "\n",
       "    .dataframe thead th {\n",
       "        text-align: right;\n",
       "    }\n",
       "</style>\n",
       "<table border=\"1\" class=\"dataframe\">\n",
       "  <thead>\n",
       "    <tr style=\"text-align: right;\">\n",
       "      <th></th>\n",
       "      <th>number_1to3</th>\n",
       "      <th>number_3to5</th>\n",
       "      <th>number_5more</th>\n",
       "      <th>id</th>\n",
       "    </tr>\n",
       "  </thead>\n",
       "  <tbody>\n",
       "    <tr>\n",
       "      <th>0</th>\n",
       "      <td>5</td>\n",
       "      <td>6</td>\n",
       "      <td>9</td>\n",
       "      <td>0</td>\n",
       "    </tr>\n",
       "    <tr>\n",
       "      <th>1</th>\n",
       "      <td>10</td>\n",
       "      <td>10</td>\n",
       "      <td>10</td>\n",
       "      <td>1</td>\n",
       "    </tr>\n",
       "    <tr>\n",
       "      <th>2</th>\n",
       "      <td>10</td>\n",
       "      <td>10</td>\n",
       "      <td>10</td>\n",
       "      <td>2</td>\n",
       "    </tr>\n",
       "    <tr>\n",
       "      <th>3</th>\n",
       "      <td>9</td>\n",
       "      <td>9</td>\n",
       "      <td>10</td>\n",
       "      <td>3</td>\n",
       "    </tr>\n",
       "    <tr>\n",
       "      <th>4</th>\n",
       "      <td>5</td>\n",
       "      <td>6</td>\n",
       "      <td>6</td>\n",
       "      <td>4</td>\n",
       "    </tr>\n",
       "  </tbody>\n",
       "</table>\n",
       "</div>"
      ],
      "text/plain": [
       "   number_1to3  number_3to5  number_5more  id\n",
       "0            5            6             9   0\n",
       "1           10           10            10   1\n",
       "2           10           10            10   2\n",
       "3            9            9            10   3\n",
       "4            5            6             6   4"
      ]
     },
     "metadata": {},
     "output_type": "display_data"
    }
   ],
   "source": [
    "display(df2.head())"
   ]
  },
  {
   "cell_type": "code",
   "execution_count": 24,
   "metadata": {},
   "outputs": [
    {
     "data": {
      "text/html": [
       "<div>\n",
       "<style scoped>\n",
       "    .dataframe tbody tr th:only-of-type {\n",
       "        vertical-align: middle;\n",
       "    }\n",
       "\n",
       "    .dataframe tbody tr th {\n",
       "        vertical-align: top;\n",
       "    }\n",
       "\n",
       "    .dataframe thead th {\n",
       "        text-align: right;\n",
       "    }\n",
       "</style>\n",
       "<table border=\"1\" class=\"dataframe\">\n",
       "  <thead>\n",
       "    <tr style=\"text-align: right;\">\n",
       "      <th></th>\n",
       "      <th>value</th>\n",
       "      <th>rank</th>\n",
       "    </tr>\n",
       "  </thead>\n",
       "  <tbody>\n",
       "    <tr>\n",
       "      <th>0</th>\n",
       "      <td>1</td>\n",
       "      <td>3.5</td>\n",
       "    </tr>\n",
       "    <tr>\n",
       "      <th>1</th>\n",
       "      <td>2</td>\n",
       "      <td>9.5</td>\n",
       "    </tr>\n",
       "    <tr>\n",
       "      <th>2</th>\n",
       "      <td>3</td>\n",
       "      <td>18.0</td>\n",
       "    </tr>\n",
       "    <tr>\n",
       "      <th>3</th>\n",
       "      <td>4</td>\n",
       "      <td>35.0</td>\n",
       "    </tr>\n",
       "    <tr>\n",
       "      <th>4</th>\n",
       "      <td>5</td>\n",
       "      <td>63.0</td>\n",
       "    </tr>\n",
       "    <tr>\n",
       "      <th>5</th>\n",
       "      <td>6</td>\n",
       "      <td>103.0</td>\n",
       "    </tr>\n",
       "    <tr>\n",
       "      <th>6</th>\n",
       "      <td>7</td>\n",
       "      <td>151.0</td>\n",
       "    </tr>\n",
       "    <tr>\n",
       "      <th>7</th>\n",
       "      <td>8</td>\n",
       "      <td>190.5</td>\n",
       "    </tr>\n",
       "    <tr>\n",
       "      <th>8</th>\n",
       "      <td>9</td>\n",
       "      <td>227.0</td>\n",
       "    </tr>\n",
       "    <tr>\n",
       "      <th>9</th>\n",
       "      <td>10</td>\n",
       "      <td>282.0</td>\n",
       "    </tr>\n",
       "  </tbody>\n",
       "</table>\n",
       "</div>"
      ],
      "text/plain": [
       "   value   rank\n",
       "0      1    3.5\n",
       "1      2    9.5\n",
       "2      3   18.0\n",
       "3      4   35.0\n",
       "4      5   63.0\n",
       "5      6  103.0\n",
       "6      7  151.0\n",
       "7      8  190.5\n",
       "8      9  227.0\n",
       "9     10  282.0"
      ]
     },
     "execution_count": 24,
     "metadata": {},
     "output_type": "execute_result"
    }
   ],
   "source": [
    "alldata = np.concatenate([df2['number_1to3'], df2['number_3to5'], df2['number_5more']])\n",
    "alldata.sort()\n",
    "tmpdf = pd.DataFrame(({'value': alldata}))\n",
    "tmpdf['rank'] = tmpdf.index + 1\n",
    "value2rank = tmpdf.groupby('value').mean().reset_index()\n",
    "value2rank"
   ]
  },
  {
   "cell_type": "code",
   "execution_count": 25,
   "metadata": {},
   "outputs": [
    {
     "name": "stdout",
     "output_type": "stream",
     "text": [
      "T1 = 12463.500000\n",
      "T2 = 16124.500000\n",
      "T3 = 21182.000000\n"
     ]
    }
   ],
   "source": [
    "samp1 = pd.DataFrame({'value': df2['number_1to3'].values})\n",
    "samp1 = pd.merge(samp1, value2rank)\n",
    "T1 = samp1['rank'].sum()\n",
    "\n",
    "samp2 = pd.DataFrame({'value': df2['number_3to5'].values})\n",
    "samp2 = pd.merge(samp2, value2rank)\n",
    "T2 = samp2['rank'].sum()\n",
    "\n",
    "samp3 = pd.DataFrame({'value': df2['number_5more'].values})\n",
    "samp3 = pd.merge(samp3, value2rank)\n",
    "T3 = samp3['rank'].sum()\n",
    "\n",
    "print(\"T1 = %f\" % T1)\n",
    "print(\"T2 = %f\" % T2)\n",
    "print(\"T3 = %f\" % T3)"
   ]
  },
  {
   "cell_type": "code",
   "execution_count": 26,
   "metadata": {},
   "outputs": [
    {
     "name": "stdout",
     "output_type": "stream",
     "text": [
      "H = 44.009479606188506\n",
      "p-value = 2.776278096305873e-10\n"
     ]
    }
   ],
   "source": [
    "n1 = df2['number_1to3'].count()\n",
    "k = 3\n",
    "n = n1*k\n",
    "H = 12/ n / (n+1) * (T1**2/n1 + T2**2/n1 + T3**2/n1)-3*(n+1)\n",
    "pvalue = 1 - stats.chi2.cdf(H, k-1)\n",
    "\n",
    "print(\"H =\", H)\n",
    "print(\"p-value =\", pvalue)"
   ]
  },
  {
   "cell_type": "markdown",
   "metadata": {},
   "source": [
    "The p-value 2.776278096305873e-10 < 0.05, we reject the null hypothesis  <br>\n",
    "Therefore, there are sufficient evidence to infer that the appeal of a lottery differ between the three intervals of number of prizes."
   ]
  },
  {
   "cell_type": "markdown",
   "metadata": {},
   "source": [
    "## 3. Kruskal-Wallis Test for Price of Prizes\n",
    "Before performing the nonparametric method, we've tried the one-way ANOVA test for mean equality.  \n",
    "Since the required conditions of the ANOVA test are not satisfied, we then adopt the Kruskal-Wallis test."
   ]
  },
  {
   "cell_type": "markdown",
   "metadata": {},
   "source": [
    "### Hypothesis of One-Way ANOVA\n",
    "Let treatment 1 be the lottery with prizes worth less than NT\\\\$100,  \n",
    "treatment 2 be the one with prizes worth NT\\\\$100 to NT\\\\$400,  \n",
    "treatment 3 be the one with prizes worth NT\\\\$400 to NT\\\\$600,  \n",
    "treatment 4 be the one with prizes worth NT\\\\$600 to NT\\\\$800,  \n",
    "and treatment 5 be the one with prizes worth more than NT\\\\$800.  \n",
    "Let $\\mu_i$ be the mean of treatment $i$ and $\\sigma_i^2$ be the variance of treatment $i$, $i = 1,\\dots,5$.  \n",
    "\n",
    "$H_0$: $\\mu_1$ = $\\mu_2$ = $\\mu_3$ = $\\mu_4$ = $\\mu_5$  \n",
    "$H_1$: At least two means differ.  \n",
    "$\\alpha$ = 0.05"
   ]
  },
  {
   "cell_type": "markdown",
   "metadata": {},
   "source": [
    "### Dataset"
   ]
  },
  {
   "cell_type": "code",
   "execution_count": 27,
   "metadata": {},
   "outputs": [
    {
     "name": "stdout",
     "output_type": "stream",
     "text": [
      "Head of dataset:\n"
     ]
    },
    {
     "data": {
      "text/html": [
       "<div>\n",
       "<style scoped>\n",
       "    .dataframe tbody tr th:only-of-type {\n",
       "        vertical-align: middle;\n",
       "    }\n",
       "\n",
       "    .dataframe tbody tr th {\n",
       "        vertical-align: top;\n",
       "    }\n",
       "\n",
       "    .dataframe thead th {\n",
       "        text-align: right;\n",
       "    }\n",
       "</style>\n",
       "<table border=\"1\" class=\"dataframe\">\n",
       "  <thead>\n",
       "    <tr style=\"text-align: right;\">\n",
       "      <th></th>\n",
       "      <th>less than 100</th>\n",
       "      <th>100 to 400</th>\n",
       "      <th>400 to 600</th>\n",
       "      <th>600 to 800</th>\n",
       "      <th>more than 800</th>\n",
       "    </tr>\n",
       "  </thead>\n",
       "  <tbody>\n",
       "    <tr>\n",
       "      <th>0</th>\n",
       "      <td>5</td>\n",
       "      <td>8</td>\n",
       "      <td>10</td>\n",
       "      <td>10</td>\n",
       "      <td>10</td>\n",
       "    </tr>\n",
       "    <tr>\n",
       "      <th>1</th>\n",
       "      <td>10</td>\n",
       "      <td>10</td>\n",
       "      <td>10</td>\n",
       "      <td>10</td>\n",
       "      <td>10</td>\n",
       "    </tr>\n",
       "    <tr>\n",
       "      <th>2</th>\n",
       "      <td>10</td>\n",
       "      <td>10</td>\n",
       "      <td>10</td>\n",
       "      <td>10</td>\n",
       "      <td>10</td>\n",
       "    </tr>\n",
       "    <tr>\n",
       "      <th>3</th>\n",
       "      <td>4</td>\n",
       "      <td>6</td>\n",
       "      <td>8</td>\n",
       "      <td>9</td>\n",
       "      <td>10</td>\n",
       "    </tr>\n",
       "    <tr>\n",
       "      <th>4</th>\n",
       "      <td>8</td>\n",
       "      <td>9</td>\n",
       "      <td>10</td>\n",
       "      <td>10</td>\n",
       "      <td>10</td>\n",
       "    </tr>\n",
       "  </tbody>\n",
       "</table>\n",
       "</div>"
      ],
      "text/plain": [
       "   less than 100  100 to 400  400 to 600  600 to 800  more than 800\n",
       "0              5           8          10          10             10\n",
       "1             10          10          10          10             10\n",
       "2             10          10          10          10             10\n",
       "3              4           6           8           9             10\n",
       "4              8           9          10          10             10"
      ]
     },
     "metadata": {},
     "output_type": "display_data"
    },
    {
     "name": "stdout",
     "output_type": "stream",
     "text": [
      "Tail of dataset:\n"
     ]
    },
    {
     "data": {
      "text/html": [
       "<div>\n",
       "<style scoped>\n",
       "    .dataframe tbody tr th:only-of-type {\n",
       "        vertical-align: middle;\n",
       "    }\n",
       "\n",
       "    .dataframe tbody tr th {\n",
       "        vertical-align: top;\n",
       "    }\n",
       "\n",
       "    .dataframe thead th {\n",
       "        text-align: right;\n",
       "    }\n",
       "</style>\n",
       "<table border=\"1\" class=\"dataframe\">\n",
       "  <thead>\n",
       "    <tr style=\"text-align: right;\">\n",
       "      <th></th>\n",
       "      <th>less than 100</th>\n",
       "      <th>100 to 400</th>\n",
       "      <th>400 to 600</th>\n",
       "      <th>600 to 800</th>\n",
       "      <th>more than 800</th>\n",
       "    </tr>\n",
       "  </thead>\n",
       "  <tbody>\n",
       "    <tr>\n",
       "      <th>100</th>\n",
       "      <td>1</td>\n",
       "      <td>1</td>\n",
       "      <td>1</td>\n",
       "      <td>2</td>\n",
       "      <td>3</td>\n",
       "    </tr>\n",
       "    <tr>\n",
       "      <th>101</th>\n",
       "      <td>5</td>\n",
       "      <td>8</td>\n",
       "      <td>8</td>\n",
       "      <td>8</td>\n",
       "      <td>10</td>\n",
       "    </tr>\n",
       "    <tr>\n",
       "      <th>102</th>\n",
       "      <td>3</td>\n",
       "      <td>6</td>\n",
       "      <td>8</td>\n",
       "      <td>8</td>\n",
       "      <td>8</td>\n",
       "    </tr>\n",
       "    <tr>\n",
       "      <th>103</th>\n",
       "      <td>1</td>\n",
       "      <td>5</td>\n",
       "      <td>6</td>\n",
       "      <td>9</td>\n",
       "      <td>10</td>\n",
       "    </tr>\n",
       "    <tr>\n",
       "      <th>104</th>\n",
       "      <td>3</td>\n",
       "      <td>5</td>\n",
       "      <td>6</td>\n",
       "      <td>7</td>\n",
       "      <td>8</td>\n",
       "    </tr>\n",
       "  </tbody>\n",
       "</table>\n",
       "</div>"
      ],
      "text/plain": [
       "     less than 100  100 to 400  400 to 600  600 to 800  more than 800\n",
       "100              1           1           1           2              3\n",
       "101              5           8           8           8             10\n",
       "102              3           6           8           8              8\n",
       "103              1           5           6           9             10\n",
       "104              3           5           6           7              8"
      ]
     },
     "metadata": {},
     "output_type": "display_data"
    }
   ],
   "source": [
    "#讀取資料集\n",
    "df3 = pd.read_excel('Stat_2020_b_1_ANOVA.xlsx', sheet_name = 'price')\n",
    "\n",
    "print('Head of dataset:')\n",
    "display(df3.head())\n",
    "print(\"Tail of dataset:\")\n",
    "display(df3.tail())"
   ]
  },
  {
   "cell_type": "markdown",
   "metadata": {},
   "source": [
    "### Data Preprocessing"
   ]
  },
  {
   "cell_type": "code",
   "execution_count": 28,
   "metadata": {},
   "outputs": [
    {
     "name": "stdout",
     "output_type": "stream",
     "text": [
      "Head of data:\n"
     ]
    },
    {
     "data": {
      "text/html": [
       "<div>\n",
       "<style scoped>\n",
       "    .dataframe tbody tr th:only-of-type {\n",
       "        vertical-align: middle;\n",
       "    }\n",
       "\n",
       "    .dataframe tbody tr th {\n",
       "        vertical-align: top;\n",
       "    }\n",
       "\n",
       "    .dataframe thead th {\n",
       "        text-align: right;\n",
       "    }\n",
       "</style>\n",
       "<table border=\"1\" class=\"dataframe\">\n",
       "  <thead>\n",
       "    <tr style=\"text-align: right;\">\n",
       "      <th></th>\n",
       "      <th>id</th>\n",
       "      <th>factor</th>\n",
       "      <th>price</th>\n",
       "    </tr>\n",
       "  </thead>\n",
       "  <tbody>\n",
       "    <tr>\n",
       "      <th>0</th>\n",
       "      <td>0</td>\n",
       "      <td>100less</td>\n",
       "      <td>5</td>\n",
       "    </tr>\n",
       "    <tr>\n",
       "      <th>1</th>\n",
       "      <td>1</td>\n",
       "      <td>100less</td>\n",
       "      <td>10</td>\n",
       "    </tr>\n",
       "    <tr>\n",
       "      <th>2</th>\n",
       "      <td>2</td>\n",
       "      <td>100less</td>\n",
       "      <td>10</td>\n",
       "    </tr>\n",
       "    <tr>\n",
       "      <th>3</th>\n",
       "      <td>3</td>\n",
       "      <td>100less</td>\n",
       "      <td>4</td>\n",
       "    </tr>\n",
       "    <tr>\n",
       "      <th>4</th>\n",
       "      <td>4</td>\n",
       "      <td>100less</td>\n",
       "      <td>8</td>\n",
       "    </tr>\n",
       "  </tbody>\n",
       "</table>\n",
       "</div>"
      ],
      "text/plain": [
       "   id   factor  price\n",
       "0   0  100less      5\n",
       "1   1  100less     10\n",
       "2   2  100less     10\n",
       "3   3  100less      4\n",
       "4   4  100less      8"
      ]
     },
     "metadata": {},
     "output_type": "display_data"
    },
    {
     "name": "stdout",
     "output_type": "stream",
     "text": [
      "Tail of data:\n"
     ]
    },
    {
     "data": {
      "text/html": [
       "<div>\n",
       "<style scoped>\n",
       "    .dataframe tbody tr th:only-of-type {\n",
       "        vertical-align: middle;\n",
       "    }\n",
       "\n",
       "    .dataframe tbody tr th {\n",
       "        vertical-align: top;\n",
       "    }\n",
       "\n",
       "    .dataframe thead th {\n",
       "        text-align: right;\n",
       "    }\n",
       "</style>\n",
       "<table border=\"1\" class=\"dataframe\">\n",
       "  <thead>\n",
       "    <tr style=\"text-align: right;\">\n",
       "      <th></th>\n",
       "      <th>id</th>\n",
       "      <th>factor</th>\n",
       "      <th>price</th>\n",
       "    </tr>\n",
       "  </thead>\n",
       "  <tbody>\n",
       "    <tr>\n",
       "      <th>520</th>\n",
       "      <td>100</td>\n",
       "      <td>800more</td>\n",
       "      <td>3</td>\n",
       "    </tr>\n",
       "    <tr>\n",
       "      <th>521</th>\n",
       "      <td>101</td>\n",
       "      <td>800more</td>\n",
       "      <td>10</td>\n",
       "    </tr>\n",
       "    <tr>\n",
       "      <th>522</th>\n",
       "      <td>102</td>\n",
       "      <td>800more</td>\n",
       "      <td>8</td>\n",
       "    </tr>\n",
       "    <tr>\n",
       "      <th>523</th>\n",
       "      <td>103</td>\n",
       "      <td>800more</td>\n",
       "      <td>10</td>\n",
       "    </tr>\n",
       "    <tr>\n",
       "      <th>524</th>\n",
       "      <td>104</td>\n",
       "      <td>800more</td>\n",
       "      <td>8</td>\n",
       "    </tr>\n",
       "  </tbody>\n",
       "</table>\n",
       "</div>"
      ],
      "text/plain": [
       "      id   factor  price\n",
       "520  100  800more      3\n",
       "521  101  800more     10\n",
       "522  102  800more      8\n",
       "523  103  800more     10\n",
       "524  104  800more      8"
      ]
     },
     "metadata": {},
     "output_type": "display_data"
    }
   ],
   "source": [
    "df3.columns = ['price_100less', 'price_100to400', 'price_400to600', 'price_600to800', 'price_800more']\n",
    "#需要一個ID欄位\n",
    "df3[\"id\"] = df3.index\n",
    "#呼叫wide_to_long()\n",
    "df3_long = pd.wide_to_long(df3, [\"price\"], sep = \"_\", suffix = '\\w+', i=\"id\", j=\"factor\").reset_index()\n",
    "print(\"Head of data:\")\n",
    "display(df3_long.head())\n",
    "print(\"Tail of data:\")\n",
    "display(df3_long.tail())"
   ]
  },
  {
   "cell_type": "code",
   "execution_count": 29,
   "metadata": {},
   "outputs": [
    {
     "data": {
      "text/html": [
       "<div>\n",
       "<style scoped>\n",
       "    .dataframe tbody tr th:only-of-type {\n",
       "        vertical-align: middle;\n",
       "    }\n",
       "\n",
       "    .dataframe tbody tr th {\n",
       "        vertical-align: top;\n",
       "    }\n",
       "\n",
       "    .dataframe thead th {\n",
       "        text-align: right;\n",
       "    }\n",
       "</style>\n",
       "<table border=\"1\" class=\"dataframe\">\n",
       "  <thead>\n",
       "    <tr style=\"text-align: right;\">\n",
       "      <th></th>\n",
       "      <th>price</th>\n",
       "    </tr>\n",
       "  </thead>\n",
       "  <tbody>\n",
       "    <tr>\n",
       "      <th>count</th>\n",
       "      <td>525.000000</td>\n",
       "    </tr>\n",
       "    <tr>\n",
       "      <th>mean</th>\n",
       "      <td>7.034286</td>\n",
       "    </tr>\n",
       "    <tr>\n",
       "      <th>std</th>\n",
       "      <td>2.622343</td>\n",
       "    </tr>\n",
       "    <tr>\n",
       "      <th>min</th>\n",
       "      <td>1.000000</td>\n",
       "    </tr>\n",
       "    <tr>\n",
       "      <th>25%</th>\n",
       "      <td>5.000000</td>\n",
       "    </tr>\n",
       "    <tr>\n",
       "      <th>50%</th>\n",
       "      <td>8.000000</td>\n",
       "    </tr>\n",
       "    <tr>\n",
       "      <th>75%</th>\n",
       "      <td>9.000000</td>\n",
       "    </tr>\n",
       "    <tr>\n",
       "      <th>max</th>\n",
       "      <td>10.000000</td>\n",
       "    </tr>\n",
       "  </tbody>\n",
       "</table>\n",
       "</div>"
      ],
      "text/plain": [
       "            price\n",
       "count  525.000000\n",
       "mean     7.034286\n",
       "std      2.622343\n",
       "min      1.000000\n",
       "25%      5.000000\n",
       "50%      8.000000\n",
       "75%      9.000000\n",
       "max     10.000000"
      ]
     },
     "execution_count": 29,
     "metadata": {},
     "output_type": "execute_result"
    }
   ],
   "source": [
    "df3_long = df3_long[['factor', 'price']] \n",
    "df3_long.describe()"
   ]
  },
  {
   "cell_type": "code",
   "execution_count": 30,
   "metadata": {},
   "outputs": [
    {
     "data": {
      "text/html": [
       "<div>\n",
       "<style scoped>\n",
       "    .dataframe tbody tr th:only-of-type {\n",
       "        vertical-align: middle;\n",
       "    }\n",
       "\n",
       "    .dataframe tbody tr th {\n",
       "        vertical-align: top;\n",
       "    }\n",
       "\n",
       "    .dataframe thead tr th {\n",
       "        text-align: left;\n",
       "    }\n",
       "\n",
       "    .dataframe thead tr:last-of-type th {\n",
       "        text-align: right;\n",
       "    }\n",
       "</style>\n",
       "<table border=\"1\" class=\"dataframe\">\n",
       "  <thead>\n",
       "    <tr>\n",
       "      <th></th>\n",
       "      <th colspan=\"8\" halign=\"left\">price</th>\n",
       "    </tr>\n",
       "    <tr>\n",
       "      <th></th>\n",
       "      <th>count</th>\n",
       "      <th>mean</th>\n",
       "      <th>std</th>\n",
       "      <th>min</th>\n",
       "      <th>25%</th>\n",
       "      <th>50%</th>\n",
       "      <th>75%</th>\n",
       "      <th>max</th>\n",
       "    </tr>\n",
       "    <tr>\n",
       "      <th>factor</th>\n",
       "      <th></th>\n",
       "      <th></th>\n",
       "      <th></th>\n",
       "      <th></th>\n",
       "      <th></th>\n",
       "      <th></th>\n",
       "      <th></th>\n",
       "      <th></th>\n",
       "    </tr>\n",
       "  </thead>\n",
       "  <tbody>\n",
       "    <tr>\n",
       "      <th>100less</th>\n",
       "      <td>105.0</td>\n",
       "      <td>4.447619</td>\n",
       "      <td>2.336915</td>\n",
       "      <td>1.0</td>\n",
       "      <td>3.0</td>\n",
       "      <td>4.0</td>\n",
       "      <td>6.0</td>\n",
       "      <td>10.0</td>\n",
       "    </tr>\n",
       "    <tr>\n",
       "      <th>100to400</th>\n",
       "      <td>105.0</td>\n",
       "      <td>6.428571</td>\n",
       "      <td>2.307418</td>\n",
       "      <td>1.0</td>\n",
       "      <td>5.0</td>\n",
       "      <td>7.0</td>\n",
       "      <td>8.0</td>\n",
       "      <td>10.0</td>\n",
       "    </tr>\n",
       "    <tr>\n",
       "      <th>400to600</th>\n",
       "      <td>105.0</td>\n",
       "      <td>7.447619</td>\n",
       "      <td>2.125762</td>\n",
       "      <td>1.0</td>\n",
       "      <td>6.0</td>\n",
       "      <td>8.0</td>\n",
       "      <td>9.0</td>\n",
       "      <td>10.0</td>\n",
       "    </tr>\n",
       "    <tr>\n",
       "      <th>600to800</th>\n",
       "      <td>105.0</td>\n",
       "      <td>8.019048</td>\n",
       "      <td>2.038009</td>\n",
       "      <td>1.0</td>\n",
       "      <td>7.0</td>\n",
       "      <td>9.0</td>\n",
       "      <td>10.0</td>\n",
       "      <td>10.0</td>\n",
       "    </tr>\n",
       "    <tr>\n",
       "      <th>800more</th>\n",
       "      <td>105.0</td>\n",
       "      <td>8.828571</td>\n",
       "      <td>1.913802</td>\n",
       "      <td>1.0</td>\n",
       "      <td>8.0</td>\n",
       "      <td>10.0</td>\n",
       "      <td>10.0</td>\n",
       "      <td>10.0</td>\n",
       "    </tr>\n",
       "  </tbody>\n",
       "</table>\n",
       "</div>"
      ],
      "text/plain": [
       "          price                                                \n",
       "          count      mean       std  min  25%   50%   75%   max\n",
       "factor                                                         \n",
       "100less   105.0  4.447619  2.336915  1.0  3.0   4.0   6.0  10.0\n",
       "100to400  105.0  6.428571  2.307418  1.0  5.0   7.0   8.0  10.0\n",
       "400to600  105.0  7.447619  2.125762  1.0  6.0   8.0   9.0  10.0\n",
       "600to800  105.0  8.019048  2.038009  1.0  7.0   9.0  10.0  10.0\n",
       "800more   105.0  8.828571  1.913802  1.0  8.0  10.0  10.0  10.0"
      ]
     },
     "execution_count": 30,
     "metadata": {},
     "output_type": "execute_result"
    }
   ],
   "source": [
    "df3_long.groupby(['factor']).describe()"
   ]
  },
  {
   "cell_type": "markdown",
   "metadata": {},
   "source": [
    "### ANOVA Test for Mean Equality"
   ]
  },
  {
   "cell_type": "code",
   "execution_count": 31,
   "metadata": {},
   "outputs": [
    {
     "data": {
      "text/plain": [
       "F_onewayResult(statistic=64.81679697711445, pvalue=1.8383753017141964e-44)"
      ]
     },
     "execution_count": 31,
     "metadata": {},
     "output_type": "execute_result"
    }
   ],
   "source": [
    "stats.f_oneway(df3_long['price'][df3_long['factor'] == '100less'], \n",
    "               df3_long['price'][df3_long['factor'] == '100to400'],\n",
    "               df3_long['price'][df3_long['factor'] == '400to600'],\n",
    "               df3_long['price'][df3_long['factor'] == '600to800'],\n",
    "               df3_long['price'][df3_long['factor'] == '800more'])"
   ]
  },
  {
   "cell_type": "code",
   "execution_count": 32,
   "metadata": {},
   "outputs": [
    {
     "data": {
      "text/html": [
       "<div>\n",
       "<style scoped>\n",
       "    .dataframe tbody tr th:only-of-type {\n",
       "        vertical-align: middle;\n",
       "    }\n",
       "\n",
       "    .dataframe tbody tr th {\n",
       "        vertical-align: top;\n",
       "    }\n",
       "\n",
       "    .dataframe thead th {\n",
       "        text-align: right;\n",
       "    }\n",
       "</style>\n",
       "<table border=\"1\" class=\"dataframe\">\n",
       "  <thead>\n",
       "    <tr style=\"text-align: right;\">\n",
       "      <th></th>\n",
       "      <th>sum_sq</th>\n",
       "      <th>df</th>\n",
       "      <th>F</th>\n",
       "      <th>PR(&gt;F)</th>\n",
       "    </tr>\n",
       "  </thead>\n",
       "  <tbody>\n",
       "    <tr>\n",
       "      <th>C(factor)</th>\n",
       "      <td>1198.868571</td>\n",
       "      <td>4.0</td>\n",
       "      <td>64.816797</td>\n",
       "      <td>1.838375e-44</td>\n",
       "    </tr>\n",
       "    <tr>\n",
       "      <th>Residual</th>\n",
       "      <td>2404.514286</td>\n",
       "      <td>520.0</td>\n",
       "      <td>NaN</td>\n",
       "      <td>NaN</td>\n",
       "    </tr>\n",
       "  </tbody>\n",
       "</table>\n",
       "</div>"
      ],
      "text/plain": [
       "                sum_sq     df          F        PR(>F)\n",
       "C(factor)  1198.868571    4.0  64.816797  1.838375e-44\n",
       "Residual   2404.514286  520.0        NaN           NaN"
      ]
     },
     "execution_count": 32,
     "metadata": {},
     "output_type": "execute_result"
    }
   ],
   "source": [
    "results2 = smf.ols('price ~ C(factor)', data=df3_long).fit()\n",
    "aov_table2 = sms.anova_lm(results2, typ=2)\n",
    "aov_table2"
   ]
  },
  {
   "cell_type": "markdown",
   "metadata": {},
   "source": [
    "Since p-value = 1.8384e-44 < 0.05, we reject the null hypothesis.  \n",
    "We can infer that there are differences in the appeal of lottery between the five intervals of price of prizes."
   ]
  },
  {
   "cell_type": "markdown",
   "metadata": {},
   "source": [
    "### Checking the Required Conditions\n",
    "#### (1) Normality Assumption\n",
    "##### Plotting histogram of the residuals"
   ]
  },
  {
   "cell_type": "code",
   "execution_count": 33,
   "metadata": {},
   "outputs": [
    {
     "data": {
      "image/png": "[encoded data removed]",
      "text/plain": [
       "<Figure size 480x320 with 1 Axes>"
      ]
     },
     "metadata": {
      "needs_background": "light"
     },
     "output_type": "display_data"
    }
   ],
   "source": [
    "_ = plt.hist(results2.resid, bins = 'auto')"
   ]
  },
  {
   "cell_type": "markdown",
   "metadata": {},
   "source": [
    "##### Plotting Q-Q plot of the residuals"
   ]
  },
  {
   "cell_type": "code",
   "execution_count": 34,
   "metadata": {},
   "outputs": [
    {
     "data": {
      "image/png": "[encoded data removed]",
      "text/plain": [
       "<Figure size 480x320 with 1 Axes>"
      ]
     },
     "metadata": {
      "needs_background": "light"
     },
     "output_type": "display_data"
    }
   ],
   "source": [
    "fig = sm.qqplot(results2.resid, stats.norm, fit=True, line='45')"
   ]
  },
  {
   "cell_type": "markdown",
   "metadata": {},
   "source": [
    "##### Shapiro-Wilk normality test\n",
    "\n",
    "$H_0$: The distribution is normal.  \n",
    "$H_1$: The distribution is not normal.  \n",
    "$\\alpha$ = 0.05"
   ]
  },
  {
   "cell_type": "code",
   "execution_count": 35,
   "metadata": {},
   "outputs": [
    {
     "name": "stdout",
     "output_type": "stream",
     "text": [
      "Statistics = 0.959, p = 0.000\n"
     ]
    }
   ],
   "source": [
    "stat, p = stats.shapiro(results2.resid)\n",
    "print('Statistics = %.3f, p = %.3f' % (stat, p))"
   ]
  },
  {
   "cell_type": "markdown",
   "metadata": {},
   "source": [
    "Since the p-value = 0.000 < 0.05, we reject the null hypothesis.  \n",
    "The normality assumption is not satisfied.  \n",
    "Thus, the result of the ANOVA test might not be that accurate."
   ]
  },
  {
   "cell_type": "markdown",
   "metadata": {},
   "source": [
    "#### (2) Equal Variance Assumption\n",
    "##### Bartlett's Test for Eaual Variances\n",
    "\n",
    "$H_0$: $\\sigma_1^2$ = $\\sigma_2^2$ = $\\sigma_3^2$ = $\\sigma_4^2$ = $\\sigma_5^2$  \n",
    "$H_1$: At least two variances differ.  \n",
    "$\\alpha$ = 0.05"
   ]
  },
  {
   "cell_type": "code",
   "execution_count": 36,
   "metadata": {},
   "outputs": [
    {
     "data": {
      "text/plain": [
       "BartlettResult(statistic=5.807887369632221, pvalue=0.21396208739408062)"
      ]
     },
     "execution_count": 36,
     "metadata": {},
     "output_type": "execute_result"
    }
   ],
   "source": [
    "stats.bartlett(df3_long['price'][df3_long['factor'] == '100less'], \n",
    "               df3_long['price'][df3_long['factor'] == '100to400'],\n",
    "               df3_long['price'][df3_long['factor'] == '400to600'],\n",
    "               df3_long['price'][df3_long['factor'] == '600to800'],\n",
    "               df3_long['price'][df3_long['factor'] == '800more'])"
   ]
  },
  {
   "cell_type": "markdown",
   "metadata": {},
   "source": [
    "Since p-value = 0.2140 > 0.05, we do not reject the null hypothesis.  \n",
    "There is sufficient evidence to infer that $\\sigma_1^2$ = $\\sigma_2^2$ = $\\sigma_3^2$ = $\\sigma_4^2$ = $\\sigma_5^2$.  \n",
    "The equal variance assumption is not violated."
   ]
  },
  {
   "cell_type": "markdown",
   "metadata": {},
   "source": [
    "#### (3) Independent Assumption\n",
    "The observations are independent."
   ]
  },
  {
   "cell_type": "markdown",
   "metadata": {},
   "source": [
    "### Kruskal-Wallis Test for Price of Prizes"
   ]
  },
  {
   "cell_type": "markdown",
   "metadata": {},
   "source": [
    "H<sub>0</sub> : The locations of five intervals of price of prizes are the same.  <br>\n",
    "H<sub>1</sub> : At least two intervals locations differ.\n",
    "\n",
    "$\\alpha$ = 0.05"
   ]
  },
  {
   "cell_type": "code",
   "execution_count": 37,
   "metadata": {},
   "outputs": [
    {
     "data": {
      "text/html": [
       "<div>\n",
       "<style scoped>\n",
       "    .dataframe tbody tr th:only-of-type {\n",
       "        vertical-align: middle;\n",
       "    }\n",
       "\n",
       "    .dataframe tbody tr th {\n",
       "        vertical-align: top;\n",
       "    }\n",
       "\n",
       "    .dataframe thead th {\n",
       "        text-align: right;\n",
       "    }\n",
       "</style>\n",
       "<table border=\"1\" class=\"dataframe\">\n",
       "  <thead>\n",
       "    <tr style=\"text-align: right;\">\n",
       "      <th></th>\n",
       "      <th>price_100less</th>\n",
       "      <th>price_100to400</th>\n",
       "      <th>price_400to600</th>\n",
       "      <th>price_600to800</th>\n",
       "      <th>price_800more</th>\n",
       "      <th>id</th>\n",
       "    </tr>\n",
       "  </thead>\n",
       "  <tbody>\n",
       "    <tr>\n",
       "      <th>0</th>\n",
       "      <td>5</td>\n",
       "      <td>8</td>\n",
       "      <td>10</td>\n",
       "      <td>10</td>\n",
       "      <td>10</td>\n",
       "      <td>0</td>\n",
       "    </tr>\n",
       "    <tr>\n",
       "      <th>1</th>\n",
       "      <td>10</td>\n",
       "      <td>10</td>\n",
       "      <td>10</td>\n",
       "      <td>10</td>\n",
       "      <td>10</td>\n",
       "      <td>1</td>\n",
       "    </tr>\n",
       "    <tr>\n",
       "      <th>2</th>\n",
       "      <td>10</td>\n",
       "      <td>10</td>\n",
       "      <td>10</td>\n",
       "      <td>10</td>\n",
       "      <td>10</td>\n",
       "      <td>2</td>\n",
       "    </tr>\n",
       "    <tr>\n",
       "      <th>3</th>\n",
       "      <td>4</td>\n",
       "      <td>6</td>\n",
       "      <td>8</td>\n",
       "      <td>9</td>\n",
       "      <td>10</td>\n",
       "      <td>3</td>\n",
       "    </tr>\n",
       "    <tr>\n",
       "      <th>4</th>\n",
       "      <td>8</td>\n",
       "      <td>9</td>\n",
       "      <td>10</td>\n",
       "      <td>10</td>\n",
       "      <td>10</td>\n",
       "      <td>4</td>\n",
       "    </tr>\n",
       "  </tbody>\n",
       "</table>\n",
       "</div>"
      ],
      "text/plain": [
       "   price_100less  price_100to400  price_400to600  price_600to800  \\\n",
       "0              5               8              10              10   \n",
       "1             10              10              10              10   \n",
       "2             10              10              10              10   \n",
       "3              4               6               8               9   \n",
       "4              8               9              10              10   \n",
       "\n",
       "   price_800more  id  \n",
       "0             10   0  \n",
       "1             10   1  \n",
       "2             10   2  \n",
       "3             10   3  \n",
       "4             10   4  "
      ]
     },
     "metadata": {},
     "output_type": "display_data"
    }
   ],
   "source": [
    "display(df3.head())"
   ]
  },
  {
   "cell_type": "code",
   "execution_count": 38,
   "metadata": {},
   "outputs": [
    {
     "data": {
      "text/html": [
       "<div>\n",
       "<style scoped>\n",
       "    .dataframe tbody tr th:only-of-type {\n",
       "        vertical-align: middle;\n",
       "    }\n",
       "\n",
       "    .dataframe tbody tr th {\n",
       "        vertical-align: top;\n",
       "    }\n",
       "\n",
       "    .dataframe thead th {\n",
       "        text-align: right;\n",
       "    }\n",
       "</style>\n",
       "<table border=\"1\" class=\"dataframe\">\n",
       "  <thead>\n",
       "    <tr style=\"text-align: right;\">\n",
       "      <th></th>\n",
       "      <th>value</th>\n",
       "      <th>rank</th>\n",
       "    </tr>\n",
       "  </thead>\n",
       "  <tbody>\n",
       "    <tr>\n",
       "      <th>0</th>\n",
       "      <td>1</td>\n",
       "      <td>11.5</td>\n",
       "    </tr>\n",
       "    <tr>\n",
       "      <th>1</th>\n",
       "      <td>2</td>\n",
       "      <td>28.0</td>\n",
       "    </tr>\n",
       "    <tr>\n",
       "      <th>2</th>\n",
       "      <td>3</td>\n",
       "      <td>52.5</td>\n",
       "    </tr>\n",
       "    <tr>\n",
       "      <th>3</th>\n",
       "      <td>4</td>\n",
       "      <td>87.0</td>\n",
       "    </tr>\n",
       "    <tr>\n",
       "      <th>4</th>\n",
       "      <td>5</td>\n",
       "      <td>124.0</td>\n",
       "    </tr>\n",
       "    <tr>\n",
       "      <th>5</th>\n",
       "      <td>6</td>\n",
       "      <td>166.5</td>\n",
       "    </tr>\n",
       "    <tr>\n",
       "      <th>6</th>\n",
       "      <td>7</td>\n",
       "      <td>221.5</td>\n",
       "    </tr>\n",
       "    <tr>\n",
       "      <th>7</th>\n",
       "      <td>8</td>\n",
       "      <td>297.0</td>\n",
       "    </tr>\n",
       "    <tr>\n",
       "      <th>8</th>\n",
       "      <td>9</td>\n",
       "      <td>371.5</td>\n",
       "    </tr>\n",
       "    <tr>\n",
       "      <th>9</th>\n",
       "      <td>10</td>\n",
       "      <td>465.0</td>\n",
       "    </tr>\n",
       "  </tbody>\n",
       "</table>\n",
       "</div>"
      ],
      "text/plain": [
       "   value   rank\n",
       "0      1   11.5\n",
       "1      2   28.0\n",
       "2      3   52.5\n",
       "3      4   87.0\n",
       "4      5  124.0\n",
       "5      6  166.5\n",
       "6      7  221.5\n",
       "7      8  297.0\n",
       "8      9  371.5\n",
       "9     10  465.0"
      ]
     },
     "execution_count": 38,
     "metadata": {},
     "output_type": "execute_result"
    }
   ],
   "source": [
    "alldata = np.concatenate([df3['price_100less'], df3['price_100to400'], df3['price_400to600'], df3['price_600to800'], df3['price_800more']])\n",
    "alldata.sort()\n",
    "tmpdf = pd.DataFrame(({'value': alldata}))\n",
    "tmpdf['rank'] = tmpdf.index + 1\n",
    "value2rank = tmpdf.groupby('value').mean().reset_index()\n",
    "value2rank"
   ]
  },
  {
   "cell_type": "code",
   "execution_count": 39,
   "metadata": {},
   "outputs": [
    {
     "name": "stdout",
     "output_type": "stream",
     "text": [
      "T1 = 12863.000000\n",
      "T2 = 22866.000000\n",
      "T3 = 29285.500000\n",
      "T4 = 33291.000000\n",
      "T5 = 39769.500000\n"
     ]
    }
   ],
   "source": [
    "samp1 = pd.DataFrame({'value': df3['price_100less'].values})\n",
    "samp1 = pd.merge(samp1, value2rank)\n",
    "T1 = samp1['rank'].sum()\n",
    "\n",
    "samp2 = pd.DataFrame({'value': df3['price_100to400'].values})\n",
    "samp2 = pd.merge(samp2, value2rank)\n",
    "T2 = samp2['rank'].sum()\n",
    "\n",
    "samp3 = pd.DataFrame({'value': df3['price_400to600'].values})\n",
    "samp3 = pd.merge(samp3, value2rank)\n",
    "T3 = samp3['rank'].sum()\n",
    "\n",
    "samp4 = pd.DataFrame({'value': df3['price_600to800'].values})\n",
    "samp4 = pd.merge(samp4, value2rank)\n",
    "T4 = samp4['rank'].sum()\n",
    "\n",
    "samp5 = pd.DataFrame({'value': df3['price_800more'].values})\n",
    "samp5 = pd.merge(samp5, value2rank)\n",
    "T5 = samp5['rank'].sum()\n",
    "\n",
    "print(\"T1 = %f\" % T1)\n",
    "print(\"T2 = %f\" % T2)\n",
    "print(\"T3 = %f\" % T3)\n",
    "print(\"T4 = %f\" % T4)\n",
    "print(\"T5 = %f\" % T5)"
   ]
  },
  {
   "cell_type": "code",
   "execution_count": 40,
   "metadata": {},
   "outputs": [
    {
     "name": "stdout",
     "output_type": "stream",
     "text": [
      "H = 175.02451421328988\n",
      "p-value = 0.0\n"
     ]
    }
   ],
   "source": [
    "n1 = df3['price_100less'].count()\n",
    "k = 5\n",
    "n = n1*k\n",
    "H = 12/ n / (n+1) * (T1**2/n1 + T2**2/n1 + T3**2/n1 + T4**2/n1 + T5**2/n1)-3*(n+1)\n",
    "pvalue = 1 - stats.chi2.cdf(H, k-1)\n",
    "\n",
    "print(\"H =\", H)\n",
    "print(\"p-value =\", pvalue)"
   ]
  },
  {
   "cell_type": "markdown",
   "metadata": {},
   "source": [
    "The p-value 0.0 < 0.05, we reject the null hypothesis  <br>\n",
    "Therefore, there are sufficient evidence to infer that the appeal of a lottery differ between the five intervals of price of prizes."
   ]
  }
 ],
 "metadata": {
  "kernelspec": {
   "display_name": "Python 3",
   "language": "python",
   "name": "python3"
  },
  "language_info": {
   "codemirror_mode": {
    "name": "ipython",
    "version": 3
   },
   "file_extension": ".py",
   "mimetype": "text/x-python",
   "name": "python",
   "nbconvert_exporter": "python",
   "pygments_lexer": "ipython3",
   "version": "3.7.9"
  }
 },
 "nbformat": 4,
 "nbformat_minor": 4
}
