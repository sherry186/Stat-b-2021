{
 "cells": [
  {
   "cell_type": "markdown",
   "metadata": {},
   "source": [
    "# 人工蒐集資料分析"
   ]
  },
  {
   "cell_type": "markdown",
   "metadata": {},
   "source": [
    "## 載入函示庫"
   ]
  },
  {
   "cell_type": "code",
   "execution_count": 1,
   "metadata": {},
   "outputs": [],
   "source": [
    "#載入所需函示庫\n",
    "from matplotlib import pyplot as plt\n",
    "%matplotlib inline\n",
    "# 設定圖形大小; DPI越大圖越大\n",
    "plt.rcParams[\"figure.dpi\"] = 100\n",
    "import seaborn as sns\n",
    "import pandas as pd\n",
    "import numpy as np\n",
    "import scipy.stats as stats\n",
    "import statsmodels.api as sm\n",
    "import statsmodels.stats.api as sms\n",
    "import statsmodels.formula.api as smf\n",
    "import statsmodels.stats.multicomp as smm\n",
    "import statsmodels.stats.outliers_influence as sso\n",
    "import statsmodels.stats.stattools as smss\n",
    "import math\n",
    "import statistics"
   ]
  },
  {
   "cell_type": "code",
   "execution_count": 2,
   "metadata": {},
   "outputs": [],
   "source": [
    "def runsTest(l, l_median): \n",
    "    runs, n1, n2 = 1, 0, 0\n",
    "    if(l[0]) >= l_median:\n",
    "        n1 += 1   \n",
    "    else:\n",
    "        n2 += 1   \n",
    "    for i in range(1, len(l)): \n",
    "        if (l[i] >= l_median and l[i-1] < l_median) or (l[i] < l_median and l[i-1] >= l_median):\n",
    "            runs += 1  \n",
    "        if(l[i]) >= l_median: \n",
    "            n1 += 1   \n",
    "        else: \n",
    "            n2 += 1   \n",
    "    runs_exp = ((2*n1*n2)/(n1+n2)) + 1\n",
    "    stan_dev = math.sqrt((2*n1*n2*(2*n1*n2-n1-n2))/(((n1+n2)**2)*(n1+n2-1))) \n",
    "    z = (runs-runs_exp)/stan_dev\n",
    "    pval_z = stats.norm.sf(abs(z)) * 2\n",
    "    print('runs = ', runs)\n",
    "    print('n1 = ', n1)\n",
    "    print('n2 = ', n2)\n",
    "    print('runs_exp = ', runs_exp)\n",
    "    print('stan_dev = ', stan_dev)\n",
    "    print('z = ', z)\n",
    "    print('pval_z = ', pval_z)\n",
    "    return pval_z"
   ]
  },
  {
   "cell_type": "code",
   "execution_count": 3,
   "metadata": {},
   "outputs": [],
   "source": [
    "def Durbin_Watson_test(x):\n",
    "    x_square_sum = np.vdot(x, x)\n",
    "    print(\"x_square_sum = \", x_square_sum)\n",
    "    size = x.size\n",
    "    print(\"size = \", size)\n",
    "    x_d = np.zeros((size))\n",
    "    print(\"x_d = \", x_d)\n",
    "    l_size = size - 1\n",
    "    for i in range(l_size):\n",
    "        x_d[i + 1] = x[i + 1] - x[i]\n",
    "    print(\"x_d = \", x_d)\n",
    "    d = np.vdot(x_d, x_d) / x_square_sum\n",
    "    print(\"d = \", d)\n",
    "    return(d)"
   ]
  },
  {
   "cell_type": "code",
   "execution_count": 4,
   "metadata": {},
   "outputs": [],
   "source": [
    "def CI_PI_regression(xdata, yval, x1, a):\n",
    "    print(\"make CI and PI prediction at mean of x = \", x1)\n",
    "    X_data_T = xdata.T\n",
    "    X_data2 = sm.add_constant(X_data_T)\n",
    "    olsmod = sm.OLS(yval, X_data2)\n",
    "    result_reg = olsmod.fit()\n",
    "    y_head = np.dot(result_reg.params, x1)\n",
    "    print(\"y_head = \", y_head)\n",
    "    (t_minus, t_plus) = stats.t.interval(alpha = (1.0 - a), df = result_reg.df_resid )\n",
    "    core1 = (result_reg.mse_resid * np.matmul(x1, np.linalg.solve(np.matmul(X_data2.T, X_data2), x1))) ** 0.5\n",
    "    lower_bound = y_head +  t_minus * core1\n",
    "    upper_bound = y_head +  t_plus * core1\n",
    "    print(\"confidence interval of mean = [%0.4f, %0.4f] \" % (lower_bound, upper_bound))\n",
    "    core2 = (result_reg.mse_resid * (1 + np.matmul(x1, np.linalg.solve(np.matmul(X_data2.T, X_data2), x1)))) ** 0.5\n",
    "    lower_bound2 = y_head +  t_minus * core2\n",
    "    upper_bound2 = y_head +  t_plus * core2\n",
    "    print(\"Prediction interval = [%0.4f, %0.4f] \" % (lower_bound2, upper_bound2))\n",
    "    CI_PI = np.array([lower_bound, upper_bound, lower_bound2, upper_bound2])\n",
    "    return CI_PI"
   ]
  },
  {
   "cell_type": "code",
   "execution_count": 5,
   "metadata": {},
   "outputs": [],
   "source": [
    "def Chi_Square_for_Normality(stand_res, N, a): \n",
    "    m = np.mean(stand_res)\n",
    "    s = np.std(stand_res)\n",
    "    prob_bins = np.zeros((N + 1))\n",
    "    z_bins = np.zeros((N + 1))\n",
    "    z_bins[0] = -4\n",
    "    z_bins[N] = 4\n",
    "    for i in range(0, N+1):\n",
    "        prob_bins[i] = i/N\n",
    "    for j in range(1, N):\n",
    "        z_bins[j] = m + stats.norm.isf(1 - prob_bins[j]) * s\n",
    "    counts, bins = np.histogram(stand_res, bins=z_bins)\n",
    "    nobs = counts.sum()\n",
    "    prob_e = np.zeros((N))\n",
    "    for i in range(1, N+1):\n",
    "        prob_e[i - 1] = prob_bins[i] - prob_bins[i - 1]   \n",
    "    freq_e = nobs * prob_e\n",
    "    freq_o = counts\n",
    "    if np.sum(freq_e < 5) > 0:\n",
    "        print(\"Rule of five is not met. \")\n",
    "    else:\n",
    "        chi_stat, pval = stats.chisquare(freq_o, freq_e)\n",
    "        chi_pval = stats.chi2.sf(chi_stat, N - 3)\n",
    "        print(\"Chi-squared test: statistics = %0.4f, p-value = %0.4f\" % (chi_stat, chi_pval))\n",
    "    df = freq_o.shape[0]-3\n",
    "    crit_value = stats.chi2.ppf(1 - a, df)\n",
    "    print(\"Critical value = %0.4f (defree of freedom = %d)\" % (crit_value, df))\n",
    "    \n",
    "    return chi_pval"
   ]
  },
  {
   "cell_type": "markdown",
   "metadata": {},
   "source": [
    "## 載入資料"
   ]
  },
  {
   "cell_type": "code",
   "execution_count": 6,
   "metadata": {},
   "outputs": [
    {
     "name": "stdout",
     "output_type": "stream",
     "text": [
      "Head of dataset:\n"
     ]
    },
    {
     "data": {
      "text/html": [
       "<div>\n",
       "<style scoped>\n",
       "    .dataframe tbody tr th:only-of-type {\n",
       "        vertical-align: middle;\n",
       "    }\n",
       "\n",
       "    .dataframe tbody tr th {\n",
       "        vertical-align: top;\n",
       "    }\n",
       "\n",
       "    .dataframe thead th {\n",
       "        text-align: right;\n",
       "    }\n",
       "</style>\n",
       "<table border=\"1\" class=\"dataframe\">\n",
       "  <thead>\n",
       "    <tr style=\"text-align: right;\">\n",
       "      <th></th>\n",
       "      <th>date</th>\n",
       "      <th>comments</th>\n",
       "      <th>condition</th>\n",
       "      <th>total_price</th>\n",
       "      <th>tag</th>\n",
       "      <th>likes</th>\n",
       "    </tr>\n",
       "  </thead>\n",
       "  <tbody>\n",
       "    <tr>\n",
       "      <th>0</th>\n",
       "      <td>2021-05-31</td>\n",
       "      <td>155</td>\n",
       "      <td>1</td>\n",
       "      <td>700</td>\n",
       "      <td>3</td>\n",
       "      <td>63</td>\n",
       "    </tr>\n",
       "    <tr>\n",
       "      <th>1</th>\n",
       "      <td>2021-05-31</td>\n",
       "      <td>48</td>\n",
       "      <td>1</td>\n",
       "      <td>200</td>\n",
       "      <td>2</td>\n",
       "      <td>43</td>\n",
       "    </tr>\n",
       "    <tr>\n",
       "      <th>2</th>\n",
       "      <td>2021-05-31</td>\n",
       "      <td>46</td>\n",
       "      <td>1</td>\n",
       "      <td>800</td>\n",
       "      <td>2</td>\n",
       "      <td>106</td>\n",
       "    </tr>\n",
       "    <tr>\n",
       "      <th>3</th>\n",
       "      <td>2021-05-31</td>\n",
       "      <td>54</td>\n",
       "      <td>1</td>\n",
       "      <td>400</td>\n",
       "      <td>2</td>\n",
       "      <td>33</td>\n",
       "    </tr>\n",
       "    <tr>\n",
       "      <th>4</th>\n",
       "      <td>2021-05-29</td>\n",
       "      <td>17</td>\n",
       "      <td>1</td>\n",
       "      <td>1000</td>\n",
       "      <td>2</td>\n",
       "      <td>31</td>\n",
       "    </tr>\n",
       "  </tbody>\n",
       "</table>\n",
       "</div>"
      ],
      "text/plain": [
       "        date  comments  condition  total_price  tag  likes\n",
       "0 2021-05-31       155          1          700    3     63\n",
       "1 2021-05-31        48          1          200    2     43\n",
       "2 2021-05-31        46          1          800    2    106\n",
       "3 2021-05-31        54          1          400    2     33\n",
       "4 2021-05-29        17          1         1000    2     31"
      ]
     },
     "metadata": {},
     "output_type": "display_data"
    },
    {
     "name": "stdout",
     "output_type": "stream",
     "text": [
      "Tail of dataset:\n"
     ]
    },
    {
     "data": {
      "text/html": [
       "<div>\n",
       "<style scoped>\n",
       "    .dataframe tbody tr th:only-of-type {\n",
       "        vertical-align: middle;\n",
       "    }\n",
       "\n",
       "    .dataframe tbody tr th {\n",
       "        vertical-align: top;\n",
       "    }\n",
       "\n",
       "    .dataframe thead th {\n",
       "        text-align: right;\n",
       "    }\n",
       "</style>\n",
       "<table border=\"1\" class=\"dataframe\">\n",
       "  <thead>\n",
       "    <tr style=\"text-align: right;\">\n",
       "      <th></th>\n",
       "      <th>date</th>\n",
       "      <th>comments</th>\n",
       "      <th>condition</th>\n",
       "      <th>total_price</th>\n",
       "      <th>tag</th>\n",
       "      <th>likes</th>\n",
       "    </tr>\n",
       "  </thead>\n",
       "  <tbody>\n",
       "    <tr>\n",
       "      <th>209</th>\n",
       "      <td>2019-05-08</td>\n",
       "      <td>26</td>\n",
       "      <td>1</td>\n",
       "      <td>120</td>\n",
       "      <td>2</td>\n",
       "      <td>28</td>\n",
       "    </tr>\n",
       "    <tr>\n",
       "      <th>210</th>\n",
       "      <td>2019-04-30</td>\n",
       "      <td>72</td>\n",
       "      <td>1</td>\n",
       "      <td>240</td>\n",
       "      <td>2</td>\n",
       "      <td>59</td>\n",
       "    </tr>\n",
       "    <tr>\n",
       "      <th>211</th>\n",
       "      <td>2019-04-26</td>\n",
       "      <td>41</td>\n",
       "      <td>1</td>\n",
       "      <td>200</td>\n",
       "      <td>2</td>\n",
       "      <td>54</td>\n",
       "    </tr>\n",
       "    <tr>\n",
       "      <th>212</th>\n",
       "      <td>2019-04-23</td>\n",
       "      <td>29</td>\n",
       "      <td>1</td>\n",
       "      <td>750</td>\n",
       "      <td>2</td>\n",
       "      <td>70</td>\n",
       "    </tr>\n",
       "    <tr>\n",
       "      <th>213</th>\n",
       "      <td>2019-03-12</td>\n",
       "      <td>161</td>\n",
       "      <td>1</td>\n",
       "      <td>685</td>\n",
       "      <td>2</td>\n",
       "      <td>60</td>\n",
       "    </tr>\n",
       "  </tbody>\n",
       "</table>\n",
       "</div>"
      ],
      "text/plain": [
       "          date  comments  condition  total_price  tag  likes\n",
       "209 2019-05-08        26          1          120    2     28\n",
       "210 2019-04-30        72          1          240    2     59\n",
       "211 2019-04-26        41          1          200    2     54\n",
       "212 2019-04-23        29          1          750    2     70\n",
       "213 2019-03-12       161          1          685    2     60"
      ]
     },
     "metadata": {},
     "output_type": "display_data"
    }
   ],
   "source": [
    "df = pd.read_excel('Stat_2020_b_1_Regression.xlsx', sheet_name = 'all_data')\n",
    "print('Head of dataset:')\n",
    "display(df.head())\n",
    "\n",
    "print(\"Tail of dataset:\")\n",
    "display(df.tail())"
   ]
  },
  {
   "cell_type": "markdown",
   "metadata": {},
   "source": [
    "# 複回歸分析"
   ]
  },
  {
   "cell_type": "markdown",
   "metadata": {},
   "source": [
    "X(independent variable) - total price(x1), likes(x2), condition: fill survey or not(x3) (fill survey = 1, no fill survey = 0), tag 2,3 people or not(x4) (2 or 3 people = 1, not two or three people = 0)\n",
    "\n",
    "y(dependent variable) - Comments"
   ]
  },
  {
   "cell_type": "markdown",
   "metadata": {},
   "source": [
    "### 1. Plot the scatter diagram"
   ]
  },
  {
   "cell_type": "code",
   "execution_count": 7,
   "metadata": {},
   "outputs": [
    {
     "data": {
      "image/png": "[encoded data removed]",
      "text/plain": [
       "<Figure size 600x400 with 1 Axes>"
      ]
     },
     "metadata": {
      "needs_background": "light"
     },
     "output_type": "display_data"
    },
    {
     "data": {
      "image/png": "[encoded data removed]",
      "text/plain": [
       "<Figure size 600x400 with 1 Axes>"
      ]
     },
     "metadata": {
      "needs_background": "light"
     },
     "output_type": "display_data"
    }
   ],
   "source": [
    "dfc1 = df[df.condition == 1]\n",
    "dfc2 = df[df.condition == 2]\n",
    "xnames = ['total_price','likes']\n",
    "for aname in xnames:\n",
    "    _ = sns.regplot(x=aname, y= 'comments', data = dfc1, color = 'green', ci = None)\n",
    "    _ = sns.regplot(x=aname, y= 'comments', data = dfc2, color = 'orange', ci = None)\n",
    "    plt.legend(labels=['fill survey', 'no fill survey'])\n",
    "    plt.title('Scatter Plot for Comments')\n",
    "    plt.xlabel(aname)\n",
    "    plt.ylabel('Comments')\n",
    "    plt.show()\n"
   ]
  },
  {
   "cell_type": "code",
   "execution_count": 8,
   "metadata": {},
   "outputs": [
    {
     "data": {
      "image/png": "[encoded data removed]",
      "text/plain": [
       "<Figure size 600x400 with 1 Axes>"
      ]
     },
     "metadata": {
      "needs_background": "light"
     },
     "output_type": "display_data"
    },
    {
     "data": {
      "image/png": "[encoded data removed]",
      "text/plain": [
       "<Figure size 600x400 with 1 Axes>"
      ]
     },
     "metadata": {
      "needs_background": "light"
     },
     "output_type": "display_data"
    }
   ],
   "source": [
    "dfc1 = df[(df.tag == 2) | (df.tag == 3) | (df.tag == 1)]\n",
    "dfc2 = df[(df.tag != 2) & (df.tag != 3) & (df.tag != 1)]\n",
    "xnames = ['total_price','likes']\n",
    "for aname in xnames:\n",
    "    _ = sns.regplot(x=aname, y= 'comments', data = dfc1, color = 'green', ci = None)\n",
    "    _ = sns.regplot(x=aname, y= 'comments', data = dfc2, color = 'orange', ci = None)\n",
    "    plt.legend(labels=['tag 1 or 2 or 3 people', 'not tag 1 or 2 or 3 people'])\n",
    "    plt.title('Scatter Plot for Comments')\n",
    "    plt.xlabel(aname)\n",
    "    plt.ylabel('Comments')\n",
    "    plt.show()\n"
   ]
  },
  {
   "cell_type": "code",
   "execution_count": 9,
   "metadata": {},
   "outputs": [
    {
     "data": {
      "text/html": [
       "<div>\n",
       "<style scoped>\n",
       "    .dataframe tbody tr th:only-of-type {\n",
       "        vertical-align: middle;\n",
       "    }\n",
       "\n",
       "    .dataframe tbody tr th {\n",
       "        vertical-align: top;\n",
       "    }\n",
       "\n",
       "    .dataframe thead th {\n",
       "        text-align: right;\n",
       "    }\n",
       "</style>\n",
       "<table border=\"1\" class=\"dataframe\">\n",
       "  <thead>\n",
       "    <tr style=\"text-align: right;\">\n",
       "      <th></th>\n",
       "      <th>comments</th>\n",
       "      <th>condition</th>\n",
       "      <th>total_price</th>\n",
       "      <th>tag</th>\n",
       "      <th>likes</th>\n",
       "    </tr>\n",
       "  </thead>\n",
       "  <tbody>\n",
       "    <tr>\n",
       "      <th>count</th>\n",
       "      <td>214.000000</td>\n",
       "      <td>214.000000</td>\n",
       "      <td>214.000000</td>\n",
       "      <td>214.000000</td>\n",
       "      <td>214.000000</td>\n",
       "    </tr>\n",
       "    <tr>\n",
       "      <th>mean</th>\n",
       "      <td>129.177570</td>\n",
       "      <td>1.135514</td>\n",
       "      <td>1293.355140</td>\n",
       "      <td>2.182243</td>\n",
       "      <td>82.616822</td>\n",
       "    </tr>\n",
       "    <tr>\n",
       "      <th>std</th>\n",
       "      <td>131.655748</td>\n",
       "      <td>0.343074</td>\n",
       "      <td>3126.725592</td>\n",
       "      <td>0.756482</td>\n",
       "      <td>68.113154</td>\n",
       "    </tr>\n",
       "    <tr>\n",
       "      <th>min</th>\n",
       "      <td>7.000000</td>\n",
       "      <td>1.000000</td>\n",
       "      <td>70.000000</td>\n",
       "      <td>0.000000</td>\n",
       "      <td>13.000000</td>\n",
       "    </tr>\n",
       "    <tr>\n",
       "      <th>25%</th>\n",
       "      <td>50.250000</td>\n",
       "      <td>1.000000</td>\n",
       "      <td>300.000000</td>\n",
       "      <td>2.000000</td>\n",
       "      <td>41.000000</td>\n",
       "    </tr>\n",
       "    <tr>\n",
       "      <th>50%</th>\n",
       "      <td>94.500000</td>\n",
       "      <td>1.000000</td>\n",
       "      <td>500.000000</td>\n",
       "      <td>2.000000</td>\n",
       "      <td>62.000000</td>\n",
       "    </tr>\n",
       "    <tr>\n",
       "      <th>75%</th>\n",
       "      <td>145.250000</td>\n",
       "      <td>1.000000</td>\n",
       "      <td>1000.000000</td>\n",
       "      <td>3.000000</td>\n",
       "      <td>100.250000</td>\n",
       "    </tr>\n",
       "    <tr>\n",
       "      <th>max</th>\n",
       "      <td>903.000000</td>\n",
       "      <td>2.000000</td>\n",
       "      <td>33602.000000</td>\n",
       "      <td>5.000000</td>\n",
       "      <td>469.000000</td>\n",
       "    </tr>\n",
       "  </tbody>\n",
       "</table>\n",
       "</div>"
      ],
      "text/plain": [
       "         comments   condition   total_price         tag       likes\n",
       "count  214.000000  214.000000    214.000000  214.000000  214.000000\n",
       "mean   129.177570    1.135514   1293.355140    2.182243   82.616822\n",
       "std    131.655748    0.343074   3126.725592    0.756482   68.113154\n",
       "min      7.000000    1.000000     70.000000    0.000000   13.000000\n",
       "25%     50.250000    1.000000    300.000000    2.000000   41.000000\n",
       "50%     94.500000    1.000000    500.000000    2.000000   62.000000\n",
       "75%    145.250000    1.000000   1000.000000    3.000000  100.250000\n",
       "max    903.000000    2.000000  33602.000000    5.000000  469.000000"
      ]
     },
     "execution_count": 9,
     "metadata": {},
     "output_type": "execute_result"
    }
   ],
   "source": [
    "df.describe()"
   ]
  },
  {
   "cell_type": "markdown",
   "metadata": {},
   "source": [
    "## 資料前處理"
   ]
  },
  {
   "cell_type": "code",
   "execution_count": 10,
   "metadata": {},
   "outputs": [
    {
     "data": {
      "text/html": [
       "<div>\n",
       "<style scoped>\n",
       "    .dataframe tbody tr th:only-of-type {\n",
       "        vertical-align: middle;\n",
       "    }\n",
       "\n",
       "    .dataframe tbody tr th {\n",
       "        vertical-align: top;\n",
       "    }\n",
       "\n",
       "    .dataframe thead th {\n",
       "        text-align: right;\n",
       "    }\n",
       "</style>\n",
       "<table border=\"1\" class=\"dataframe\">\n",
       "  <thead>\n",
       "    <tr style=\"text-align: right;\">\n",
       "      <th></th>\n",
       "      <th>date</th>\n",
       "      <th>comments</th>\n",
       "      <th>condition</th>\n",
       "      <th>total_price</th>\n",
       "      <th>tag</th>\n",
       "      <th>likes</th>\n",
       "      <th>condition_1</th>\n",
       "      <th>condition_2</th>\n",
       "    </tr>\n",
       "  </thead>\n",
       "  <tbody>\n",
       "    <tr>\n",
       "      <th>209</th>\n",
       "      <td>2019-05-08</td>\n",
       "      <td>26</td>\n",
       "      <td>1</td>\n",
       "      <td>120</td>\n",
       "      <td>2</td>\n",
       "      <td>28</td>\n",
       "      <td>1</td>\n",
       "      <td>0</td>\n",
       "    </tr>\n",
       "    <tr>\n",
       "      <th>210</th>\n",
       "      <td>2019-04-30</td>\n",
       "      <td>72</td>\n",
       "      <td>1</td>\n",
       "      <td>240</td>\n",
       "      <td>2</td>\n",
       "      <td>59</td>\n",
       "      <td>1</td>\n",
       "      <td>0</td>\n",
       "    </tr>\n",
       "    <tr>\n",
       "      <th>211</th>\n",
       "      <td>2019-04-26</td>\n",
       "      <td>41</td>\n",
       "      <td>1</td>\n",
       "      <td>200</td>\n",
       "      <td>2</td>\n",
       "      <td>54</td>\n",
       "      <td>1</td>\n",
       "      <td>0</td>\n",
       "    </tr>\n",
       "    <tr>\n",
       "      <th>212</th>\n",
       "      <td>2019-04-23</td>\n",
       "      <td>29</td>\n",
       "      <td>1</td>\n",
       "      <td>750</td>\n",
       "      <td>2</td>\n",
       "      <td>70</td>\n",
       "      <td>1</td>\n",
       "      <td>0</td>\n",
       "    </tr>\n",
       "    <tr>\n",
       "      <th>213</th>\n",
       "      <td>2019-03-12</td>\n",
       "      <td>161</td>\n",
       "      <td>1</td>\n",
       "      <td>685</td>\n",
       "      <td>2</td>\n",
       "      <td>60</td>\n",
       "      <td>1</td>\n",
       "      <td>0</td>\n",
       "    </tr>\n",
       "  </tbody>\n",
       "</table>\n",
       "</div>"
      ],
      "text/plain": [
       "          date  comments  condition  total_price  tag  likes  condition_1  \\\n",
       "209 2019-05-08        26          1          120    2     28            1   \n",
       "210 2019-04-30        72          1          240    2     59            1   \n",
       "211 2019-04-26        41          1          200    2     54            1   \n",
       "212 2019-04-23        29          1          750    2     70            1   \n",
       "213 2019-03-12       161          1          685    2     60            1   \n",
       "\n",
       "     condition_2  \n",
       "209            0  \n",
       "210            0  \n",
       "211            0  \n",
       "212            0  \n",
       "213            0  "
      ]
     },
     "execution_count": 10,
     "metadata": {},
     "output_type": "execute_result"
    }
   ],
   "source": [
    "color_dummy = pd.get_dummies(df['condition'], prefix = 'condition')\n",
    "color_dummy\n",
    "df = pd.concat([df, color_dummy], axis = 1)\n",
    "df.tail()"
   ]
  },
  {
   "cell_type": "code",
   "execution_count": 11,
   "metadata": {},
   "outputs": [],
   "source": [
    "df.loc[(df['tag'] == 2) | (df['tag'] == 3) | (df['tag'] == 1), 'tags_123'] = 1 \n",
    "df.loc[(df['tag'] != 2) & (df['tag'] != 3)  & (df['tag'] != 1), 'tags_123'] = 0 "
   ]
  },
  {
   "cell_type": "code",
   "execution_count": 12,
   "metadata": {},
   "outputs": [],
   "source": [
    "df.drop(columns = ['condition_2', 'condition', 'tag'], inplace=True)"
   ]
  },
  {
   "cell_type": "code",
   "execution_count": 13,
   "metadata": {},
   "outputs": [
    {
     "data": {
      "text/html": [
       "<div>\n",
       "<style scoped>\n",
       "    .dataframe tbody tr th:only-of-type {\n",
       "        vertical-align: middle;\n",
       "    }\n",
       "\n",
       "    .dataframe tbody tr th {\n",
       "        vertical-align: top;\n",
       "    }\n",
       "\n",
       "    .dataframe thead th {\n",
       "        text-align: right;\n",
       "    }\n",
       "</style>\n",
       "<table border=\"1\" class=\"dataframe\">\n",
       "  <thead>\n",
       "    <tr style=\"text-align: right;\">\n",
       "      <th></th>\n",
       "      <th>date</th>\n",
       "      <th>comments</th>\n",
       "      <th>total_price</th>\n",
       "      <th>likes</th>\n",
       "      <th>condition_1</th>\n",
       "      <th>tags_123</th>\n",
       "    </tr>\n",
       "  </thead>\n",
       "  <tbody>\n",
       "    <tr>\n",
       "      <th>0</th>\n",
       "      <td>2021-05-31</td>\n",
       "      <td>155</td>\n",
       "      <td>700</td>\n",
       "      <td>63</td>\n",
       "      <td>1</td>\n",
       "      <td>1.0</td>\n",
       "    </tr>\n",
       "    <tr>\n",
       "      <th>1</th>\n",
       "      <td>2021-05-31</td>\n",
       "      <td>48</td>\n",
       "      <td>200</td>\n",
       "      <td>43</td>\n",
       "      <td>1</td>\n",
       "      <td>1.0</td>\n",
       "    </tr>\n",
       "    <tr>\n",
       "      <th>2</th>\n",
       "      <td>2021-05-31</td>\n",
       "      <td>46</td>\n",
       "      <td>800</td>\n",
       "      <td>106</td>\n",
       "      <td>1</td>\n",
       "      <td>1.0</td>\n",
       "    </tr>\n",
       "    <tr>\n",
       "      <th>3</th>\n",
       "      <td>2021-05-31</td>\n",
       "      <td>54</td>\n",
       "      <td>400</td>\n",
       "      <td>33</td>\n",
       "      <td>1</td>\n",
       "      <td>1.0</td>\n",
       "    </tr>\n",
       "    <tr>\n",
       "      <th>4</th>\n",
       "      <td>2021-05-29</td>\n",
       "      <td>17</td>\n",
       "      <td>1000</td>\n",
       "      <td>31</td>\n",
       "      <td>1</td>\n",
       "      <td>1.0</td>\n",
       "    </tr>\n",
       "    <tr>\n",
       "      <th>...</th>\n",
       "      <td>...</td>\n",
       "      <td>...</td>\n",
       "      <td>...</td>\n",
       "      <td>...</td>\n",
       "      <td>...</td>\n",
       "      <td>...</td>\n",
       "    </tr>\n",
       "    <tr>\n",
       "      <th>209</th>\n",
       "      <td>2019-05-08</td>\n",
       "      <td>26</td>\n",
       "      <td>120</td>\n",
       "      <td>28</td>\n",
       "      <td>1</td>\n",
       "      <td>1.0</td>\n",
       "    </tr>\n",
       "    <tr>\n",
       "      <th>210</th>\n",
       "      <td>2019-04-30</td>\n",
       "      <td>72</td>\n",
       "      <td>240</td>\n",
       "      <td>59</td>\n",
       "      <td>1</td>\n",
       "      <td>1.0</td>\n",
       "    </tr>\n",
       "    <tr>\n",
       "      <th>211</th>\n",
       "      <td>2019-04-26</td>\n",
       "      <td>41</td>\n",
       "      <td>200</td>\n",
       "      <td>54</td>\n",
       "      <td>1</td>\n",
       "      <td>1.0</td>\n",
       "    </tr>\n",
       "    <tr>\n",
       "      <th>212</th>\n",
       "      <td>2019-04-23</td>\n",
       "      <td>29</td>\n",
       "      <td>750</td>\n",
       "      <td>70</td>\n",
       "      <td>1</td>\n",
       "      <td>1.0</td>\n",
       "    </tr>\n",
       "    <tr>\n",
       "      <th>213</th>\n",
       "      <td>2019-03-12</td>\n",
       "      <td>161</td>\n",
       "      <td>685</td>\n",
       "      <td>60</td>\n",
       "      <td>1</td>\n",
       "      <td>1.0</td>\n",
       "    </tr>\n",
       "  </tbody>\n",
       "</table>\n",
       "<p>214 rows × 6 columns</p>\n",
       "</div>"
      ],
      "text/plain": [
       "          date  comments  total_price  likes  condition_1  tags_123\n",
       "0   2021-05-31       155          700     63            1       1.0\n",
       "1   2021-05-31        48          200     43            1       1.0\n",
       "2   2021-05-31        46          800    106            1       1.0\n",
       "3   2021-05-31        54          400     33            1       1.0\n",
       "4   2021-05-29        17         1000     31            1       1.0\n",
       "..         ...       ...          ...    ...          ...       ...\n",
       "209 2019-05-08        26          120     28            1       1.0\n",
       "210 2019-04-30        72          240     59            1       1.0\n",
       "211 2019-04-26        41          200     54            1       1.0\n",
       "212 2019-04-23        29          750     70            1       1.0\n",
       "213 2019-03-12       161          685     60            1       1.0\n",
       "\n",
       "[214 rows x 6 columns]"
      ]
     },
     "execution_count": 13,
     "metadata": {},
     "output_type": "execute_result"
    }
   ],
   "source": [
    "df"
   ]
  },
  {
   "cell_type": "code",
   "execution_count": 14,
   "metadata": {},
   "outputs": [
    {
     "name": "stdout",
     "output_type": "stream",
     "text": [
      "                            OLS Regression Results                            \n",
      "==============================================================================\n",
      "Dep. Variable:               comments   R-squared:                       0.630\n",
      "Model:                            OLS   Adj. R-squared:                  0.622\n",
      "Method:                 Least Squares   F-statistic:                     88.81\n",
      "Date:                Wed, 23 Jun 2021   Prob (F-statistic):           5.67e-44\n",
      "Time:                        11:43:50   Log-Likelihood:                -1241.2\n",
      "No. Observations:                 214   AIC:                             2492.\n",
      "Df Residuals:                     209   BIC:                             2509.\n",
      "Df Model:                           4                                         \n",
      "Covariance Type:            nonrobust                                         \n",
      "===============================================================================\n",
      "                  coef    std err          t      P>|t|      [0.025      0.975]\n",
      "-------------------------------------------------------------------------------\n",
      "const         -83.5052     33.861     -2.466      0.014    -150.259     -16.752\n",
      "total_price     0.0015      0.002      0.801      0.424      -0.002       0.005\n",
      "likes           1.5298      0.082     18.704      0.000       1.369       1.691\n",
      "condition_1    27.8481     16.724      1.665      0.097      -5.121      60.817\n",
      "tags_123       62.9694     27.911      2.256      0.025       7.947     117.992\n",
      "==============================================================================\n",
      "Omnibus:                      120.912   Durbin-Watson:                   2.159\n",
      "Prob(Omnibus):                  0.000   Jarque-Bera (JB):              906.808\n",
      "Skew:                           2.082   Prob(JB):                    1.23e-197\n",
      "Kurtosis:                      12.185   Cond. No.                     2.62e+04\n",
      "==============================================================================\n",
      "\n",
      "Notes:\n",
      "[1] Standard Errors assume that the covariance matrix of the errors is correctly specified.\n",
      "[2] The condition number is large, 2.62e+04. This might indicate that there are\n",
      "strong multicollinearity or other numerical problems.\n"
     ]
    }
   ],
   "source": [
    "y = df['comments']\n",
    "\n",
    "X_ar = np.array([df['total_price'], df['likes'], df['condition_1'], df['tags_123']])\n",
    "X_T =X_ar.T\n",
    "X = pd.DataFrame(X_T,columns = ['total_price', 'likes', 'condition_1', 'tags_123'])\n",
    "X = sm.add_constant(X)\n",
    "\n",
    "olsmod = sm.OLS(y, X)\n",
    "result = olsmod.fit()\n",
    "print(result.summary())"
   ]
  },
  {
   "cell_type": "code",
   "execution_count": 15,
   "metadata": {},
   "outputs": [],
   "source": [
    "st, data, ss2 = sso.summary_table(result, alpha=0.05)\n",
    "#Predicted value\n",
    "y_pre = data[:, 2]\n",
    "#Studentized Residual\n",
    "SD = data[:, 10]"
   ]
  },
  {
   "cell_type": "markdown",
   "metadata": {},
   "source": [
    "### Check Normality\n",
    "H0 : Normal distributed\n",
    "\n",
    "H1 : Not normal distributed"
   ]
  },
  {
   "cell_type": "code",
   "execution_count": 16,
   "metadata": {},
   "outputs": [
    {
     "data": {
      "image/png": "[encoded data removed]",
      "text/plain": [
       "<Figure size 600x400 with 1 Axes>"
      ]
     },
     "metadata": {
      "needs_background": "light"
     },
     "output_type": "display_data"
    },
    {
     "name": "stdout",
     "output_type": "stream",
     "text": [
      "[  3.  12.  70. 100.  16.   6.   3.   2.   0.   2.]\n",
      "[-2.8424348  -1.97861451 -1.11479422 -0.25097393  0.61284635  1.47666664\n",
      "  2.34048693  3.20430722  4.0681275   4.93194779  5.79576808]\n",
      "Shapiro Test: Statistics=0.812380, p=0.000000\n",
      "Chi-squared test: statistics = 68.8679, p-value = 0.0000\n",
      "Critical value = 3.8415 (defree of freedom = 1)\n"
     ]
    }
   ],
   "source": [
    "# Normality: Histogram\n",
    "counts, bins, patches = plt.hist(SD, 10, density=False, facecolor='black', alpha=0.75)\n",
    "\n",
    "plt.xlabel('Standardized Residuals')\n",
    "plt.ylabel('Frequency')\n",
    "plt.title('Histogram of Standardized Residuals')\n",
    "plt.grid(True)\n",
    "bin_centers = [np.mean(k) for k in zip(bins[:-1], bins[1:])]\n",
    "plt.show()\n",
    "\n",
    "print(counts)\n",
    "print(bins)\n",
    "\n",
    "\n",
    "stat, p = stats.shapiro(SD)\n",
    "print('Shapiro Test: Statistics=%f, p=%f' % (stat, p))\n",
    "\n",
    "# Normality: Chi_Square\n",
    "chi2_pval = Chi_Square_for_Normality(SD, 4, 0.05) "
   ]
  },
  {
   "cell_type": "markdown",
   "metadata": {},
   "source": [
    "##### Since the Normality test does not pass, we transform y to log y and see if there is a better result."
   ]
  },
  {
   "cell_type": "code",
   "execution_count": 17,
   "metadata": {
    "scrolled": true
   },
   "outputs": [],
   "source": [
    "comments_log = np.log(df['comments'])"
   ]
  },
  {
   "cell_type": "code",
   "execution_count": 18,
   "metadata": {},
   "outputs": [],
   "source": [
    "df.insert(loc=1, column='comments_log', value=comments_log)"
   ]
  },
  {
   "cell_type": "code",
   "execution_count": 19,
   "metadata": {},
   "outputs": [
    {
     "name": "stdout",
     "output_type": "stream",
     "text": [
      "                            OLS Regression Results                            \n",
      "==============================================================================\n",
      "Dep. Variable:           comments_log   R-squared:                       0.532\n",
      "Model:                            OLS   Adj. R-squared:                  0.523\n",
      "Method:                 Least Squares   F-statistic:                     59.30\n",
      "Date:                Wed, 23 Jun 2021   Prob (F-statistic):           2.15e-33\n",
      "Time:                        11:43:51   Log-Likelihood:                -191.08\n",
      "No. Observations:                 214   AIC:                             392.2\n",
      "Df Residuals:                     209   BIC:                             409.0\n",
      "Df Model:                           4                                         \n",
      "Covariance Type:            nonrobust                                         \n",
      "===============================================================================\n",
      "                  coef    std err          t      P>|t|      [0.025      0.975]\n",
      "-------------------------------------------------------------------------------\n",
      "const           2.7341      0.250     10.923      0.000       2.241       3.228\n",
      "total_price   1.64e-05   1.36e-05      1.209      0.228   -1.03e-05    4.31e-05\n",
      "likes           0.0090      0.001     14.900      0.000       0.008       0.010\n",
      "condition_1     0.2475      0.124      2.002      0.047       0.004       0.491\n",
      "tags_123        0.8106      0.206      3.929      0.000       0.404       1.217\n",
      "==============================================================================\n",
      "Omnibus:                       15.742   Durbin-Watson:                   2.081\n",
      "Prob(Omnibus):                  0.000   Jarque-Bera (JB):               18.071\n",
      "Skew:                          -0.579   Prob(JB):                     0.000119\n",
      "Kurtosis:                       3.827   Cond. No.                     2.62e+04\n",
      "==============================================================================\n",
      "\n",
      "Notes:\n",
      "[1] Standard Errors assume that the covariance matrix of the errors is correctly specified.\n",
      "[2] The condition number is large, 2.62e+04. This might indicate that there are\n",
      "strong multicollinearity or other numerical problems.\n"
     ]
    }
   ],
   "source": [
    "y = df['comments_log']\n",
    "\n",
    "X_ar = np.array([df['total_price'], df['likes'], df['condition_1'], df['tags_123']])\n",
    "X_T =X_ar.T\n",
    "X = pd.DataFrame(X_T,columns = ['total_price', 'likes', 'condition_1', 'tags_123'])\n",
    "X = sm.add_constant(X)\n",
    "\n",
    "olsmod = sm.OLS(y, X)\n",
    "result = olsmod.fit()\n",
    "print(result.summary())"
   ]
  },
  {
   "cell_type": "code",
   "execution_count": 20,
   "metadata": {},
   "outputs": [],
   "source": [
    "st, data, ss2 = sso.summary_table(result, alpha=0.05)\n",
    "#Predicted value\n",
    "y_pre = data[:, 2]\n",
    "#Studentized Residual\n",
    "SD = data[:, 10]"
   ]
  },
  {
   "cell_type": "markdown",
   "metadata": {},
   "source": [
    "### Check Normality\n",
    "H0 : Normal distributed\n",
    "\n",
    "H1 : Not normal distributed"
   ]
  },
  {
   "cell_type": "code",
   "execution_count": 21,
   "metadata": {},
   "outputs": [
    {
     "data": {
      "image/png": "[encoded data removed]",
      "text/plain": [
       "<Figure size 600x400 with 1 Axes>"
      ]
     },
     "metadata": {
      "needs_background": "light"
     },
     "output_type": "display_data"
    },
    {
     "name": "stdout",
     "output_type": "stream",
     "text": [
      "[ 3.  3.  9. 14. 27. 63. 58. 25.  9.  3.]\n",
      "[-3.55252114 -2.93035822 -2.30819531 -1.6860324  -1.06386949 -0.44170657\n",
      "  0.18045634  0.80261925  1.42478216  2.04694507  2.66910799]\n",
      "Shapiro Test: Statistics=0.972861, p=0.000383\n"
     ]
    }
   ],
   "source": [
    "# Normality: Histogram\n",
    "counts, bins, patches = plt.hist(SD, 10, density=False, facecolor='black', alpha=0.75)\n",
    "\n",
    "plt.xlabel('Standardized Residuals')\n",
    "plt.ylabel('Frequency')\n",
    "plt.title('Histogram of Standardized Residuals')\n",
    "plt.grid(True)\n",
    "bin_centers = [np.mean(k) for k in zip(bins[:-1], bins[1:])]\n",
    "plt.show()\n",
    "\n",
    "print(counts)\n",
    "print(bins)\n",
    "\n",
    "\n",
    "stat, p = stats.shapiro(SD)\n",
    "print('Shapiro Test: Statistics=%f, p=%f' % (stat, p))\n"
   ]
  },
  {
   "cell_type": "markdown",
   "metadata": {},
   "source": [
    "The Shapiro test does not pass. In order to pass the Shapiro test, we try to delete outliers."
   ]
  },
  {
   "cell_type": "markdown",
   "metadata": {},
   "source": [
    "#### Outliers"
   ]
  },
  {
   "cell_type": "code",
   "execution_count": 22,
   "metadata": {},
   "outputs": [
    {
     "name": "stdout",
     "output_type": "stream",
     "text": [
      "Outliers by SD = \n",
      "4     -2.106656\n",
      "63    -2.954187\n",
      "64     2.467165\n",
      "86    -2.450610\n",
      "105    2.443873\n",
      "106   -3.046496\n",
      "115   -2.544106\n",
      "155   -2.196713\n",
      "161   -2.523097\n",
      "186    2.669108\n",
      "188   -3.552521\n",
      "Name: SD, dtype: float64\n",
      "Actual ID:  Int64Index([5, 64, 65, 87, 106, 107, 116, 156, 162, 187, 189], dtype='int64')\n"
     ]
    }
   ],
   "source": [
    "# outliers\n",
    "df_c = pd.DataFrame(SD,columns = ['SD'])\n",
    "filter = (df_c['SD'] < -2) | (df_c['SD'] > 2)\n",
    "print(\"Outliers by SD = \")\n",
    "print(df_c['SD'].loc[filter])\n",
    "outliers = df_c['SD'].loc[filter]\n",
    "print(\"Actual ID: \",df_c['SD'].loc[filter].index+1)"
   ]
  },
  {
   "cell_type": "code",
   "execution_count": 23,
   "metadata": {},
   "outputs": [],
   "source": [
    "df.drop(outliers.index, inplace = True)"
   ]
  },
  {
   "cell_type": "code",
   "execution_count": 24,
   "metadata": {},
   "outputs": [],
   "source": [
    "df = df.reset_index(drop=True)"
   ]
  },
  {
   "cell_type": "code",
   "execution_count": 25,
   "metadata": {},
   "outputs": [
    {
     "name": "stdout",
     "output_type": "stream",
     "text": [
      "                            OLS Regression Results                            \n",
      "==============================================================================\n",
      "Dep. Variable:           comments_log   R-squared:                       0.630\n",
      "Model:                            OLS   Adj. R-squared:                  0.623\n",
      "Method:                 Least Squares   F-statistic:                     84.40\n",
      "Date:                Wed, 23 Jun 2021   Prob (F-statistic):           1.04e-41\n",
      "Time:                        11:43:51   Log-Likelihood:                -139.54\n",
      "No. Observations:                 203   AIC:                             289.1\n",
      "Df Residuals:                     198   BIC:                             305.6\n",
      "Df Model:                           4                                         \n",
      "Covariance Type:            nonrobust                                         \n",
      "===============================================================================\n",
      "                  coef    std err          t      P>|t|      [0.025      0.975]\n",
      "-------------------------------------------------------------------------------\n",
      "const           2.5205      0.225     11.204      0.000       2.077       2.964\n",
      "total_price  2.305e-05   1.14e-05      2.023      0.044    5.83e-07    4.55e-05\n",
      "likes           0.0104      0.001     17.711      0.000       0.009       0.012\n",
      "condition_1     0.3133      0.108      2.895      0.004       0.100       0.527\n",
      "tags_123        0.8892      0.188      4.724      0.000       0.518       1.260\n",
      "==============================================================================\n",
      "Omnibus:                        4.324   Durbin-Watson:                   1.848\n",
      "Prob(Omnibus):                  0.115   Jarque-Bera (JB):                4.392\n",
      "Skew:                          -0.352   Prob(JB):                        0.111\n",
      "Kurtosis:                       2.849   Cond. No.                     2.79e+04\n",
      "==============================================================================\n",
      "\n",
      "Notes:\n",
      "[1] Standard Errors assume that the covariance matrix of the errors is correctly specified.\n",
      "[2] The condition number is large, 2.79e+04. This might indicate that there are\n",
      "strong multicollinearity or other numerical problems.\n"
     ]
    }
   ],
   "source": [
    "y = df['comments_log']\n",
    "\n",
    "X_ar = np.array([df['total_price'], df['likes'], df['condition_1'], df['tags_123']])\n",
    "X_T =X_ar.T\n",
    "X = pd.DataFrame(X_T,columns = ['total_price', 'likes', 'condition_1', 'tags_123'])\n",
    "X = sm.add_constant(X)\n",
    "\n",
    "olsmod = sm.OLS(y, X)\n",
    "result = olsmod.fit()\n",
    "print(result.summary())"
   ]
  },
  {
   "cell_type": "code",
   "execution_count": 26,
   "metadata": {},
   "outputs": [],
   "source": [
    "st, data, ss2 = sso.summary_table(result, alpha=0.05)\n",
    "#Predicted value\n",
    "y_pre = data[:, 2]\n",
    "#Studentized Residual\n",
    "SD = data[:, 10]"
   ]
  },
  {
   "cell_type": "code",
   "execution_count": 27,
   "metadata": {},
   "outputs": [
    {
     "data": {
      "image/png": "[encoded data removed]",
      "text/plain": [
       "<Figure size 600x400 with 1 Axes>"
      ]
     },
     "metadata": {
      "needs_background": "light"
     },
     "output_type": "display_data"
    },
    {
     "name": "stdout",
     "output_type": "stream",
     "text": [
      "[ 5.  8. 12. 24. 33. 43. 44. 19. 12.  3.]\n",
      "[-2.77822798 -2.2521175  -1.72600701 -1.19989653 -0.67378605 -0.14767557\n",
      "  0.37843491  0.90454539  1.43065587  1.95676635  2.48287683]\n",
      "Shapiro Test: Statistics=0.987325, p=0.067216\n",
      "Chi-squared test: statistics = 0.9606, p-value = 0.3270\n",
      "Critical value = 3.8415 (defree of freedom = 1)\n"
     ]
    }
   ],
   "source": [
    "# Normality: Histogram\n",
    "counts, bins, patches = plt.hist(SD, 10, density=False, facecolor='black', alpha=0.75)\n",
    "\n",
    "plt.xlabel('Standardized Residuals')\n",
    "plt.ylabel('Frequency')\n",
    "plt.title('Histogram of Standardized Residuals')\n",
    "plt.grid(True)\n",
    "bin_centers = [np.mean(k) for k in zip(bins[:-1], bins[1:])]\n",
    "plt.show()\n",
    "\n",
    "print(counts)\n",
    "print(bins)\n",
    "\n",
    "stat, p = stats.shapiro(SD)\n",
    "print('Shapiro Test: Statistics=%f, p=%f' % (stat, p))\n",
    "\n",
    "# Normality: Chi_Square\n",
    "chi2_pval = Chi_Square_for_Normality(SD, 4, 0.05) "
   ]
  },
  {
   "cell_type": "markdown",
   "metadata": {},
   "source": [
    "The Shapiro test now passes. Check the other required conditions."
   ]
  },
  {
   "cell_type": "markdown",
   "metadata": {},
   "source": [
    "### Runs Test"
   ]
  },
  {
   "cell_type": "markdown",
   "metadata": {},
   "source": [
    "H0 : Independence\n",
    "    \n",
    "H1 : Not independence"
   ]
  },
  {
   "cell_type": "code",
   "execution_count": 28,
   "metadata": {},
   "outputs": [
    {
     "data": {
      "image/png": "[encoded data removed]",
      "text/plain": [
       "<Figure size 600x400 with 1 Axes>"
      ]
     },
     "metadata": {
      "needs_background": "light"
     },
     "output_type": "display_data"
    },
    {
     "name": "stdout",
     "output_type": "stream",
     "text": [
      "runs =  87\n",
      "n1 =  102\n",
      "n2 =  101\n",
      "runs_exp =  102.49753694581281\n",
      "stan_dev =  7.1060748203268504\n",
      "z =  -2.1808856981750706\n",
      "pval_z =  0.029191871798067075\n",
      "p_value for Z-statistic=  0.029191871798067075\n"
     ]
    }
   ],
   "source": [
    "Id = data[:, 0]\n",
    "plt.plot(Id, SD, 'o', color = 'gray')\n",
    "plt.axhline(y=0, color = 'blue')\n",
    "plt.axhline(y=2, color = 'red')\n",
    "plt.axhline(y=-2, color = 'red')\n",
    "plt.title('Standardized Residual Plot')\n",
    "plt.xlabel('Observation No.')\n",
    "plt.ylabel('Standardized Residual')\n",
    "plt.show()\n",
    "\n",
    "SD_median = statistics.median(SD)\n",
    "Z_pval = runsTest(SD, SD_median) \n",
    "print('p_value for Z-statistic= ', Z_pval)"
   ]
  },
  {
   "cell_type": "markdown",
   "metadata": {},
   "source": [
    "Since n1>20 and n2>20, we can apply run test with normal distribution.\n",
    "Since p-value < alpha = 0.05, we cannot reject H0 at significance level at alpha = 0.05.\n",
    "Thus we cannot assume the sample is randomly selected. Try adding time series to solve the problem."
   ]
  },
  {
   "cell_type": "code",
   "execution_count": 29,
   "metadata": {},
   "outputs": [
    {
     "name": "stderr",
     "output_type": "stream",
     "text": [
      "/Users/judy/opt/anaconda3/lib/python3.7/site-packages/ipykernel_launcher.py:1: FutureWarning: Series.dt.weekofyear and Series.dt.week have been deprecated.  Please use Series.dt.isocalendar().week instead.\n",
      "  \"\"\"Entry point for launching an IPython kernel.\n"
     ]
    },
    {
     "data": {
      "text/html": [
       "<div>\n",
       "<style scoped>\n",
       "    .dataframe tbody tr th:only-of-type {\n",
       "        vertical-align: middle;\n",
       "    }\n",
       "\n",
       "    .dataframe tbody tr th {\n",
       "        vertical-align: top;\n",
       "    }\n",
       "\n",
       "    .dataframe thead th {\n",
       "        text-align: right;\n",
       "    }\n",
       "</style>\n",
       "<table border=\"1\" class=\"dataframe\">\n",
       "  <thead>\n",
       "    <tr style=\"text-align: right;\">\n",
       "      <th></th>\n",
       "      <th>date</th>\n",
       "      <th>comments_log</th>\n",
       "      <th>comments</th>\n",
       "      <th>total_price</th>\n",
       "      <th>likes</th>\n",
       "      <th>condition_1</th>\n",
       "      <th>tags_123</th>\n",
       "      <th>Week_Number</th>\n",
       "    </tr>\n",
       "  </thead>\n",
       "  <tbody>\n",
       "    <tr>\n",
       "      <th>0</th>\n",
       "      <td>2021-05-31</td>\n",
       "      <td>5.043425</td>\n",
       "      <td>155</td>\n",
       "      <td>700</td>\n",
       "      <td>63</td>\n",
       "      <td>1</td>\n",
       "      <td>1.0</td>\n",
       "      <td>22</td>\n",
       "    </tr>\n",
       "    <tr>\n",
       "      <th>1</th>\n",
       "      <td>2021-05-31</td>\n",
       "      <td>3.871201</td>\n",
       "      <td>48</td>\n",
       "      <td>200</td>\n",
       "      <td>43</td>\n",
       "      <td>1</td>\n",
       "      <td>1.0</td>\n",
       "      <td>22</td>\n",
       "    </tr>\n",
       "    <tr>\n",
       "      <th>2</th>\n",
       "      <td>2021-05-31</td>\n",
       "      <td>3.828641</td>\n",
       "      <td>46</td>\n",
       "      <td>800</td>\n",
       "      <td>106</td>\n",
       "      <td>1</td>\n",
       "      <td>1.0</td>\n",
       "      <td>22</td>\n",
       "    </tr>\n",
       "    <tr>\n",
       "      <th>3</th>\n",
       "      <td>2021-05-31</td>\n",
       "      <td>3.988984</td>\n",
       "      <td>54</td>\n",
       "      <td>400</td>\n",
       "      <td>33</td>\n",
       "      <td>1</td>\n",
       "      <td>1.0</td>\n",
       "      <td>22</td>\n",
       "    </tr>\n",
       "    <tr>\n",
       "      <th>4</th>\n",
       "      <td>2021-05-29</td>\n",
       "      <td>4.189655</td>\n",
       "      <td>66</td>\n",
       "      <td>70</td>\n",
       "      <td>41</td>\n",
       "      <td>1</td>\n",
       "      <td>1.0</td>\n",
       "      <td>21</td>\n",
       "    </tr>\n",
       "    <tr>\n",
       "      <th>...</th>\n",
       "      <td>...</td>\n",
       "      <td>...</td>\n",
       "      <td>...</td>\n",
       "      <td>...</td>\n",
       "      <td>...</td>\n",
       "      <td>...</td>\n",
       "      <td>...</td>\n",
       "      <td>...</td>\n",
       "    </tr>\n",
       "    <tr>\n",
       "      <th>198</th>\n",
       "      <td>2019-05-08</td>\n",
       "      <td>3.258097</td>\n",
       "      <td>26</td>\n",
       "      <td>120</td>\n",
       "      <td>28</td>\n",
       "      <td>1</td>\n",
       "      <td>1.0</td>\n",
       "      <td>19</td>\n",
       "    </tr>\n",
       "    <tr>\n",
       "      <th>199</th>\n",
       "      <td>2019-04-30</td>\n",
       "      <td>4.276666</td>\n",
       "      <td>72</td>\n",
       "      <td>240</td>\n",
       "      <td>59</td>\n",
       "      <td>1</td>\n",
       "      <td>1.0</td>\n",
       "      <td>18</td>\n",
       "    </tr>\n",
       "    <tr>\n",
       "      <th>200</th>\n",
       "      <td>2019-04-26</td>\n",
       "      <td>3.713572</td>\n",
       "      <td>41</td>\n",
       "      <td>200</td>\n",
       "      <td>54</td>\n",
       "      <td>1</td>\n",
       "      <td>1.0</td>\n",
       "      <td>17</td>\n",
       "    </tr>\n",
       "    <tr>\n",
       "      <th>201</th>\n",
       "      <td>2019-04-23</td>\n",
       "      <td>3.367296</td>\n",
       "      <td>29</td>\n",
       "      <td>750</td>\n",
       "      <td>70</td>\n",
       "      <td>1</td>\n",
       "      <td>1.0</td>\n",
       "      <td>17</td>\n",
       "    </tr>\n",
       "    <tr>\n",
       "      <th>202</th>\n",
       "      <td>2019-03-12</td>\n",
       "      <td>5.081404</td>\n",
       "      <td>161</td>\n",
       "      <td>685</td>\n",
       "      <td>60</td>\n",
       "      <td>1</td>\n",
       "      <td>1.0</td>\n",
       "      <td>11</td>\n",
       "    </tr>\n",
       "  </tbody>\n",
       "</table>\n",
       "<p>203 rows × 8 columns</p>\n",
       "</div>"
      ],
      "text/plain": [
       "          date  comments_log  comments  total_price  likes  condition_1  \\\n",
       "0   2021-05-31      5.043425       155          700     63            1   \n",
       "1   2021-05-31      3.871201        48          200     43            1   \n",
       "2   2021-05-31      3.828641        46          800    106            1   \n",
       "3   2021-05-31      3.988984        54          400     33            1   \n",
       "4   2021-05-29      4.189655        66           70     41            1   \n",
       "..         ...           ...       ...          ...    ...          ...   \n",
       "198 2019-05-08      3.258097        26          120     28            1   \n",
       "199 2019-04-30      4.276666        72          240     59            1   \n",
       "200 2019-04-26      3.713572        41          200     54            1   \n",
       "201 2019-04-23      3.367296        29          750     70            1   \n",
       "202 2019-03-12      5.081404       161          685     60            1   \n",
       "\n",
       "     tags_123  Week_Number  \n",
       "0         1.0           22  \n",
       "1         1.0           22  \n",
       "2         1.0           22  \n",
       "3         1.0           22  \n",
       "4         1.0           21  \n",
       "..        ...          ...  \n",
       "198       1.0           19  \n",
       "199       1.0           18  \n",
       "200       1.0           17  \n",
       "201       1.0           17  \n",
       "202       1.0           11  \n",
       "\n",
       "[203 rows x 8 columns]"
      ]
     },
     "execution_count": 29,
     "metadata": {},
     "output_type": "execute_result"
    }
   ],
   "source": [
    "df['Week_Number'] = df['date'].dt.week\n",
    "df"
   ]
  },
  {
   "cell_type": "code",
   "execution_count": 30,
   "metadata": {},
   "outputs": [
    {
     "name": "stdout",
     "output_type": "stream",
     "text": [
      "                            OLS Regression Results                            \n",
      "==============================================================================\n",
      "Dep. Variable:           comments_log   R-squared:                       0.640\n",
      "Model:                            OLS   Adj. R-squared:                  0.630\n",
      "Method:                 Least Squares   F-statistic:                     69.92\n",
      "Date:                Wed, 23 Jun 2021   Prob (F-statistic):           8.53e-42\n",
      "Time:                        11:43:52   Log-Likelihood:                -136.96\n",
      "No. Observations:                 203   AIC:                             285.9\n",
      "Df Residuals:                     197   BIC:                             305.8\n",
      "Df Model:                           5                                         \n",
      "Covariance Type:            nonrobust                                         \n",
      "===============================================================================\n",
      "                  coef    std err          t      P>|t|      [0.025      0.975]\n",
      "-------------------------------------------------------------------------------\n",
      "const           2.2784      0.247      9.213      0.000       1.791       2.766\n",
      "total_price  2.726e-05   1.14e-05      2.385      0.018    4.72e-06    4.98e-05\n",
      "likes           0.0102      0.001     17.405      0.000       0.009       0.011\n",
      "condition_1     0.3528      0.109      3.250      0.001       0.139       0.567\n",
      "tags_123        0.9545      0.189      5.062      0.000       0.583       1.326\n",
      "Week_Number     0.0049      0.002      2.251      0.026       0.001       0.009\n",
      "==============================================================================\n",
      "Omnibus:                        3.023   Durbin-Watson:                   1.902\n",
      "Prob(Omnibus):                  0.221   Jarque-Bera (JB):                3.020\n",
      "Skew:                          -0.294   Prob(JB):                        0.221\n",
      "Kurtosis:                       2.893   Cond. No.                     2.98e+04\n",
      "==============================================================================\n",
      "\n",
      "Notes:\n",
      "[1] Standard Errors assume that the covariance matrix of the errors is correctly specified.\n",
      "[2] The condition number is large, 2.98e+04. This might indicate that there are\n",
      "strong multicollinearity or other numerical problems.\n"
     ]
    }
   ],
   "source": [
    "y = df['comments_log']\n",
    "\n",
    "X_ar = np.array([df['total_price'], df['likes'], df['condition_1'], df['tags_123'], df['Week_Number']])\n",
    "X_T =X_ar.T\n",
    "X = pd.DataFrame(X_T,columns = ['total_price', 'likes', 'condition_1', 'tags_123', 'Week_Number'])\n",
    "X = sm.add_constant(X)\n",
    "\n",
    "olsmod = sm.OLS(y, X)\n",
    "result = olsmod.fit()\n",
    "print(result.summary())"
   ]
  },
  {
   "cell_type": "code",
   "execution_count": 31,
   "metadata": {},
   "outputs": [],
   "source": [
    "st, data, ss2 = sso.summary_table(result, alpha=0.05)\n",
    "#Predicted value\n",
    "y_pre = data[:, 2]\n",
    "#Studentized Residual\n",
    "SD = data[:, 10]"
   ]
  },
  {
   "cell_type": "code",
   "execution_count": 32,
   "metadata": {},
   "outputs": [
    {
     "data": {
      "image/png": "[encoded data removed]",
      "text/plain": [
       "<Figure size 600x400 with 1 Axes>"
      ]
     },
     "metadata": {
      "needs_background": "light"
     },
     "output_type": "display_data"
    },
    {
     "name": "stdout",
     "output_type": "stream",
     "text": [
      "runs =  93\n",
      "n1 =  102\n",
      "n2 =  101\n",
      "runs_exp =  102.49753694581281\n",
      "stan_dev =  7.1060748203268504\n",
      "z =  -1.3365377069553517\n",
      "pval_z =  0.18137358434578132\n",
      "p_value for Z-statistic=  0.18137358434578132\n"
     ]
    }
   ],
   "source": [
    "Id = data[:, 0]\n",
    "plt.plot(Id, SD, 'o', color = 'gray')\n",
    "plt.axhline(y=0, color = 'blue')\n",
    "plt.axhline(y=2, color = 'red')\n",
    "plt.axhline(y=-2, color = 'red')\n",
    "plt.title('Standardized Residual Plot')\n",
    "plt.xlabel('Observation No.')\n",
    "plt.ylabel('Standardized Residual')\n",
    "plt.show()\n",
    "\n",
    "SD_median = statistics.median(SD)\n",
    "Z_pval = runsTest(SD, SD_median) \n",
    "print('p_value for Z-statistic= ', Z_pval)"
   ]
  },
  {
   "cell_type": "markdown",
   "metadata": {},
   "source": [
    "The p-value is now larger than 0.05. So now we apply full steps of multiple regression and see if all requried conditions are met."
   ]
  },
  {
   "cell_type": "markdown",
   "metadata": {},
   "source": [
    "### 2. Propose a statistical model "
   ]
  },
  {
   "cell_type": "markdown",
   "metadata": {},
   "source": [
    "Comments = $\\beta_0 + \\beta_1 * x_1 + \\beta_2 * x_2 + \\beta_3 * x_3 + \\beta_4 * x_4 + \\beta_4 * x_5$  \n",
    "\n",
    "x1 = total_price(NTD)\n",
    "\n",
    "x2 = likes\n",
    "\n",
    "x3 = condition_1 (indicator variable, = 1 if have to fill survey, = 0 if don't have to fill survey)\n",
    "\n",
    "x4 = tags_123 (indicator variable, = 1 if have to tag 1 or 2 or 3 people, = 0 otherwise)\n",
    "\n",
    "x5 = Week_Number"
   ]
  },
  {
   "cell_type": "markdown",
   "metadata": {},
   "source": [
    "### 3. Fit the model"
   ]
  },
  {
   "cell_type": "code",
   "execution_count": 33,
   "metadata": {},
   "outputs": [
    {
     "name": "stdout",
     "output_type": "stream",
     "text": [
      "                            OLS Regression Results                            \n",
      "==============================================================================\n",
      "Dep. Variable:           comments_log   R-squared:                       0.640\n",
      "Model:                            OLS   Adj. R-squared:                  0.630\n",
      "Method:                 Least Squares   F-statistic:                     69.92\n",
      "Date:                Wed, 23 Jun 2021   Prob (F-statistic):           8.53e-42\n",
      "Time:                        11:43:53   Log-Likelihood:                -136.96\n",
      "No. Observations:                 203   AIC:                             285.9\n",
      "Df Residuals:                     197   BIC:                             305.8\n",
      "Df Model:                           5                                         \n",
      "Covariance Type:            nonrobust                                         \n",
      "===============================================================================\n",
      "                  coef    std err          t      P>|t|      [0.025      0.975]\n",
      "-------------------------------------------------------------------------------\n",
      "const           2.2784      0.247      9.213      0.000       1.791       2.766\n",
      "total_price  2.726e-05   1.14e-05      2.385      0.018    4.72e-06    4.98e-05\n",
      "likes           0.0102      0.001     17.405      0.000       0.009       0.011\n",
      "condition_1     0.3528      0.109      3.250      0.001       0.139       0.567\n",
      "tags_123        0.9545      0.189      5.062      0.000       0.583       1.326\n",
      "Week_Number     0.0049      0.002      2.251      0.026       0.001       0.009\n",
      "==============================================================================\n",
      "Omnibus:                        3.023   Durbin-Watson:                   1.902\n",
      "Prob(Omnibus):                  0.221   Jarque-Bera (JB):                3.020\n",
      "Skew:                          -0.294   Prob(JB):                        0.221\n",
      "Kurtosis:                       2.893   Cond. No.                     2.98e+04\n",
      "==============================================================================\n",
      "\n",
      "Notes:\n",
      "[1] Standard Errors assume that the covariance matrix of the errors is correctly specified.\n",
      "[2] The condition number is large, 2.98e+04. This might indicate that there are\n",
      "strong multicollinearity or other numerical problems.\n"
     ]
    }
   ],
   "source": [
    "y = df['comments_log']\n",
    "\n",
    "X_ar = np.array([df['total_price'], df['likes'], df['condition_1'], df['tags_123'], df['Week_Number']])\n",
    "X_T =X_ar.T\n",
    "X = pd.DataFrame(X_T,columns = ['total_price', 'likes', 'condition_1', 'tags_123', 'Week_Number'])\n",
    "X = sm.add_constant(X)\n",
    "\n",
    "olsmod = sm.OLS(y, X)\n",
    "result = olsmod.fit()\n",
    "print(result.summary())"
   ]
  },
  {
   "cell_type": "code",
   "execution_count": 34,
   "metadata": {},
   "outputs": [
    {
     "name": "stdout",
     "output_type": "stream",
     "text": [
      "Estimated model: y = 2.2784 + 0.000027 x1 + 0.010225 x2 + 0.352764 x3 + 0.954523 x4 + 0.004858 x5 "
     ]
    }
   ],
   "source": [
    "print(\"Estimated model: y = %0.4f\" % (result.params[0]), end = ' ')\n",
    "for c, x in zip(result.params[1:], list(range(1,6))):\n",
    "    print('+', end = '') if c> 0 else print('-', end = '')\n",
    "    print(\" %0.6f x%d \" % (abs(c), x), end = '') \n"
   ]
  },
  {
   "cell_type": "markdown",
   "metadata": {},
   "source": [
    "### 4. Requirements Check "
   ]
  },
  {
   "cell_type": "code",
   "execution_count": 35,
   "metadata": {},
   "outputs": [],
   "source": [
    "st, data, ss2 = sso.summary_table(result, alpha=0.05)\n",
    "#Predicted value\n",
    "y_pre = data[:, 2]\n",
    "#Studentized Residual\n",
    "SD = data[:, 10]"
   ]
  },
  {
   "cell_type": "code",
   "execution_count": 36,
   "metadata": {},
   "outputs": [],
   "source": [
    "df.drop(columns = ['comments'], inplace = True)"
   ]
  },
  {
   "cell_type": "code",
   "execution_count": 37,
   "metadata": {},
   "outputs": [
    {
     "data": {
      "image/png": "[encoded data removed]",
      "text/plain": [
       "<Figure size 600x400 with 2 Axes>"
      ]
     },
     "metadata": {
      "needs_background": "light"
     },
     "output_type": "display_data"
    }
   ],
   "source": [
    "corr = df.corr()\n",
    "_ = sns.heatmap(corr, annot=True)"
   ]
  },
  {
   "cell_type": "markdown",
   "metadata": {},
   "source": [
    "#### Multicollinearity\n",
    "\n",
    "1. The correlation between independent variables are all smaller than 0.7.\n",
    "\n",
    "2. And the signs for x1-x4's correlation coefficients and coefficients are same.\n",
    "\n",
    "Thus, Multicollinearity doesn't exist."
   ]
  },
  {
   "cell_type": "markdown",
   "metadata": {},
   "source": [
    "#### Outliers"
   ]
  },
  {
   "cell_type": "code",
   "execution_count": 38,
   "metadata": {},
   "outputs": [
    {
     "name": "stdout",
     "output_type": "stream",
     "text": [
      "Outliers by SD = \n",
      "2     -2.019564\n",
      "10    -2.243932\n",
      "16    -2.337879\n",
      "19    -2.289994\n",
      "44     2.675606\n",
      "46     2.216458\n",
      "52    -2.517918\n",
      "143   -2.235706\n",
      "151   -2.262358\n",
      "165   -2.151963\n",
      "184   -2.111848\n",
      "190   -2.229411\n",
      "191    2.284932\n",
      "201   -2.160856\n",
      "Name: SD, dtype: float64\n",
      "Actual ID:  Int64Index([3, 11, 17, 20, 45, 47, 53, 144, 152, 166, 185, 191, 192, 202], dtype='int64')\n"
     ]
    }
   ],
   "source": [
    "# outliers\n",
    "df_c = pd.DataFrame(SD,columns = ['SD'])\n",
    "filter = (df_c['SD'] < -2) | (df_c['SD'] > 2)\n",
    "print(\"Outliers by SD = \")\n",
    "print(df_c['SD'].loc[filter])\n",
    "outliers = df_c['SD'].loc[filter]\n",
    "print(\"Actual ID: \",df_c['SD'].loc[filter].index+1)"
   ]
  },
  {
   "cell_type": "markdown",
   "metadata": {},
   "source": [
    "#### Influential observations"
   ]
  },
  {
   "cell_type": "code",
   "execution_count": 39,
   "metadata": {},
   "outputs": [
    {
     "name": "stdout",
     "output_type": "stream",
     "text": [
      "h_level =  0.08866995073891626\n",
      " \n",
      "\n",
      "Influential Observations by hi = \n",
      "\n",
      "52     0.117343\n",
      "58     0.285604\n",
      "71     0.151523\n",
      "77     0.144328\n",
      "81     0.144902\n",
      "83     0.090206\n",
      "121    0.154522\n",
      "146    0.152619\n",
      "179    0.201931\n",
      "188    0.557852\n",
      "191    0.145622\n",
      "193    0.089920\n",
      "Name: hii, dtype: float64\n",
      "Actual ID:  Int64Index([53, 59, 72, 78, 82, 84, 122, 147, 180, 189, 192, 194], dtype='int64')\n"
     ]
    }
   ],
   "source": [
    "X = np.array(X)\n",
    "H = np.matmul(X, np.linalg.solve(np.matmul(X.T, X), X.T))\n",
    "\n",
    "df['hii'] = np.diagonal(H)\n",
    "df_h = pd.DataFrame(df['hii'])\n",
    "k = result.df_model\n",
    "n = len(df_h['hii'])\n",
    "h_level = 3 * (k+1) / n \n",
    "print(\"h_level = \", h_level)\n",
    "print(\" \\n\")\n",
    "filter = (df_h['hii'] > h_level )\n",
    "print(\"Influential Observations by hi = \\n\")\n",
    "\n",
    "print(df_h['hii'].loc[filter])\n",
    "print(\"Actual ID: \",df_h['hii'].loc[filter].index+1)"
   ]
  },
  {
   "cell_type": "markdown",
   "metadata": {},
   "source": [
    "### Normality\n",
    "\n",
    "H0 : Normal distributed\n",
    "\n",
    "H1 : Not normal distributed"
   ]
  },
  {
   "cell_type": "code",
   "execution_count": 40,
   "metadata": {},
   "outputs": [
    {
     "data": {
      "image/png": "[encoded data removed]",
      "text/plain": [
       "<Figure size 600x400 with 1 Axes>"
      ]
     },
     "metadata": {
      "needs_background": "light"
     },
     "output_type": "display_data"
    },
    {
     "name": "stdout",
     "output_type": "stream",
     "text": [
      "[11.  7. 17. 27. 39. 43. 35. 14.  7.  3.]\n",
      "[-2.51791846 -1.99856604 -1.47921363 -0.95986121 -0.44050879  0.07884363\n",
      "  0.59819604  1.11754846  1.63690088  2.15625329  2.67560571]\n",
      "Shapiro Test: Statistics=0.987261, p=0.065733\n",
      "Chi-squared test: statistics = 1.5517, p-value = 0.2129\n",
      "Critical value = 3.8415 (defree of freedom = 1)\n"
     ]
    }
   ],
   "source": [
    "# Normality: Histogram\n",
    "counts, bins, patches = plt.hist(SD, 10, density=False, facecolor='black', alpha=0.75)\n",
    "\n",
    "plt.xlabel('Standardized Residuals')\n",
    "plt.ylabel('Frequency')\n",
    "plt.title('Histogram of Standardized Residuals')\n",
    "plt.grid(True)\n",
    "bin_centers = [np.mean(k) for k in zip(bins[:-1], bins[1:])]\n",
    "plt.show()\n",
    "\n",
    "print(counts)\n",
    "print(bins)\n",
    "\n",
    "stat, p = stats.shapiro(SD)\n",
    "print('Shapiro Test: Statistics=%f, p=%f' % (stat, p))\n",
    "\n",
    "# Normality: Chi_Square\n",
    "chi2_pval = Chi_Square_for_Normality(SD, 4, 0.05) \n"
   ]
  },
  {
   "cell_type": "markdown",
   "metadata": {},
   "source": [
    "Since p-value for both Shapiro and Chi-squared > alpha = 0.05, we can not reject H0 at significance level at alpha = 0.05.\n",
    "There is no evidence to show that it is not normally distributed."
   ]
  },
  {
   "cell_type": "markdown",
   "metadata": {},
   "source": [
    "### Homoscedasticity"
   ]
  },
  {
   "cell_type": "markdown",
   "metadata": {},
   "source": [
    "H0 : Homoscedasticity\n",
    "H1 : Not Homoscedasticity"
   ]
  },
  {
   "cell_type": "code",
   "execution_count": 41,
   "metadata": {},
   "outputs": [
    {
     "data": {
      "image/png": "[encoded data removed]",
      "text/plain": [
       "<Figure size 600x400 with 1 Axes>"
      ]
     },
     "metadata": {
      "needs_background": "light"
     },
     "output_type": "display_data"
    }
   ],
   "source": [
    "plt.plot(y_pre, SD, 'o', color = 'gray')\n",
    "plt.axhline(y=2, color = 'red', lw = 0.8)\n",
    "plt.axhline(y=0, color = 'blue')\n",
    "plt.axhline(y=-2, color = 'red', lw = 0.8)\n",
    "plt.title('Standardized Residual Plot')\n",
    "plt.xlabel('Predicted y value')\n",
    "plt.ylabel('Standardized Residual')\n",
    "plt.show()"
   ]
  },
  {
   "cell_type": "markdown",
   "metadata": {},
   "source": [
    "We do not reject H0. We can assume the variation is constant and the mean is around 0."
   ]
  },
  {
   "cell_type": "markdown",
   "metadata": {},
   "source": [
    "### Independence"
   ]
  },
  {
   "cell_type": "markdown",
   "metadata": {},
   "source": [
    "H0 : Independence\n",
    "    \n",
    "H1 : Not independence"
   ]
  },
  {
   "cell_type": "code",
   "execution_count": 42,
   "metadata": {},
   "outputs": [
    {
     "data": {
      "image/png": "[encoded data removed]",
      "text/plain": [
       "<Figure size 600x400 with 1 Axes>"
      ]
     },
     "metadata": {
      "needs_background": "light"
     },
     "output_type": "display_data"
    },
    {
     "name": "stdout",
     "output_type": "stream",
     "text": [
      "runs =  93\n",
      "n1 =  102\n",
      "n2 =  101\n",
      "runs_exp =  102.49753694581281\n",
      "stan_dev =  7.1060748203268504\n",
      "z =  -1.3365377069553517\n",
      "pval_z =  0.18137358434578132\n",
      "p_value for Z-statistic=  0.18137358434578132\n"
     ]
    }
   ],
   "source": [
    "Id = data[:, 0]\n",
    "plt.plot(Id, SD, 'o', color = 'gray')\n",
    "plt.axhline(y=0, color = 'blue')\n",
    "plt.axhline(y=2, color = 'red')\n",
    "plt.axhline(y=-2, color = 'red')\n",
    "plt.title('Standardized Residual Plot')\n",
    "plt.xlabel('Observation No.')\n",
    "plt.ylabel('Standardized Residual')\n",
    "plt.show()\n",
    "\n",
    "SD_median = statistics.median(SD)\n",
    "Z_pval = runsTest(SD, SD_median) \n",
    "print('p_value for Z-statistic= ', Z_pval)"
   ]
  },
  {
   "cell_type": "markdown",
   "metadata": {},
   "source": [
    "Since n1>20 and n2>20, we can apply run test with normal distribution.\n",
    "Since p-value > alpha = 0.05, we cannot reject H0 at significance level at alpha = 0.05.\n",
    "Thus we cannot assume the sample is not randomly selected."
   ]
  },
  {
   "cell_type": "markdown",
   "metadata": {},
   "source": [
    "#### Autocorreltaion\n",
    "\n",
    "H0: The data are not positively first-order correlated\n",
    "\n",
    "H1: The data are positively first-order correlated"
   ]
  },
  {
   "cell_type": "code",
   "execution_count": 43,
   "metadata": {},
   "outputs": [
    {
     "name": "stdout",
     "output_type": "stream",
     "text": [
      "x_square_sum =  203.8425628660268\n",
      "size =  203\n",
      "x_d =  [0. 0. 0. 0. 0. 0. 0. 0. 0. 0. 0. 0. 0. 0. 0. 0. 0. 0. 0. 0. 0. 0. 0. 0.\n",
      " 0. 0. 0. 0. 0. 0. 0. 0. 0. 0. 0. 0. 0. 0. 0. 0. 0. 0. 0. 0. 0. 0. 0. 0.\n",
      " 0. 0. 0. 0. 0. 0. 0. 0. 0. 0. 0. 0. 0. 0. 0. 0. 0. 0. 0. 0. 0. 0. 0. 0.\n",
      " 0. 0. 0. 0. 0. 0. 0. 0. 0. 0. 0. 0. 0. 0. 0. 0. 0. 0. 0. 0. 0. 0. 0. 0.\n",
      " 0. 0. 0. 0. 0. 0. 0. 0. 0. 0. 0. 0. 0. 0. 0. 0. 0. 0. 0. 0. 0. 0. 0. 0.\n",
      " 0. 0. 0. 0. 0. 0. 0. 0. 0. 0. 0. 0. 0. 0. 0. 0. 0. 0. 0. 0. 0. 0. 0. 0.\n",
      " 0. 0. 0. 0. 0. 0. 0. 0. 0. 0. 0. 0. 0. 0. 0. 0. 0. 0. 0. 0. 0. 0. 0. 0.\n",
      " 0. 0. 0. 0. 0. 0. 0. 0. 0. 0. 0. 0. 0. 0. 0. 0. 0. 0. 0. 0. 0. 0. 0. 0.\n",
      " 0. 0. 0. 0. 0. 0. 0. 0. 0. 0. 0.]\n",
      "x_d =  [ 0.         -1.98609688 -1.46449442  1.91138485  0.27653018  0.85845846\n",
      " -1.49461968 -0.02250616  1.36307242 -1.97789737 -1.1387912   2.45197912\n",
      "  1.43553187 -1.06387646 -1.19212749 -0.24960555 -1.47584814  1.69915026\n",
      "  0.62199052 -2.27325629  1.99521276  0.25231352 -1.77532957  0.32521611\n",
      "  1.72960772  0.52589713  0.11013638 -1.10841255  0.64444237 -1.02201237\n",
      "  1.34546846 -1.44586376  0.00572503  2.11903134 -0.02210596 -2.41253523\n",
      "  0.49727094 -0.68664662  1.72715071  0.02132817  1.14771477 -0.67092645\n",
      " -2.33471596  1.40020287  2.59743026 -2.0667066   1.60755912 -3.37238739\n",
      "  2.26074235  0.04094513  0.00994812 -1.87031853 -1.80330638  2.31630144\n",
      " -0.1112849   0.64007213 -1.26843323  1.90038357 -2.20538441  0.98757983\n",
      "  0.30166661 -0.51207719  0.52088031  0.48840728 -1.52535748 -0.16322613\n",
      "  1.5077077  -0.88986386 -0.26303181  0.06372637 -0.35166779  0.83657417\n",
      " -0.22609954  1.45111226 -0.65953514 -0.72603145  0.69372251 -1.56199829\n",
      "  2.06054211  0.03105621 -2.20476001  0.91732146  0.29347035 -0.68068042\n",
      "  0.67249109 -0.74542689  2.12183647  0.10486831 -0.72932078 -1.68535892\n",
      "  0.7249878   1.73746463 -0.57791047 -1.80590497  0.80255229  0.20465001\n",
      " -0.35486896  0.46940861  0.83052207 -1.27305856  0.27093585  0.25520341\n",
      "  0.44639433 -0.40589493 -0.17238203  0.78135221 -0.04721308 -0.6495054\n",
      " -1.65924807  1.43390177  0.99449462 -0.20767169 -2.18630984  1.27395212\n",
      "  0.98823621 -1.04131087 -1.00731363  1.30565725  0.16306474  1.48110441\n",
      " -1.5151943  -0.85002472  0.72352811  0.31184849  0.15844288  0.05487546\n",
      "  0.38440356  0.5080668  -1.43043359  0.88934156  0.09738536 -0.19072658\n",
      " -0.51906193 -0.43216167  0.68123398 -1.43781836  0.47275099  0.60463889\n",
      " -0.07831713 -1.92519017  0.93029548  1.91518334 -1.24445345 -2.00187264\n",
      "  2.53319158 -1.05510924  1.06635965  0.17653808 -0.4490197   0.76117256\n",
      "  0.91567961 -3.97546438  2.51598063 -0.35968586  0.50514283  0.54869872\n",
      " -2.57309232  2.61202171 -0.36160694 -2.0528467   2.26109481  0.67369773\n",
      " -0.15963137 -0.99981737 -0.6350984  -1.86446205  3.26613669  0.0461078\n",
      " -1.58594067  0.75902781 -0.82485243  0.45993789  0.11316911  0.28334164\n",
      " -0.90227969 -0.46270156  0.57226374  2.11368137 -1.40630307 -0.17592954\n",
      " -0.41952655  0.77590774  0.2998756  -0.02863374 -2.84316744  3.41920335\n",
      "  0.36594233 -1.48733819  0.97694428 -0.44290698 -2.9494082   4.51434376\n",
      " -1.48483054 -1.3963853   0.81822     0.3708784  -0.50332513  0.23417877\n",
      " -1.80339059  1.46658944 -1.05467206 -1.09305158  3.85197621]\n",
      "d =  1.905710940556146\n",
      "1.905710940556146\n"
     ]
    }
   ],
   "source": [
    "d_w = Durbin_Watson_test(SD)\n",
    "print(d_w)"
   ]
  },
  {
   "cell_type": "markdown",
   "metadata": {},
   "source": [
    "Because the durbin watson critical value table is only up to 200, we use 200 as approximation of sample size.\n",
    "\n",
    "Since dU < d= 1.9057109405561456 < 4-dU, we can not reject H0.\n",
    "\n",
    "Thus, there is not enough evidence to infer that first order auto-correlation exist."
   ]
  },
  {
   "cell_type": "markdown",
   "metadata": {},
   "source": [
    "### 5. Assess the fitted model "
   ]
  },
  {
   "cell_type": "code",
   "execution_count": 44,
   "metadata": {},
   "outputs": [
    {
     "name": "stdout",
     "output_type": "stream",
     "text": [
      "standard error =  0.48227811014934974\n",
      "mean of y 4.50595139515934\n",
      "std of y 0.7913841654376857\n",
      "R-Squared =  0.639595191742671\n",
      "Adjusted R-Squared =  0.6304478615838556\n",
      "F value =  69.92151596564827\n",
      "SSR =  81.315987573759 df =  5.0 MSR =  16.263197514751802\n",
      "SSE =  45.82065857925798 df =  197.0 MSE =  0.2325921755292283\n",
      "F =  69.92151596564827\n",
      "F test =  <F test: F=array([[69.92151597]]), p=8.533814530271676e-42, df_denom=197, df_num=5>\n"
     ]
    }
   ],
   "source": [
    "print(\"standard error = \", result.mse_resid ** 0.5)\n",
    "print(\"mean of y\", data[:, 1].mean())\n",
    "print(\"std of y\", data[:, 1].std())\n",
    "print(\"R-Squared = \", result.rsquared)\n",
    "print(\"Adjusted R-Squared = \",result.rsquared_adj)\n",
    "f_res = result.fvalue\n",
    "print(\"F value = \", f_res)\n",
    "MSE = result.mse_resid\n",
    "df_model = result.df_model\n",
    "df_error = result.df_resid\n",
    "MSR = f_res * MSE\n",
    "SSR = MSR* df_model\n",
    "print(\"SSR = \", SSR, \"df = \", df_model, \"MSR = \", MSR)\n",
    "print(\"SSE = \", MSE * df_error, \"df = \", df_error, \"MSE = \", MSE)\n",
    "print(\"F = \", MSR / MSE)\n",
    "A = np.identity(len(result.params))\n",
    "A = A[1:,:]\n",
    "print(\"F test = \", result.f_test(A))"
   ]
  },
  {
   "cell_type": "markdown",
   "metadata": {},
   "source": [
    "####  Standard Error of Estimate\n",
    "\n",
    "Compared to y_bar, Se is relatively small. Hence our regression model of is good.\n",
    "\n",
    "#### R2\n",
    "R2 = 0.6395951917426709 which means about 64.0% of the variation in comments is explained by this model. The rest(36.0%) remains unexplained by this model. Difference between r-squared and adjusted r-squared is low(< 0.06), so the model has not problem of over-fitting.\n",
    "\n",
    "\n",
    "#### F test\n",
    "\n",
    "H0: $\\beta_1$ = $\\beta_2$ = $\\beta_3 =  \\beta_4 = \\beta_5 = 0$  \n",
    "\n",
    "H1: At least one $\\beta_i$ is not equal to zero. (i = 1,2,3,4,5)\n",
    "\n",
    "p-value of F statistic is 8.533814518904075e-42 < 0.05, rejects null hypothesis, there is enough evidence to conclude At least one $\\beta_i$ is not equal to zero, the model is valid."
   ]
  },
  {
   "cell_type": "markdown",
   "metadata": {},
   "source": [
    "#### T test of Coeffiecients\n",
    "\n",
    "for i = 1,2,3,4,5\n",
    "\n",
    "H0:  $\\beta_i = 0$\n",
    "    \n",
    "H1:  $\\beta_i \\neq 0$\n",
    "\n"
   ]
  },
  {
   "cell_type": "markdown",
   "metadata": {},
   "source": [
    "p-value of total_price =  0.018. Since p-value < alpha = 0.05, we reject H0 at significance level at alpha = 0.05.\n",
    "<br>There's enough evidence to infer that the total price is an important variable in the linear regression model of comments.\n",
    "\n",
    "p-value of likes = 0.000. Since p-value < alpha = 0.05, we reject H0 at significance level at alpha = 0.05. \n",
    "<br>There's enough evidence to infer that the number of likes is an important variable in the linear regression model of comments.\n",
    "\n",
    "p-value of condition_1 = 0.001. Since p-value < alpha = 0.05, we reject H0 at significance level at alpha = 0.05. \n",
    "<br>There's enough evidence to infer that the condition (whether to fill a survey) is an important variable in the linear regression model of comments.\n",
    "\n",
    "p-value of tags_123 = 0.000. Since p-value < alpha = 0.05, we reject H0 at significance level at alpha = 0.05. \n",
    "<br>There's enough evidence to infer that the required number of people tagged (1 to 3 people or otherwise) is an important variable in the linear regression model of comments.\n",
    "\n",
    "p-value of Week_Number = 0.026. Since p-value < alpha = 0.05, we reject H0 at significance level at alpha = 0.05. \n",
    "<br>There's enough evidence to infer that the week number is an important variable in the linear regression model of comments."
   ]
  },
  {
   "cell_type": "markdown",
   "metadata": {},
   "source": [
    "### 6. Interpretation"
   ]
  },
  {
   "cell_type": "markdown",
   "metadata": {},
   "source": [
    "Model:\n",
    "    \n",
    "y = 2.2784 + 0.000027 x1 + 0.010225 x2 + 0.352764 x3 + 0.954523 x4 + 0.004858 x5 \n",
    "\n",
    "b0=2.2784: This is the intercept, the value of y when all the variables take the value zero. Since the data range of all the independent variables do not cover the value zero, do not interpret the intercept.\n",
    "\n",
    "b1=0.000027: In this model, for each additional NTD dollar, the logarithm of number of comments would increase by 0.000027(assuming the other variables are held constant).\n",
    "\n",
    "b2=0.010225: In this model, for each additional like, the logarithm of number of comments would increase by 0.010225(assuming the other variables are held constant).\n",
    "\n",
    "b3=0.352764: In this model, if you fill survey, the logarithm of number of comments would be 0.352764 more than if you don't fill survey(assuming the other variables are held constant).\n",
    "\n",
    "b4=0.954523: In this model, if you tag 1 or 2 or 3 people, the logarithm of number of comments would be 0.954523 more than if you don't tag 1 or 2 or 3 people(assuming the other variables are held constant).\n",
    "\n",
    "b5=0.004858: In this model, for each additional week, the logarithm of number of comments would increase by 0.004858 (assuming the other variables are held constant)."
   ]
  },
  {
   "cell_type": "markdown",
   "metadata": {},
   "source": [
    "### 7. Apply for prediction "
   ]
  },
  {
   "cell_type": "markdown",
   "metadata": {},
   "source": [
    "As an example, assume total_price = 500, likes = 60, tags_123 = 1, condition_1 = 1, week = 23"
   ]
  },
  {
   "cell_type": "code",
   "execution_count": 45,
   "metadata": {},
   "outputs": [
    {
     "name": "stdout",
     "output_type": "stream",
     "text": [
      "make CI and PI prediction at mean of x =  [  1 500  60   1   1  23]\n",
      "y_head =  4.324570820469244\n",
      "confidence interval of mean = [4.2431, 4.4060] \n",
      "Prediction interval = [3.3700, 5.2791] \n",
      "[4.24310129 4.40604035 3.36999735 5.27914429]\n"
     ]
    }
   ],
   "source": [
    "xg = np.array([1, 500, 60, 1, 1, 23])\n",
    "CI_PI_result = CI_PI_regression(X_ar, y, xg, 0.05)\n",
    "print(CI_PI_result)"
   ]
  },
  {
   "cell_type": "markdown",
   "metadata": {},
   "source": [
    "We predict that the logarithm of comments will fall between 3.3700 and 5.2791\n",
    "\n",
    "We predict that the mean logarithm of comments will fall between 4.2431 and 4.4060\n",
    "\n",
    "We transform logarithm of comments back to comments to see the final result."
   ]
  },
  {
   "cell_type": "code",
   "execution_count": 46,
   "metadata": {},
   "outputs": [
    {
     "name": "stdout",
     "output_type": "stream",
     "text": [
      "[ 69.62343976  81.94434949  29.07844989 196.2019125 ]\n"
     ]
    }
   ],
   "source": [
    "CI_PI_result_exp = np.exp(CI_PI_result)\n",
    "print(CI_PI_result_exp)"
   ]
  },
  {
   "cell_type": "markdown",
   "metadata": {},
   "source": [
    "We predict that comments will fall between 29.07844989 and 196.2019125\n",
    "\n",
    "We predict that the mean of comments will fall between 69.62343976 and 81.94434949"
   ]
  }
 ],
 "metadata": {
  "kernelspec": {
   "display_name": "Python 3",
   "language": "python",
   "name": "python3"
  },
  "language_info": {
   "codemirror_mode": {
    "name": "ipython",
    "version": 3
   },
   "file_extension": ".py",
   "mimetype": "text/x-python",
   "name": "python",
   "nbconvert_exporter": "python",
   "pygments_lexer": "ipython3",
   "version": "3.7.9"
  }
 },
 "nbformat": 4,
 "nbformat_minor": 4
}
